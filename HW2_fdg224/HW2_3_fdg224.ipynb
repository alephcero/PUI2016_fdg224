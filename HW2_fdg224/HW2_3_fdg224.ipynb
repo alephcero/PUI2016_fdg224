{
 "cells": [
  {
   "cell_type": "code",
   "execution_count": 60,
   "metadata": {
    "collapsed": false
   },
   "outputs": [],
   "source": [
    "import pandas as pd\n",
    "import os\n",
    "import matplotlib.pyplot as plt\n",
    "%matplotlib inline"
   ]
  },
  {
   "cell_type": "code",
   "execution_count": 22,
   "metadata": {
    "collapsed": false
   },
   "outputs": [
    {
     "name": "stdout",
     "output_type": "stream",
     "text": [
      "/gws/open/NYCOpenData/nycopendata/data\n"
     ]
    }
   ],
   "source": [
    "print os.environ['DFDATA']"
   ]
  },
  {
   "cell_type": "code",
   "execution_count": 39,
   "metadata": {
    "collapsed": false
   },
   "outputs": [
    {
     "name": "stdout",
     "output_type": "stream",
     "text": [
      "/gws/open/NYCOpenData/nycopendata/data/zpd4-gad8/1414245852/zpd4-gad8\n"
     ]
    }
   ],
   "source": [
    "csvFile =  os.environ['DFDATA']+'/'+'zpd4-gad8/1414245852/zpd4-gad8'\n",
    "#csvFile = 'https://data.cityofnewyork.us/resource/zpd4-gad8.csv'\n",
    "print csvFile"
   ]
  },
  {
   "cell_type": "code",
   "execution_count": 40,
   "metadata": {
    "collapsed": false
   },
   "outputs": [
    {
     "data": {
      "text/html": [
       "<div>\n",
       "<table border=\"1\" class=\"dataframe\">\n",
       "  <thead>\n",
       "    <tr style=\"text-align: right;\">\n",
       "      <th></th>\n",
       "      <th>Borough</th>\n",
       "      <th>Grade</th>\n",
       "      <th>Year</th>\n",
       "      <th>Category</th>\n",
       "      <th>Number Tested</th>\n",
       "      <th>Mean Scale Score</th>\n",
       "      <th>Level 1 #</th>\n",
       "      <th>Level 1 %</th>\n",
       "      <th>Level 2 #</th>\n",
       "      <th>Level 2 %</th>\n",
       "      <th>Level 3 #</th>\n",
       "      <th>Level 3 %</th>\n",
       "      <th>Level 4 #</th>\n",
       "      <th>Level 4 %</th>\n",
       "      <th>Level 3+4 #</th>\n",
       "      <th>Level 3+4 %</th>\n",
       "    </tr>\n",
       "  </thead>\n",
       "  <tbody>\n",
       "    <tr>\n",
       "      <th>0</th>\n",
       "      <td>BRONX</td>\n",
       "      <td>3</td>\n",
       "      <td>2006</td>\n",
       "      <td>ELL</td>\n",
       "      <td>3754</td>\n",
       "      <td>645</td>\n",
       "      <td>876</td>\n",
       "      <td>23.3%</td>\n",
       "      <td>1037</td>\n",
       "      <td>27.6%</td>\n",
       "      <td>1639</td>\n",
       "      <td>43.7%</td>\n",
       "      <td>202</td>\n",
       "      <td>5.4%</td>\n",
       "      <td>1841</td>\n",
       "      <td>49%</td>\n",
       "    </tr>\n",
       "    <tr>\n",
       "      <th>1</th>\n",
       "      <td>BRONX</td>\n",
       "      <td>3</td>\n",
       "      <td>2006</td>\n",
       "      <td>EP</td>\n",
       "      <td>12691</td>\n",
       "      <td>669</td>\n",
       "      <td>1186</td>\n",
       "      <td>9.3%</td>\n",
       "      <td>2220</td>\n",
       "      <td>17.5%</td>\n",
       "      <td>6979</td>\n",
       "      <td>55%</td>\n",
       "      <td>2306</td>\n",
       "      <td>18.2%</td>\n",
       "      <td>9285</td>\n",
       "      <td>73.2%</td>\n",
       "    </tr>\n",
       "    <tr>\n",
       "      <th>2</th>\n",
       "      <td>BRONX</td>\n",
       "      <td>3</td>\n",
       "      <td>2007</td>\n",
       "      <td>ELL</td>\n",
       "      <td>3726</td>\n",
       "      <td>659</td>\n",
       "      <td>489</td>\n",
       "      <td>13.1%</td>\n",
       "      <td>908</td>\n",
       "      <td>24.4%</td>\n",
       "      <td>1953</td>\n",
       "      <td>52.4%</td>\n",
       "      <td>376</td>\n",
       "      <td>10.1%</td>\n",
       "      <td>2329</td>\n",
       "      <td>62.5%</td>\n",
       "    </tr>\n",
       "    <tr>\n",
       "      <th>3</th>\n",
       "      <td>BRONX</td>\n",
       "      <td>3</td>\n",
       "      <td>2007</td>\n",
       "      <td>EP</td>\n",
       "      <td>12463</td>\n",
       "      <td>678</td>\n",
       "      <td>756</td>\n",
       "      <td>6.1%</td>\n",
       "      <td>1732</td>\n",
       "      <td>13.9%</td>\n",
       "      <td>7043</td>\n",
       "      <td>56.5%</td>\n",
       "      <td>2932</td>\n",
       "      <td>23.5%</td>\n",
       "      <td>9975</td>\n",
       "      <td>80%</td>\n",
       "    </tr>\n",
       "    <tr>\n",
       "      <th>4</th>\n",
       "      <td>BRONX</td>\n",
       "      <td>3</td>\n",
       "      <td>2008</td>\n",
       "      <td>ELL</td>\n",
       "      <td>3311</td>\n",
       "      <td>666</td>\n",
       "      <td>205</td>\n",
       "      <td>6.2%</td>\n",
       "      <td>620</td>\n",
       "      <td>18.7%</td>\n",
       "      <td>2242</td>\n",
       "      <td>67.7%</td>\n",
       "      <td>244</td>\n",
       "      <td>7.4%</td>\n",
       "      <td>2486</td>\n",
       "      <td>75.1%</td>\n",
       "    </tr>\n",
       "  </tbody>\n",
       "</table>\n",
       "</div>"
      ],
      "text/plain": [
       "  Borough Grade  Year Category  Number Tested  Mean Scale Score  Level 1 #  \\\n",
       "0   BRONX     3  2006      ELL           3754               645        876   \n",
       "1   BRONX     3  2006       EP          12691               669       1186   \n",
       "2   BRONX     3  2007      ELL           3726               659        489   \n",
       "3   BRONX     3  2007       EP          12463               678        756   \n",
       "4   BRONX     3  2008      ELL           3311               666        205   \n",
       "\n",
       "  Level 1 %  Level 2 # Level 2 %  Level 3 # Level 3 %  Level 4 # Level 4 %  \\\n",
       "0     23.3%       1037     27.6%       1639     43.7%        202      5.4%   \n",
       "1      9.3%       2220     17.5%       6979       55%       2306     18.2%   \n",
       "2     13.1%        908     24.4%       1953     52.4%        376     10.1%   \n",
       "3      6.1%       1732     13.9%       7043     56.5%       2932     23.5%   \n",
       "4      6.2%        620     18.7%       2242     67.7%        244      7.4%   \n",
       "\n",
       "   Level 3+4 # Level 3+4 %  \n",
       "0         1841         49%  \n",
       "1         9285       73.2%  \n",
       "2         2329       62.5%  \n",
       "3         9975         80%  \n",
       "4         2486       75.1%  "
      ]
     },
     "execution_count": 40,
     "metadata": {},
     "output_type": "execute_result"
    }
   ],
   "source": [
    "mathTest = pd.read_csv(csvFile,sep=',')\n",
    "mathTest.head()\n"
   ]
  },
  {
   "cell_type": "code",
   "execution_count": 50,
   "metadata": {
    "collapsed": false
   },
   "outputs": [
    {
     "data": {
      "text/html": [
       "<div>\n",
       "<table border=\"1\" class=\"dataframe\">\n",
       "  <thead>\n",
       "    <tr style=\"text-align: right;\">\n",
       "      <th></th>\n",
       "      <th>Number Tested</th>\n",
       "      <th>Mean Scale Score</th>\n",
       "    </tr>\n",
       "  </thead>\n",
       "  <tbody>\n",
       "    <tr>\n",
       "      <th>0</th>\n",
       "      <td>3754</td>\n",
       "      <td>645</td>\n",
       "    </tr>\n",
       "    <tr>\n",
       "      <th>1</th>\n",
       "      <td>12691</td>\n",
       "      <td>669</td>\n",
       "    </tr>\n",
       "    <tr>\n",
       "      <th>2</th>\n",
       "      <td>3726</td>\n",
       "      <td>659</td>\n",
       "    </tr>\n",
       "    <tr>\n",
       "      <th>3</th>\n",
       "      <td>12463</td>\n",
       "      <td>678</td>\n",
       "    </tr>\n",
       "    <tr>\n",
       "      <th>4</th>\n",
       "      <td>3311</td>\n",
       "      <td>666</td>\n",
       "    </tr>\n",
       "  </tbody>\n",
       "</table>\n",
       "</div>"
      ],
      "text/plain": [
       "   Number Tested  Mean Scale Score\n",
       "0           3754               645\n",
       "1          12691               669\n",
       "2           3726               659\n",
       "3          12463               678\n",
       "4           3311               666"
      ]
     },
     "execution_count": 50,
     "metadata": {},
     "output_type": "execute_result"
    }
   ],
   "source": [
    "mathTestLy = mathTest.iloc[:,4:6]\n",
    "mathTestLy.head()"
   ]
  },
  {
   "cell_type": "code",
   "execution_count": 57,
   "metadata": {
    "collapsed": false,
    "scrolled": true
   },
   "outputs": [
    {
     "data": {
      "text/plain": [
       "<matplotlib.text.Text at 0x7fec673e7690>"
      ]
     },
     "execution_count": 57,
     "metadata": {},
     "output_type": "execute_result"
    },
    {
     "data": {
      "image/png": "[encoded data removed]",
      "text/plain": [
       "<matplotlib.figure.Figure at 0x7fec670dc850>"
      ]
     },
     "metadata": {},
     "output_type": "display_data"
    }
   ],
   "source": [
    "plt.figure(figsize=(8,6))\n",
    "plt.scatter(mathTestLy['Number Tested'],mathTestLy['Mean Scale Score'])\n",
    "plt.xlabel('Number of student tested')\n",
    "plt.ylabel('Mean Scale Score')\n",
    "plt.title('NYS Math Test Results 2006-2011')"
   ]
  },
  {
   "cell_type": "markdown",
   "metadata": {},
   "source": [
    "## Figure 1\n",
    "Source: Department of Education (DOE)"
   ]
  },
  {
   "cell_type": "code",
   "execution_count": 61,
   "metadata": {
    "collapsed": true
   },
   "outputs": [],
   "source": [
    "#WORK GRAPH A LITTLE MORE"
   ]
  },
  {
   "cell_type": "code",
   "execution_count": null,
   "metadata": {
    "collapsed": true
   },
   "outputs": [],
   "source": []
  }
 ],
 "metadata": {
  "kernelspec": {
   "display_name": "PUI2016_Python2",
   "language": "python",
   "name": "pui2016_python2"
  },
  "language_info": {
   "codemirror_mode": {
    "name": "ipython",
    "version": 2
   },
   "file_extension": ".py",
   "mimetype": "text/x-python",
   "name": "python",
   "nbconvert_exporter": "python",
   "pygments_lexer": "ipython2",
   "version": "2.7.12"
  }
 },
 "nbformat": 4,
 "nbformat_minor": 0
}
