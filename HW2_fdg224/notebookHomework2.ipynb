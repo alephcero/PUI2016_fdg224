{
 "cells": [
  {
   "cell_type": "code",
   "execution_count": 100,
   "metadata": {
    "collapsed": true
   },
   "outputs": [],
   "source": [
    "#assigment 2\n",
    "import os\n",
    "import sys\n",
    "import json\n",
    "try:\n",
    "    import urllib2 as urllib\n",
    "except ImportError:\n",
    "    import urllib.request as urllib"
   ]
  },
  {
   "cell_type": "code",
   "execution_count": 101,
   "metadata": {
    "collapsed": true
   },
   "outputs": [],
   "source": [
    "#functions ESTO HAY QUE CAMBIARLO\n",
    "def getBusList(rawMTAapi):\n",
    "    ''' This function takes a parsed input as given by the MTA API for a single busline\n",
    "    and returns a list of buses, where every element of a list is the VehicleActivity \n",
    "    of the bus'''\n",
    "    return rawMTAapi['Siri']['ServiceDelivery']['VehicleMonitoringDelivery'][0]['VehicleActivity']\n",
    "\n",
    "def busLocation(bus,coordinate):\n",
    "    '''This function takes the VehicleActivity of a bus (in dictionary format) and returns\n",
    "    its latitude of longitude'''\n",
    "    return bus['MonitoredVehicleJourney']['VehicleLocation'][coordinate]\n",
    "\n"
   ]
  },
  {
   "cell_type": "code",
   "execution_count": 102,
   "metadata": {
    "collapsed": false
   },
   "outputs": [
    {
     "name": "stdout",
     "output_type": "stream",
     "text": [
      "b4824eee-4f13-4104-a0c4-c9d96e83409a\n",
      "B52\n"
     ]
    }
   ],
   "source": [
    "#set arguments\n",
    "mta_key = os.getenv('MTAKEY') #sys.argv[1]\n",
    "print mta_key\n",
    "bus_line = 'B52' #sys.argv[2]\n",
    "print bus_line\n",
    "\n"
   ]
  },
  {
   "cell_type": "code",
   "execution_count": 103,
   "metadata": {
    "collapsed": true
   },
   "outputs": [],
   "source": [
    "#download data\n",
    "url = \"http://bustime.mta.info/api/siri/vehicle-monitoring.json?key=\" + mta_key + '&VehicleMonitoringDetailLevel=calls&LineRef=' + bus_line \n",
    "response = urllib.urlopen(url)\n",
    "rawData = response.read().decode(\"utf-8\")\n",
    "parseData = json.loads(rawData)"
   ]
  },
  {
   "cell_type": "code",
   "execution_count": 105,
   "metadata": {
    "collapsed": false
   },
   "outputs": [
    {
     "data": {
      "text/plain": [
       "1"
      ]
     },
     "execution_count": 105,
     "metadata": {},
     "output_type": "execute_result"
    }
   ],
   "source": [
    "len(parseData)"
   ]
  },
  {
   "cell_type": "code",
   "execution_count": null,
   "metadata": {
    "collapsed": true
   },
   "outputs": [],
   "source": [
    "#POR QUE HAY TRES INPUTS EN EL TEMRMINAL"
   ]
  }
 ],
 "metadata": {
  "kernelspec": {
   "display_name": "Python [Root]",
   "language": "python",
   "name": "Python [Root]"
  },
  "language_info": {
   "codemirror_mode": {
    "name": "ipython",
    "version": 2
   },
   "file_extension": ".py",
   "mimetype": "text/x-python",
   "name": "python",
   "nbconvert_exporter": "python",
   "pygments_lexer": "ipython2",
   "version": "2.7.12"
  }
 },
 "nbformat": 4,
 "nbformat_minor": 0
}
