{
 "cells": [
  {
   "cell_type": "code",
   "execution_count": 1,
   "metadata": {
    "collapsed": true
   },
   "outputs": [],
   "source": [
    "#assigment 2\n",
    "import os\n",
    "import sys\n",
    "import json\n",
    "try:\n",
    "    import urllib2 as urllib\n",
    "except ImportError:\n",
    "    import urllib.request as urllib"
   ]
  },
  {
   "cell_type": "code",
   "execution_count": 2,
   "metadata": {
    "collapsed": true
   },
   "outputs": [],
   "source": [
    "#functions \n",
    "def getBusList(parsedMTAapi):\n",
    "    ''' This function takes a parsed input as given by the MTA API for a single busline\n",
    "    and returns a list of buses, where every element of a list is the VehicleActivity \n",
    "    of the bus'''\n",
    "    return parsedMTAapi['Siri']['ServiceDelivery']['VehicleMonitoringDelivery'][0]['VehicleActivity']\n",
    "\n",
    "def busLocation(bus,coordinate):\n",
    "    '''This function takes the VehicleActivity of a bus (in dictionary format) and returns\n",
    "    its latitude of longitude'''\n",
    "    return bus['MonitoredVehicleJourney']['VehicleLocation'][coordinate]\n",
    "\n",
    "def busStopName(bus):\n",
    "    '''This function takes a VehicleActivity of a bus (in dictionary format) and returns\n",
    "    its stop name '''\n",
    "    return bus['MonitoredVehicleJourney']['OnwardCalls']['OnwardCall'][0]['StopPointName']\n",
    "    \n",
    "def busStopStatus(bus):\n",
    "    '''This function takes a VehicleActivity of a bus (in dictionary format) and returns\n",
    "    its stop status'''\n",
    "    return bus['MonitoredVehicleJourney']['OnwardCalls']['OnwardCall'][0]['Extensions']['Distances']['PresentableDistance']"
   ]
  },
  {
   "cell_type": "code",
   "execution_count": 102,
   "metadata": {
    "collapsed": false
   },
   "outputs": [
    {
     "name": "stdout",
     "output_type": "stream",
     "text": [
      "b4824eee-4f13-4104-a0c4-c9d96e83409a\n",
      "B52\n"
     ]
    }
   ],
   "source": [
    "#set arguments\n",
    "mta_key = os.getenv('MTAKEY') #sys.argv[1]\n",
    "print mta_key\n",
    "bus_line = 'B52' #sys.argv[2]\n",
    "print bus_line\n",
    "\n"
   ]
  },
  {
   "cell_type": "code",
   "execution_count": 103,
   "metadata": {
    "collapsed": true
   },
   "outputs": [],
   "source": [
    "#download data\n",
    "#url = \"http://bustime.mta.info/api/siri/vehicle-monitoring.json?key=\" + mta_key + '&VehicleMonitoringDetailLevel=calls&LineRef=' + bus_line \n",
    "#response = urllib.urlopen(url)\n",
    "#rawData = response.read().decode(\"utf-8\")\n",
    "#parseData = json.loads(rawData)"
   ]
  },
  {
   "cell_type": "code",
   "execution_count": 3,
   "metadata": {
    "collapsed": false
   },
   "outputs": [
    {
     "data": {
      "text/plain": [
       "dict"
      ]
     },
     "execution_count": 3,
     "metadata": {},
     "output_type": "execute_result"
    }
   ],
   "source": [
    "rawData = open('data', 'r').read()\n",
    "parseData = json.loads(rawData)\n",
    "type(parseData)"
   ]
  },
  {
   "cell_type": "code",
   "execution_count": 11,
   "metadata": {
    "collapsed": true
   },
   "outputs": [],
   "source": [
    "#\"MonitoredCall\"\n",
    "##\"StopPointName\" PARADA ACTUAL\n",
    "#\"OnwardCalls\"\n",
    "## \"OnwardCall\" LISTA, CADA ELEMENTO UNA PARADA\n",
    "### \"StopPointName\":\"GATES AV/WYCKOFF AV\" PRIMER ELEMENTO, PARADA ACTUAL O MAS CERCANA"
   ]
  },
  {
   "cell_type": "code",
   "execution_count": 4,
   "metadata": {
    "collapsed": false
   },
   "outputs": [],
   "source": [
    "busesList = getBusList(parseData)\n"
   ]
  },
  {
   "cell_type": "code",
   "execution_count": 34,
   "metadata": {
    "collapsed": false
   },
   "outputs": [
    {
     "name": "stdout",
     "output_type": "stream",
     "text": [
      "GATES AV/WYCKOFF AV at stop\n"
     ]
    }
   ],
   "source": [
    "bondi = busesList[0]\n",
    "print busFirstTwoStops(bondi)[0], busFirstTwoStops(bondi)[1]"
   ]
  },
  {
   "cell_type": "code",
   "execution_count": 12,
   "metadata": {
    "collapsed": false
   },
   "outputs": [
    {
     "name": "stdout",
     "output_type": "stream",
     "text": [
      "Latitude,Longitude,Stop Name,Stop Status\n",
      "40.700019,-73.911724,GATES AV/WYCKOFF AV,at stop\n",
      "40.687908,-73.935885,GATES AV/LEWIS AV,at stop\n",
      "40.688941,-73.926900,GATES AV/PATCHEN AV,at stop\n",
      "40.691369,-73.987128,FULTON ST/JAY ST,at stop\n",
      "40.687232,-73.976718,FULTON ST/LAFAYETTE AV,at stop\n",
      "40.688529,-73.930490,GATES AV/MALCOLM X BL,at stop\n",
      "40.690783,-73.985662,FULTON ST/HOYT ST,at stop\n",
      "40.688566,-73.930165,GATES AV/MALCOLM X BL,approaching\n",
      "40.687725,-73.957018,FRANKLIN AV/GREENE AV,approaching\n",
      "40.688205,-73.933310,GATES AV/STUYVESANT AV,approaching\n",
      "40.694488,-73.990580,CADMAN PZ W/TILLARY ST,approaching\n",
      "40.693172,-73.989114,ADAMS ST/BKLYN SUPREME CRT,approaching\n",
      "40.692334,-73.989612,JORALEMON ST/COURT ST,approaching\n",
      "40.692334,-73.989612,JORALEMON ST/COURT ST,approaching\n",
      "40.686104,-73.973924,FULTON ST/S ELLIOTT PL,approaching\n",
      "40.692156,-73.989107,JORALEMON ST/COURT ST,approaching\n",
      "40.701035,-73.910662,GATES AV/WYCKOFF AV,approaching\n",
      "40.686392,-73.959511,GREENE AV/CLASSON AV,approaching\n",
      "40.690190,-73.921378,GATES AV/BROADWAY,approaching\n",
      "40.687336,-73.940839,GATES AV/MARCUS GARVEY BL,< 1 stop away\n"
     ]
    }
   ],
   "source": [
    "print 'Latitude,Longitude,Stop Name,Stop Status'\n",
    "busID = 0\n",
    "while busID < len(busesList):\n",
    "    lat = busLocation(busesList[busID],'Latitude')\n",
    "    longi =  busLocation(busesList[busID],'Longitude')\n",
    "    stopName = busStopName(busesList[busID])\n",
    "    stopStatus = busStopStatus(busesList[busID])\n",
    "    print '%2.6f,%2.6f,%s,%s' %(lat,longi,stopName,stopStatus)\n",
    "    busID += 1"
   ]
  },
  {
   "cell_type": "code",
   "execution_count": null,
   "metadata": {
    "collapsed": true
   },
   "outputs": [],
   "source": []
  }
 ],
 "metadata": {
  "kernelspec": {
   "display_name": "Python [Root]",
   "language": "python",
   "name": "Python [Root]"
  },
  "language_info": {
   "codemirror_mode": {
    "name": "ipython",
    "version": 2
   },
   "file_extension": ".py",
   "mimetype": "text/x-python",
   "name": "python",
   "nbconvert_exporter": "python",
   "pygments_lexer": "ipython2",
   "version": "2.7.12"
  }
 },
 "nbformat": 4,
 "nbformat_minor": 0
}
