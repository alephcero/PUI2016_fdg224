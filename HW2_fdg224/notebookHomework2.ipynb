{
 "cells": [
  {
   "cell_type": "code",
   "execution_count": 18,
   "metadata": {
    "collapsed": true
   },
   "outputs": [],
   "source": [
    "import os\n",
    "import sys\n",
    "import json"
   ]
  },
  {
   "cell_type": "markdown",
   "metadata": {},
   "source": [
    "* the bus name,\n",
    "* the number of vehicles\n",
    "* their current position"
   ]
  },
  {
   "cell_type": "code",
   "execution_count": 19,
   "metadata": {
    "collapsed": false
   },
   "outputs": [],
   "source": [
    "busNumber = 'B52'\n",
    "caca = open('data').readlines()[0]\n"
   ]
  },
  {
   "cell_type": "code",
   "execution_count": 20,
   "metadata": {
    "collapsed": false
   },
   "outputs": [],
   "source": [
    "#data = data.read().decode(\"utf-8\")\n",
    "data = json.loads(caca)"
   ]
  },
  {
   "cell_type": "markdown",
   "metadata": {
    "collapsed": true
   },
   "source": [
    "Levels\n",
    "1. Siri\n",
    "    1. ServiceDelivery\n",
    "        1. VehicleMonitoringDelivery\n",
    "        1. SituationExchangeDelivery"
   ]
  },
  {
   "cell_type": "code",
   "execution_count": 41,
   "metadata": {
    "collapsed": false
   },
   "outputs": [],
   "source": [
    "#a partir de vehicle monitoring delivery se hace lista, agrego 0\n",
    "busesList = data['Siri']['ServiceDelivery']['VehicleMonitoringDelivery'][0]['VehicleActivity']\n",
    "amountOfBuses = len(busesList)"
   ]
  },
  {
   "cell_type": "code",
   "execution_count": 63,
   "metadata": {
    "collapsed": false
   },
   "outputs": [
    {
     "data": {
      "text/plain": [
       "40.700019"
      ]
     },
     "execution_count": 63,
     "metadata": {},
     "output_type": "execute_result"
    }
   ],
   "source": [
    "bus = busesList[0]\n",
    "bus['MonitoredVehicleJourney']['VehicleLocation']['Latitude']"
   ]
  },
  {
   "cell_type": "code",
   "execution_count": 68,
   "metadata": {
    "collapsed": false
   },
   "outputs": [
    {
     "ename": "SyntaxError",
     "evalue": "invalid syntax (<ipython-input-68-68b9551218a9>, line 1)",
     "output_type": "error",
     "traceback": [
      "\u001b[1;36m  File \u001b[1;32m\"<ipython-input-68-68b9551218a9>\"\u001b[1;36m, line \u001b[1;32m1\u001b[0m\n\u001b[1;33m    def locationBuses()\u001b[0m\n\u001b[1;37m                       ^\u001b[0m\n\u001b[1;31mSyntaxError\u001b[0m\u001b[1;31m:\u001b[0m invalid syntax\n"
     ]
    }
   ],
   "source": [
    "def locationBuses()\n",
    "\"ver de hacer esta fubciuon que tome una lista y devuelva una tupla o diccionario\""
   ]
  },
  {
   "cell_type": "code",
   "execution_count": 67,
   "metadata": {
    "collapsed": false
   },
   "outputs": [
    {
     "name": "stdout",
     "output_type": "stream",
     "text": [
      "Bus Line : B52\n",
      "Number of Active Buses : 20\n",
      "Bus 0 is at latitude 40.700019 and longitude -73.911724\n",
      "Bus 1 is at latitude 40.687908 and longitude -73.935885\n",
      "Bus 2 is at latitude 40.688941 and longitude -73.9269\n",
      "Bus 3 is at latitude 40.691369 and longitude -73.987128\n",
      "Bus 4 is at latitude 40.687232 and longitude -73.976718\n",
      "Bus 5 is at latitude 40.688529 and longitude -73.93049\n",
      "Bus 6 is at latitude 40.690783 and longitude -73.985662\n",
      "Bus 7 is at latitude 40.688566 and longitude -73.930165\n",
      "Bus 8 is at latitude 40.687725 and longitude -73.957018\n",
      "Bus 9 is at latitude 40.688205 and longitude -73.93331\n",
      "Bus 10 is at latitude 40.694488 and longitude -73.99058\n",
      "Bus 11 is at latitude 40.693172 and longitude -73.989114\n",
      "Bus 12 is at latitude 40.692334 and longitude -73.989612\n",
      "Bus 13 is at latitude 40.692334 and longitude -73.989612\n",
      "Bus 14 is at latitude 40.686104 and longitude -73.973924\n",
      "Bus 15 is at latitude 40.692156 and longitude -73.989107\n",
      "Bus 16 is at latitude 40.701035 and longitude -73.910662\n",
      "Bus 17 is at latitude 40.686392 and longitude -73.959511\n",
      "Bus 18 is at latitude 40.69019 and longitude -73.921378\n",
      "Bus 19 is at latitude 40.687336 and longitude -73.940839\n"
     ]
    }
   ],
   "source": [
    "#each bus, item on a list\n",
    "print 'Bus Line :', busNumber\n",
    "print 'Number of Active Buses :', amountOfBuses\n",
    "for bus in range(amountOfBuses):\n",
    "    busLatitude = busesList[bus]['MonitoredVehicleJourney']['VehicleLocation']['Latitude']\n",
    "    busLongitude = busesList[bus]['MonitoredVehicleJourney']['VehicleLocation']['Longitude']\n",
    "    print 'Bus',bus,'is at latitude',busLatitude,'and longitude',busLongitude"
   ]
  },
  {
   "cell_type": "code",
   "execution_count": null,
   "metadata": {
    "collapsed": true
   },
   "outputs": [],
   "source": []
  }
 ],
 "metadata": {
  "kernelspec": {
   "display_name": "Python [Root]",
   "language": "python",
   "name": "Python [Root]"
  },
  "language_info": {
   "codemirror_mode": {
    "name": "ipython",
    "version": 2
   },
   "file_extension": ".py",
   "mimetype": "text/x-python",
   "name": "python",
   "nbconvert_exporter": "python",
   "pygments_lexer": "ipython2",
   "version": "2.7.12"
  }
 },
 "nbformat": 4,
 "nbformat_minor": 0
}
