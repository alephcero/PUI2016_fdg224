{
 "cells": [
  {
   "cell_type": "code",
   "execution_count": 39,
   "metadata": {
    "collapsed": true
   },
   "outputs": [],
   "source": [
    "import os\n",
    "import sys\n",
    "import json"
   ]
  },
  {
   "cell_type": "code",
   "execution_count": 40,
   "metadata": {
    "collapsed": true
   },
   "outputs": [],
   "source": [
    "#functions\n",
    "def getBusList(rawMTAapi):\n",
    "    ''' This function takes a parsed input as given by the MTA API for a single busline\n",
    "    and returns a list of buses, where every element of a list is the VehicleActivity \n",
    "    of the bus'''\n",
    "    return rawMTAapi['Siri']['ServiceDelivery']['VehicleMonitoringDelivery'][0]['VehicleActivity']\n",
    "\n",
    "def busLocation(bus,coordinate):\n",
    "    '''This function takes the VehicleActivity of a bus (in dictionary format) and returns\n",
    "    its latitude of longitude'''\n",
    "    if coordinate == 'Latitude':\n",
    "        return bus['MonitoredVehicleJourney']['VehicleLocation']['Latitude']\n",
    "    elif coordinate == 'Longitude':\n",
    "        return bus['MonitoredVehicleJourney']['VehicleLocation']['Longitude']\n"
   ]
  },
  {
   "cell_type": "code",
   "execution_count": 41,
   "metadata": {
    "collapsed": false
   },
   "outputs": [],
   "source": [
    "#input via python sys.argv[]\n",
    "busNumber = 'B52'\n",
    "\n",
    "#change to the open MTA\n",
    "originalData = open('data').readlines()[0]\n",
    "#data = data.read().decode(\"utf-8\")\n",
    "parsedData = json.loads(originalData)"
   ]
  },
  {
   "cell_type": "code",
   "execution_count": 42,
   "metadata": {
    "collapsed": false
   },
   "outputs": [],
   "source": [
    "#a partir de vehicle monitoring delivery se hace lista, agrego 0\n",
    "busesList = getBusList(parsedData)\n",
    "amountOfBuses = len(busesList)"
   ]
  },
  {
   "cell_type": "code",
   "execution_count": 43,
   "metadata": {
    "collapsed": false
   },
   "outputs": [
    {
     "name": "stdout",
     "output_type": "stream",
     "text": [
      "Bus Line : B52\n",
      "Number of Active Buses : 20\n",
      "Bus 0 is at latitude 40.700019 and longitude -73.911724\n",
      "Bus 1 is at latitude 40.687908 and longitude -73.935885\n",
      "Bus 2 is at latitude 40.688941 and longitude -73.926900\n",
      "Bus 3 is at latitude 40.691369 and longitude -73.987128\n",
      "Bus 4 is at latitude 40.687232 and longitude -73.976718\n",
      "Bus 5 is at latitude 40.688529 and longitude -73.930490\n",
      "Bus 6 is at latitude 40.690783 and longitude -73.985662\n",
      "Bus 7 is at latitude 40.688566 and longitude -73.930165\n",
      "Bus 8 is at latitude 40.687725 and longitude -73.957018\n",
      "Bus 9 is at latitude 40.688205 and longitude -73.933310\n",
      "Bus 10 is at latitude 40.694488 and longitude -73.990580\n",
      "Bus 11 is at latitude 40.693172 and longitude -73.989114\n",
      "Bus 12 is at latitude 40.692334 and longitude -73.989612\n",
      "Bus 13 is at latitude 40.692334 and longitude -73.989612\n",
      "Bus 14 is at latitude 40.686104 and longitude -73.973924\n",
      "Bus 15 is at latitude 40.692156 and longitude -73.989107\n",
      "Bus 16 is at latitude 40.701035 and longitude -73.910662\n",
      "Bus 17 is at latitude 40.686392 and longitude -73.959511\n",
      "Bus 18 is at latitude 40.690190 and longitude -73.921378\n",
      "Bus 19 is at latitude 40.687336 and longitude -73.940839\n"
     ]
    }
   ],
   "source": [
    "#each bus, item on a list\n",
    "print 'Bus Line : %s' % busNumber\n",
    "print 'Number of Active Buses : %d' % amountOfBuses\n",
    "for busID in range(amountOfBuses):\n",
    "    lat = busLocation(busesList[busID],'Latitude')\n",
    "    longi =  busLocation(busesList[busID],'Longitude')\n",
    "    print 'Bus %d is at latitude %2.6f and longitude %2.6f' %(busID,lat,longi)"
   ]
  },
  {
   "cell_type": "code",
   "execution_count": null,
   "metadata": {
    "collapsed": true
   },
   "outputs": [],
   "source": []
  }
 ],
 "metadata": {
  "kernelspec": {
   "display_name": "Python [Root]",
   "language": "python",
   "name": "Python [Root]"
  },
  "language_info": {
   "codemirror_mode": {
    "name": "ipython",
    "version": 2
   },
   "file_extension": ".py",
   "mimetype": "text/x-python",
   "name": "python",
   "nbconvert_exporter": "python",
   "pygments_lexer": "ipython2",
   "version": "2.7.12"
  }
 },
 "nbformat": 4,
 "nbformat_minor": 0
}
