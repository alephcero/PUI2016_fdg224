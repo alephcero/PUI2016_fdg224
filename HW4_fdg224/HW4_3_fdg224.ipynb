{
 "cells": [
  {
   "cell_type": "markdown",
   "metadata": {},
   "source": [
    "# Assigment 3\n",
    "\n",
    "Reproduce the analysis of the Hard to Employ programs for NY regarding the proportion of 'Ever employed in a CEO transitional job' for former prisoners participating in the program in comparison with the ones who didn't. "
   ]
  },
  {
   "cell_type": "code",
   "execution_count": 35,
   "metadata": {
    "collapsed": false
   },
   "outputs": [],
   "source": [
    "import pandas as pd\n",
    "import numpy as np\n",
    "import os\n",
    "import sys\n",
    "import scipy.stats as st\n",
    "import matplotlib.pyplot as plt\n",
    "%matplotlib inline"
   ]
  },
  {
   "cell_type": "markdown",
   "metadata": {},
   "source": [
    "## Hypothesis test\n",
    "\n",
    "### Null Hypothesis: the % of former prisoners employed in a CEO transitional job after release is the same or lower for candidates who participated in the program ($P_p$) as for the control group ($P_c$)\n",
    "\n",
    "* $H_0: P_p <= P_c $    \n",
    "    \n",
    "* $H_a: P_p > P_c $\n",
    "    \n",
    "## Confidence level\n",
    "\n",
    "* $\\alpha$ = 0.05    \n",
    "\n"
   ]
  },
  {
   "cell_type": "code",
   "execution_count": 36,
   "metadata": {
    "collapsed": false
   },
   "outputs": [],
   "source": [
    "alpha=0.05\n",
    "\n",
    "#proportions\n",
    "pc = 3.5*0.01 \n",
    "pp = 70.1*0.01\n",
    "\n",
    "#sample sizes\n",
    "n_c = 409\n",
    "n_p = 564\n",
    "\n",
    "#counts\n",
    "Nt_p = pp * n_p\n",
    "Nt_c = pc * n_c"
   ]
  },
  {
   "cell_type": "code",
   "execution_count": 37,
   "metadata": {
    "collapsed": false
   },
   "outputs": [
    {
     "name": "stdout",
     "output_type": "stream",
     "text": [
      "0.421047276465\n"
     ]
    }
   ],
   "source": [
    "sp = (pc * n_c + pp * n_p) / (n_c + n_p)\n",
    "print (sp)"
   ]
  },
  {
   "cell_type": "code",
   "execution_count": 38,
   "metadata": {
    "collapsed": false
   },
   "outputs": [
    {
     "name": "stdout",
     "output_type": "stream",
     "text": [
      "20.7697865408\n"
     ]
    }
   ],
   "source": [
    "def stdev(p,n1,n2):\n",
    "    return np.sqrt( p * ( 1 - p ) / n1 +  p * ( 1 - p ) / n2)\n",
    "\n",
    "s = stdev(sp,n_c,n_p)\n",
    "\n",
    "def zscore(x,mu,s):\n",
    "    return (x - mu) / s\n",
    "\n",
    "Zvalue = zscore(x = pp, mu = pc, s = s)\n",
    "print zPoint"
   ]
  },
  {
   "cell_type": "code",
   "execution_count": 39,
   "metadata": {
    "collapsed": false
   },
   "outputs": [
    {
     "name": "stdout",
     "output_type": "stream",
     "text": [
      "2.71024051708e-87\n"
     ]
    }
   ],
   "source": [
    "probZvalue = st.norm.cdf(1 - Zvalue)\n",
    "print probZvalue"
   ]
  },
  {
   "cell_type": "code",
   "execution_count": 40,
   "metadata": {
    "collapsed": false
   },
   "outputs": [
    {
     "name": "stdout",
     "output_type": "stream",
     "text": [
      "is the p value 0.00 smaller than the critical value 0.05? \n",
      "YES!\n",
      "the Null hypothesis is rejected\n"
     ]
    }
   ],
   "source": [
    "def report_result(p,a):\n",
    "    print ('is the p value {0:.2f} smaller than the critical value {1:.2f}? '.format(p,a))\n",
    "    if p < a:\n",
    "        print (\"YES!\")\n",
    "    else: \n",
    "        print (\"NO!\")\n",
    "    \n",
    "    print ('the Null hypothesis is {}'.format( 'rejected' if p < a  else 'not rejected') )\n",
    "\n",
    "    \n",
    "report_result(probZvalue,alpha)"
   ]
  },
  {
   "cell_type": "markdown",
   "metadata": {},
   "source": [
    "## Test for impact of the program in Recidivism (Years 1-3)\n",
    "\n",
    "Does the program has an impact in the conviction of felonies within the first 3 years of release?\n",
    "\n",
    "\n",
    "## Hypothesis test\n",
    "\n",
    "### Null Hypothesis: the % of former prisoners convicted of a felony within the third year of their release is the same or lower for candidates who didn't participated in the program ($P_c$) as for the ones that did ($P_p$)\n",
    "\n",
    "* $H_0: P_{felon_c} <= P_{felon_p} $    \n",
    "    \n",
    "* $H_a: P_{felon_c} > P_{felon_p}$\n",
    "    \n",
    "## Confidence level\n",
    "\n",
    "* $\\alpha$ = 0.05    "
   ]
  },
  {
   "cell_type": "code",
   "execution_count": 42,
   "metadata": {
    "collapsed": false
   },
   "outputs": [
    {
     "name": "stdout",
     "output_type": "stream",
     "text": [
      "is the p value 0.20 smaller than the critical value 0.05? \n",
      "NO!\n",
      "the Null hypothesis is not rejected\n"
     ]
    }
   ],
   "source": [
    "#Proportions\n",
    "pfc = 11.7 * 0.01  \n",
    "pfp = 10.0 * 0.01 \n",
    "\n",
    "\n",
    "#sample sizes remain the same\n",
    "\n",
    "#counts\n",
    "Ntf_p = pfp * n_p\n",
    "Ntf_c = pfc * n_c\n",
    "\n",
    "#sample sizes\n",
    "nf_c = 409\n",
    "nf_p = 568\n",
    "\n",
    "spf = (pfc * nf_c + pfp * nf_p) / (nf_c + nf_p)\n",
    "\n",
    "sf = stdev(spf,nf_c,nf_p)\n",
    "\n",
    "Zfvalue = zscore(x = pfp, mu = pfc, s = sf)\n",
    "\n",
    "probZfvalue = st.norm.cdf(Zfvalue)\n",
    "\n",
    "report_result(probZfvalue,alpha)\n"
   ]
  },
  {
   "cell_type": "markdown",
   "metadata": {},
   "source": [
    "## Chi squared test ($\\chi^2$)"
   ]
  },
  {
   "cell_type": "code",
   "execution_count": 59,
   "metadata": {
    "collapsed": true
   },
   "outputs": [],
   "source": [
    "observedTable = pd.DataFrame({'employed':[Nt_p,Nt_c],'unemployed':[(1 - pp) * n_p,(1 - pc) * n_c]},index = ['program','control'])"
   ]
  },
  {
   "cell_type": "code",
   "execution_count": 60,
   "metadata": {
    "collapsed": false
   },
   "outputs": [
    {
     "data": {
      "text/html": [
       "<div>\n",
       "<table border=\"1\" class=\"dataframe\">\n",
       "  <thead>\n",
       "    <tr style=\"text-align: right;\">\n",
       "      <th></th>\n",
       "      <th>employed</th>\n",
       "      <th>unemployed</th>\n",
       "    </tr>\n",
       "  </thead>\n",
       "  <tbody>\n",
       "    <tr>\n",
       "      <th>program</th>\n",
       "      <td>395.364</td>\n",
       "      <td>168.636</td>\n",
       "    </tr>\n",
       "    <tr>\n",
       "      <th>control</th>\n",
       "      <td>14.315</td>\n",
       "      <td>394.685</td>\n",
       "    </tr>\n",
       "  </tbody>\n",
       "</table>\n",
       "</div>"
      ],
      "text/plain": [
       "         employed  unemployed\n",
       "program   395.364     168.636\n",
       "control    14.315     394.685"
      ]
     },
     "execution_count": 60,
     "metadata": {},
     "output_type": "execute_result"
    }
   ],
   "source": [
    "observedTable"
   ]
  },
  {
   "cell_type": "code",
   "execution_count": 63,
   "metadata": {
    "collapsed": false
   },
   "outputs": [
    {
     "name": "stdout",
     "output_type": "stream",
     "text": [
      "employed      409.679\n",
      "unemployed    563.321\n",
      "dtype: float64\n",
      "program    564.0\n",
      "control    409.0\n",
      "dtype: float64\n"
     ]
    }
   ],
   "source": [
    "colSum = observedTable.sum()\n",
    "print colSum\n",
    "rowSum = observedTable.sum(1)\n",
    "print rowSum"
   ]
  },
  {
   "cell_type": "code",
   "execution_count": 61,
   "metadata": {
    "collapsed": false
   },
   "outputs": [
    {
     "data": {
      "text/plain": [
       "973"
      ]
     },
     "execution_count": 61,
     "metadata": {},
     "output_type": "execute_result"
    }
   ],
   "source": [
    "N = n_c + n_p\n",
    "N"
   ]
  },
  {
   "cell_type": "code",
   "execution_count": 65,
   "metadata": {
    "collapsed": true
   },
   "outputs": [],
   "source": [
    "expectedTable = pd.DataFrame({'employed':[(rowSum[0]*colSum[0])/N,(rowSum[1]*colSum[0])/N],\n",
    "                              'unemployed':[(rowSum[0]*colSum[1])/N,(rowSum[1]*colSum[1])/N]},\n",
    "                             index = ['program','control'])"
   ]
  },
  {
   "cell_type": "code",
   "execution_count": 66,
   "metadata": {
    "collapsed": false
   },
   "outputs": [
    {
     "data": {
      "text/html": [
       "<div>\n",
       "<table border=\"1\" class=\"dataframe\">\n",
       "  <thead>\n",
       "    <tr style=\"text-align: right;\">\n",
       "      <th></th>\n",
       "      <th>employed</th>\n",
       "      <th>unemployed</th>\n",
       "    </tr>\n",
       "  </thead>\n",
       "  <tbody>\n",
       "    <tr>\n",
       "      <th>program</th>\n",
       "      <td>237.470664</td>\n",
       "      <td>326.529336</td>\n",
       "    </tr>\n",
       "    <tr>\n",
       "      <th>control</th>\n",
       "      <td>172.208336</td>\n",
       "      <td>236.791664</td>\n",
       "    </tr>\n",
       "  </tbody>\n",
       "</table>\n",
       "</div>"
      ],
      "text/plain": [
       "           employed  unemployed\n",
       "program  237.470664  326.529336\n",
       "control  172.208336  236.791664"
      ]
     },
     "execution_count": 66,
     "metadata": {},
     "output_type": "execute_result"
    }
   ],
   "source": [
    "expectedTable"
   ]
  },
  {
   "cell_type": "code",
   "execution_count": 69,
   "metadata": {
    "collapsed": false
   },
   "outputs": [
    {
     "data": {
      "text/plain": [
       "14.315000000000001"
      ]
     },
     "execution_count": 69,
     "metadata": {},
     "output_type": "execute_result"
    }
   ],
   "source": [
    "(observedTable.iloc[0,0] - expectedTable.iloc[0,0])**2 / expectedTable.iloc[0,0] "
   ]
  },
  {
   "cell_type": "code",
   "execution_count": 94,
   "metadata": {
    "collapsed": false
   },
   "outputs": [
    {
     "name": "stdout",
     "output_type": "stream",
     "text": [
      "431.384032951\n"
     ]
    }
   ],
   "source": [
    "chi2value = 0\n",
    "for i in range(2):\n",
    "    for j in range(2):\n",
    "        o = observedTable.iloc[i,j]\n",
    "        e = expectedTable.iloc[i,j]\n",
    "        chi = ((o - e) ** 2) / e\n",
    "        chi2value = chi2value + chi\n",
    "print chi2value"
   ]
  },
  {
   "cell_type": "code",
   "execution_count": 95,
   "metadata": {
    "collapsed": true
   },
   "outputs": [],
   "source": [
    "df = 1\n"
   ]
  },
  {
   "cell_type": "code",
   "execution_count": 99,
   "metadata": {
    "collapsed": false
   },
   "outputs": [
    {
     "name": "stdout",
     "output_type": "stream",
     "text": [
      "Is the chi2 value obtained (431.38) bigger than the theoretical chi2 (3.84) for the assumed confidence level (0.05) and degrees of freedom (df = 1)?\n",
      "YES!\n",
      "the Null hypothesis is rejected\n"
     ]
    }
   ],
   "source": [
    "def chi2test(chi2value,alpha,df):\n",
    "    chi2Critic = st.chi2.isf(alpha, df = df)\n",
    "    print 'Is the chi2 value obtained (%1.2f) bigger than the theoretical chi2 (%1.2f) for the assumed confidence level (%1.2f) and degrees of freedom (df = %d)?' %(chi2value,chi2Critic,alpha,df) \n",
    "    if chi2value > chi2Critic:\n",
    "        print (\"YES!\")\n",
    "    else: \n",
    "        print (\"NO!\")\n",
    "    \n",
    "    print ('the Null hypothesis is {}'.format( 'rejected' if chi2value > chi2Critic else 'not rejected') )\n",
    "\n",
    "    \n",
    "chi2test(chi2value,alpha,df)"
   ]
  },
  {
   "cell_type": "code",
   "execution_count": null,
   "metadata": {
    "collapsed": true
   },
   "outputs": [],
   "source": []
  }
 ],
 "metadata": {
  "kernelspec": {
   "display_name": "Python [Root]",
   "language": "python",
   "name": "Python [Root]"
  },
  "language_info": {
   "codemirror_mode": {
    "name": "ipython",
    "version": 2
   },
   "file_extension": ".py",
   "mimetype": "text/x-python",
   "name": "python",
   "nbconvert_exporter": "python",
   "pygments_lexer": "ipython2",
   "version": "2.7.12"
  }
 },
 "nbformat": 4,
 "nbformat_minor": 0
}
