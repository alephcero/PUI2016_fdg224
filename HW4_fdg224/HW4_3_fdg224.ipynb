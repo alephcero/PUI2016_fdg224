{
 "cells": [
  {
   "cell_type": "markdown",
   "metadata": {},
   "source": [
    "# Assigment 3\n",
    "\n",
    "Reproduce the analysis of the Hard to Employ programs for NY regarding the proportion of 'Ever employed in a CEO transitional job' for former prisoners participating in the program in comparison with the ones who didn't. "
   ]
  },
  {
   "cell_type": "code",
   "execution_count": 35,
   "metadata": {
    "collapsed": false
   },
   "outputs": [],
   "source": [
    "import pandas as pd\n",
    "import numpy as np\n",
    "import os\n",
    "import sys\n",
    "import scipy.stats as st\n",
    "import matplotlib.pyplot as plt\n",
    "%matplotlib inline"
   ]
  },
  {
   "cell_type": "markdown",
   "metadata": {},
   "source": [
    "## Hypothesis test\n",
    "\n",
    "### Null Hypothesis: the % of former prisoners employed in a CEO transitional job after release is the same or lower for candidates who participated in the program ($P_p$) as for the control group ($P_c$)\n",
    "\n",
    "* $H_0: P_p <= P_c $    \n",
    "    \n",
    "* $H_a: P_p > P_c $\n",
    "    \n",
    "## Confidence level\n",
    "\n",
    "* $\\alpha$ = 0.05    \n",
    "\n"
   ]
  },
  {
   "cell_type": "code",
   "execution_count": 36,
   "metadata": {
    "collapsed": false
   },
   "outputs": [],
   "source": [
    "alpha=0.05\n",
    "\n",
    "#proportions\n",
    "pc = 3.5*0.01 \n",
    "pp = 70.1*0.01\n",
    "\n",
    "#sample sizes\n",
    "n_c = 409\n",
    "n_p = 564\n",
    "\n",
    "#counts\n",
    "Nt_p = pp * n_p\n",
    "Nt_c = pc * n_c"
   ]
  },
  {
   "cell_type": "code",
   "execution_count": 37,
   "metadata": {
    "collapsed": false
   },
   "outputs": [
    {
     "name": "stdout",
     "output_type": "stream",
     "text": [
      "0.421047276465\n"
     ]
    }
   ],
   "source": [
    "sp = (pc * n_c + pp * n_p) / (n_c + n_p)\n",
    "print (sp)"
   ]
  },
  {
   "cell_type": "code",
   "execution_count": 38,
   "metadata": {
    "collapsed": false
   },
   "outputs": [
    {
     "name": "stdout",
     "output_type": "stream",
     "text": [
      "20.7697865408\n"
     ]
    }
   ],
   "source": [
    "def stdev(p,n1,n2):\n",
    "    return np.sqrt( p * ( 1 - p ) / n1 +  p * ( 1 - p ) / n2)\n",
    "\n",
    "s = stdev(sp,n_c,n_p)\n",
    "\n",
    "def zscore(x,mu,s):\n",
    "    return (x - mu) / s\n",
    "\n",
    "Zvalue = zscore(x = pp, mu = pc, s = s)\n",
    "print zPoint"
   ]
  },
  {
   "cell_type": "code",
   "execution_count": 39,
   "metadata": {
    "collapsed": false
   },
   "outputs": [
    {
     "name": "stdout",
     "output_type": "stream",
     "text": [
      "2.71024051708e-87\n"
     ]
    }
   ],
   "source": [
    "probZvalue = st.norm.cdf(1 - Zvalue)\n",
    "print probZvalue"
   ]
  },
  {
   "cell_type": "code",
   "execution_count": 40,
   "metadata": {
    "collapsed": false
   },
   "outputs": [
    {
     "name": "stdout",
     "output_type": "stream",
     "text": [
      "is the p value 0.00 smaller than the critical value 0.05? \n",
      "YES!\n",
      "the Null hypothesis is rejected\n"
     ]
    }
   ],
   "source": [
    "def report_result(p,a):\n",
    "    print ('is the p value {0:.2f} smaller than the critical value {1:.2f}? '.format(p,a))\n",
    "    if p < a:\n",
    "        print (\"YES!\")\n",
    "    else: \n",
    "        print (\"NO!\")\n",
    "    \n",
    "    print ('the Null hypothesis is {}'.format( 'rejected' if p < a  else 'not rejected') )\n",
    "\n",
    "    \n",
    "report_result(probZvalue,alpha)"
   ]
  },
  {
   "cell_type": "markdown",
   "metadata": {},
   "source": [
    "## Test for impact of the program in Recidivism (Years 1-3)\n",
    "\n",
    "Does the program has an impact in the conviction of felonies within the first 3 years of release?\n",
    "\n",
    "\n",
    "## Hypothesis test\n",
    "\n",
    "### Null Hypothesis: the % of former prisoners convicted of a felony within the third year of their release is the same or lower for candidates who didn't participated in the program ($P_c$) as for the ones that did ($P_p$)\n",
    "\n",
    "* $H_0: P_{felon_c} <= P_{felon_p} $    \n",
    "    \n",
    "* $H_a: P_{felon_c} > P_{felon_p}$\n",
    "    \n",
    "## Confidence level\n",
    "\n",
    "* $\\alpha$ = 0.05    "
   ]
  },
  {
   "cell_type": "code",
   "execution_count": 41,
   "metadata": {
    "collapsed": false
   },
   "outputs": [
    {
     "name": "stdout",
     "output_type": "stream",
     "text": [
      "is the p value 0.20 smaller than the critical value 0.05? \n",
      "NO!\n",
      "the Null hypothesis is not rejected\n"
     ]
    }
   ],
   "source": [
    "#Proportions\n",
    "pfc = 11.7 * 0.01  \n",
    "pfp = 10.0 * 0.01 \n",
    "\n",
    "\n",
    "#sample sizes remain the same\n",
    "\n",
    "#counts\n",
    "Ntf_p = pfp * n_p\n",
    "Ntf_c = pfc * n_c\n",
    "\n",
    "\n",
    "spf = (pfc * n_c + pfp * n_p) / (n_c + n_p)\n",
    "\n",
    "sf = stdev(spf,n_c,n_p)\n",
    "\n",
    "Zfvalue = zscore(x = pfp, mu = pfc, s = sf)\n",
    "\n",
    "probZfvalue = st.norm.cdf(Zfvalue)\n",
    "\n",
    "report_result(probZfvalue,alpha)\n"
   ]
  },
  {
   "cell_type": "code",
   "execution_count": 31,
   "metadata": {
    "collapsed": false
   },
   "outputs": [
    {
     "data": {
      "text/plain": [
       "-0.84628298260493362"
      ]
     },
     "execution_count": 31,
     "metadata": {},
     "output_type": "execute_result"
    }
   ],
   "source": []
  }
 ],
 "metadata": {
  "kernelspec": {
   "display_name": "Python [Root]",
   "language": "python",
   "name": "Python [Root]"
  },
  "language_info": {
   "codemirror_mode": {
    "name": "ipython",
    "version": 2
   },
   "file_extension": ".py",
   "mimetype": "text/x-python",
   "name": "python",
   "nbconvert_exporter": "python",
   "pygments_lexer": "ipython2",
   "version": "2.7.12"
  }
 },
 "nbformat": 4,
 "nbformat_minor": 0
}
