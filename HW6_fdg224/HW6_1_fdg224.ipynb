{
 "cells": [
  {
   "cell_type": "code",
   "execution_count": 49,
   "metadata": {
    "collapsed": true
   },
   "outputs": [],
   "source": [
    "import geopandas as gpd\n",
    "import pandas as pd\n",
    "import numpy as np\n",
    "import os\n",
    "import json\n",
    "import matplotlib.pyplot as plt\n",
    "import matplotlib.gridspec as gridspec\n",
    "import seaborn\n",
    "%matplotlib inline"
   ]
  },
  {
   "cell_type": "code",
   "execution_count": 2,
   "metadata": {
    "collapsed": false
   },
   "outputs": [
    {
     "data": {
      "text/html": [
       "<div>\n",
       "<table border=\"1\" class=\"dataframe\">\n",
       "  <thead>\n",
       "    <tr style=\"text-align: right;\">\n",
       "      <th></th>\n",
       "      <th>automatic_water_benchmarking_eligible</th>\n",
       "      <th>bbls_co_reported</th>\n",
       "      <th>borough</th>\n",
       "      <th>co_reported_bbl_status</th>\n",
       "      <th>direct_ghg_emissions_mtco2e</th>\n",
       "      <th>dof_benchmarking_submission_status</th>\n",
       "      <th>dof_number_of_buildings</th>\n",
       "      <th>dof_property_floor_area_buildngs_and_parking_ft2</th>\n",
       "      <th>energy_star_score</th>\n",
       "      <th>indirect_ghg_emissions_mtco2e</th>\n",
       "      <th>...</th>\n",
       "      <th>reported_property_floor_area_building_s_ft</th>\n",
       "      <th>reported_water_method</th>\n",
       "      <th>site_eui_kbtu_ft2</th>\n",
       "      <th>source_eui_kbtu_ft2</th>\n",
       "      <th>street_name</th>\n",
       "      <th>street_number</th>\n",
       "      <th>total_ghg_emissions_mtco2e</th>\n",
       "      <th>weather_normalized_site_eui_kbtu_ft2</th>\n",
       "      <th>weather_normalized_source_eui_kbtu_ft2</th>\n",
       "      <th>zip_code</th>\n",
       "    </tr>\n",
       "  </thead>\n",
       "  <tbody>\n",
       "    <tr>\n",
       "      <th>0</th>\n",
       "      <td>NaN</td>\n",
       "      <td>1000410001</td>\n",
       "      <td>Manhattan</td>\n",
       "      <td>NaN</td>\n",
       "      <td>NaN</td>\n",
       "      <td>BBL not valid</td>\n",
       "      <td>NaN</td>\n",
       "      <td>NaN</td>\n",
       "      <td>Not Available</td>\n",
       "      <td>NaN</td>\n",
       "      <td>...</td>\n",
       "      <td>918919</td>\n",
       "      <td>NaN</td>\n",
       "      <td>NaN</td>\n",
       "      <td>NaN</td>\n",
       "      <td>NaN</td>\n",
       "      <td>NaN</td>\n",
       "      <td>NaN</td>\n",
       "      <td>Not Available</td>\n",
       "      <td>Not Available</td>\n",
       "      <td>NaN</td>\n",
       "    </tr>\n",
       "    <tr>\n",
       "      <th>1</th>\n",
       "      <td>Yes</td>\n",
       "      <td>NaN</td>\n",
       "      <td>Queens</td>\n",
       "      <td>NaN</td>\n",
       "      <td>NaN</td>\n",
       "      <td>No Submission Matched to BBL</td>\n",
       "      <td>1.0</td>\n",
       "      <td>82730.0</td>\n",
       "      <td>NaN</td>\n",
       "      <td>NaN</td>\n",
       "      <td>...</td>\n",
       "      <td>NaN</td>\n",
       "      <td>None</td>\n",
       "      <td>NaN</td>\n",
       "      <td>NaN</td>\n",
       "      <td>108 STREET</td>\n",
       "      <td>63-10</td>\n",
       "      <td>NaN</td>\n",
       "      <td>NaN</td>\n",
       "      <td>NaN</td>\n",
       "      <td>11375.0</td>\n",
       "    </tr>\n",
       "    <tr>\n",
       "      <th>2</th>\n",
       "      <td>NaN</td>\n",
       "      <td>2027620097</td>\n",
       "      <td>Bronx</td>\n",
       "      <td>NaN</td>\n",
       "      <td>NaN</td>\n",
       "      <td>BBL not valid</td>\n",
       "      <td>NaN</td>\n",
       "      <td>NaN</td>\n",
       "      <td>Not Available</td>\n",
       "      <td>NaN</td>\n",
       "      <td>...</td>\n",
       "      <td>64200</td>\n",
       "      <td>NaN</td>\n",
       "      <td>NaN</td>\n",
       "      <td>NaN</td>\n",
       "      <td>NaN</td>\n",
       "      <td>NaN</td>\n",
       "      <td>NaN</td>\n",
       "      <td>Not Available</td>\n",
       "      <td>Not Available</td>\n",
       "      <td>NaN</td>\n",
       "    </tr>\n",
       "    <tr>\n",
       "      <th>3</th>\n",
       "      <td>No</td>\n",
       "      <td>NaN</td>\n",
       "      <td>Manhattan</td>\n",
       "      <td>NaN</td>\n",
       "      <td>NaN</td>\n",
       "      <td>No Submission Matched to BBL</td>\n",
       "      <td>1.0</td>\n",
       "      <td>440360.0</td>\n",
       "      <td>NaN</td>\n",
       "      <td>NaN</td>\n",
       "      <td>...</td>\n",
       "      <td>NaN</td>\n",
       "      <td>None</td>\n",
       "      <td>NaN</td>\n",
       "      <td>NaN</td>\n",
       "      <td>11 AVENUE</td>\n",
       "      <td>201</td>\n",
       "      <td>NaN</td>\n",
       "      <td>NaN</td>\n",
       "      <td>NaN</td>\n",
       "      <td>10001.0</td>\n",
       "    </tr>\n",
       "    <tr>\n",
       "      <th>4</th>\n",
       "      <td>NaN</td>\n",
       "      <td>2048300034</td>\n",
       "      <td>Bronx</td>\n",
       "      <td>NaN</td>\n",
       "      <td>NaN</td>\n",
       "      <td>Not on Covered Buildings List</td>\n",
       "      <td>NaN</td>\n",
       "      <td>NaN</td>\n",
       "      <td>Not Available</td>\n",
       "      <td>NaN</td>\n",
       "      <td>...</td>\n",
       "      <td>50000</td>\n",
       "      <td>None</td>\n",
       "      <td>NaN</td>\n",
       "      <td>NaN</td>\n",
       "      <td>NaN</td>\n",
       "      <td>NaN</td>\n",
       "      <td>NaN</td>\n",
       "      <td>Not Available</td>\n",
       "      <td>Not Available</td>\n",
       "      <td>NaN</td>\n",
       "    </tr>\n",
       "  </tbody>\n",
       "</table>\n",
       "<p>5 rows × 25 columns</p>\n",
       "</div>"
      ],
      "text/plain": [
       "  automatic_water_benchmarking_eligible bbls_co_reported    borough  \\\n",
       "0                                   NaN       1000410001  Manhattan   \n",
       "1                                   Yes              NaN     Queens   \n",
       "2                                   NaN       2027620097      Bronx   \n",
       "3                                    No              NaN  Manhattan   \n",
       "4                                   NaN       2048300034      Bronx   \n",
       "\n",
       "  co_reported_bbl_status direct_ghg_emissions_mtco2e  \\\n",
       "0                    NaN                         NaN   \n",
       "1                    NaN                         NaN   \n",
       "2                    NaN                         NaN   \n",
       "3                    NaN                         NaN   \n",
       "4                    NaN                         NaN   \n",
       "\n",
       "  dof_benchmarking_submission_status  dof_number_of_buildings  \\\n",
       "0                      BBL not valid                      NaN   \n",
       "1       No Submission Matched to BBL                      1.0   \n",
       "2                      BBL not valid                      NaN   \n",
       "3       No Submission Matched to BBL                      1.0   \n",
       "4      Not on Covered Buildings List                      NaN   \n",
       "\n",
       "   dof_property_floor_area_buildngs_and_parking_ft2 energy_star_score  \\\n",
       "0                                               NaN     Not Available   \n",
       "1                                           82730.0               NaN   \n",
       "2                                               NaN     Not Available   \n",
       "3                                          440360.0               NaN   \n",
       "4                                               NaN     Not Available   \n",
       "\n",
       "  indirect_ghg_emissions_mtco2e   ...     \\\n",
       "0                           NaN   ...      \n",
       "1                           NaN   ...      \n",
       "2                           NaN   ...      \n",
       "3                           NaN   ...      \n",
       "4                           NaN   ...      \n",
       "\n",
       "  reported_property_floor_area_building_s_ft  reported_water_method  \\\n",
       "0                                     918919                    NaN   \n",
       "1                                        NaN                   None   \n",
       "2                                      64200                    NaN   \n",
       "3                                        NaN                   None   \n",
       "4                                      50000                   None   \n",
       "\n",
       "  site_eui_kbtu_ft2  source_eui_kbtu_ft2 street_name street_number  \\\n",
       "0               NaN                  NaN         NaN           NaN   \n",
       "1               NaN                  NaN  108 STREET         63-10   \n",
       "2               NaN                  NaN         NaN           NaN   \n",
       "3               NaN                  NaN   11 AVENUE           201   \n",
       "4               NaN                  NaN         NaN           NaN   \n",
       "\n",
       "  total_ghg_emissions_mtco2e weather_normalized_site_eui_kbtu_ft2  \\\n",
       "0                        NaN                        Not Available   \n",
       "1                        NaN                                  NaN   \n",
       "2                        NaN                        Not Available   \n",
       "3                        NaN                                  NaN   \n",
       "4                        NaN                        Not Available   \n",
       "\n",
       "  weather_normalized_source_eui_kbtu_ft2 zip_code  \n",
       "0                          Not Available      NaN  \n",
       "1                                    NaN  11375.0  \n",
       "2                          Not Available      NaN  \n",
       "3                                    NaN  10001.0  \n",
       "4                          Not Available      NaN  \n",
       "\n",
       "[5 rows x 25 columns]"
      ]
     },
     "execution_count": 2,
     "metadata": {},
     "output_type": "execute_result"
    }
   ],
   "source": [
    "#download Energy and Water Data Disclosure for Local Law 84 (2013)\n",
    "APIendPoint = 'https://data.cityofnewyork.us/resource/m46j-75iy.csv' \n",
    "nrg = pd.read_csv(APIendPoint)\n",
    "nrg.head()"
   ]
  },
  {
   "cell_type": "code",
   "execution_count": 3,
   "metadata": {
    "collapsed": false
   },
   "outputs": [
    {
     "data": {
      "text/plain": [
       "'/home/pipe/Dropbox/NYU/classes/principles/puiDATA'"
      ]
     },
     "execution_count": 3,
     "metadata": {},
     "output_type": "execute_result"
    }
   ],
   "source": [
    "os.getenv(\"PUIDATA\")"
   ]
  },
  {
   "cell_type": "code",
   "execution_count": null,
   "metadata": {
    "collapsed": false
   },
   "outputs": [],
   "source": [
    "#download pluto data\n",
    "plutoVersion = 'mappluto_16v1.zip'\n",
    "plutoURL = 'https://www1.nyc.gov/assets/planning/download/zip/data-maps/open-data/'  \n",
    "os.system(\"wget \" + plutoURL + plutoVersion)\n"
   ]
  },
  {
   "cell_type": "code",
   "execution_count": 4,
   "metadata": {
    "collapsed": false
   },
   "outputs": [],
   "source": [
    "bsize = gpd.read_file(os.getenv(\"PUIDATA\") + \"/Manhattan/MNMapPLUTO.shp\")\n"
   ]
  },
  {
   "cell_type": "code",
   "execution_count": 5,
   "metadata": {
    "collapsed": false
   },
   "outputs": [
    {
     "name": "stdout",
     "output_type": "stream",
     "text": [
      "Index([u'automatic_water_benchmarking_eligible', u'bbls_co_reported',\n",
      "       u'borough', u'co_reported_bbl_status', u'direct_ghg_emissions_mtco2e',\n",
      "       u'dof_benchmarking_submission_status', u'dof_number_of_buildings',\n",
      "       u'dof_property_floor_area_buildngs_and_parking_ft2',\n",
      "       u'energy_star_score', u'indirect_ghg_emissions_mtco2e',\n",
      "       u'municipally_supplied_potable_water_indoor_intensity_gal_ft',\n",
      "       u'nyc_borough_block_and_lot_bbl',\n",
      "       u'primary_property_type_self_selected', u'record_number',\n",
      "       u'reported_nyc_building_identificaiton_numbers_bins',\n",
      "       u'reported_property_floor_area_building_s_ft', u'reported_water_method',\n",
      "       u'site_eui_kbtu_ft2', u'source_eui_kbtu_ft2', u'street_name',\n",
      "       u'street_number', u'total_ghg_emissions_mtco2e',\n",
      "       u'weather_normalized_site_eui_kbtu_ft2',\n",
      "       u'weather_normalized_source_eui_kbtu_ft2', u'zip_code'],\n",
      "      dtype='object')\n",
      "Index([u'automatic_water_benchmarking_eligible', u'bbls_co_reported',\n",
      "       u'borough', u'co_reported_bbl_status', u'direct_ghg_emissions_mtco2e',\n",
      "       u'dof_benchmarking_submission_status', u'dof_number_of_buildings',\n",
      "       u'dof_property_floor_area_buildngs_and_parking_ft2',\n",
      "       u'energy_star_score', u'indirect_ghg_emissions_mtco2e',\n",
      "       u'municipally_supplied_potable_water_indoor_intensity_gal_ft', u'BBL',\n",
      "       u'primary_property_type_self_selected', u'record_number',\n",
      "       u'reported_nyc_building_identificaiton_numbers_bins',\n",
      "       u'reported_property_floor_area_building_s_ft', u'reported_water_method',\n",
      "       u'site_eui_kbtu_ft2', u'source_eui_kbtu_ft2', u'street_name',\n",
      "       u'street_number', u'total_ghg_emissions_mtco2e',\n",
      "       u'weather_normalized_site_eui_kbtu_ft2',\n",
      "       u'weather_normalized_source_eui_kbtu_ft2', u'zip_code'],\n",
      "      dtype='object')\n"
     ]
    }
   ],
   "source": [
    "print nrg.columns\n",
    "nrg.rename(columns={'nyc_borough_block_and_lot_bbl': 'BBL'}, inplace=True)\n",
    "print nrg.columns\n"
   ]
  },
  {
   "cell_type": "code",
   "execution_count": 6,
   "metadata": {
    "collapsed": false
   },
   "outputs": [
    {
     "data": {
      "text/html": [
       "<div>\n",
       "<table border=\"1\" class=\"dataframe\">\n",
       "  <thead>\n",
       "    <tr style=\"text-align: right;\">\n",
       "      <th></th>\n",
       "      <th>automatic_water_benchmarking_eligible</th>\n",
       "      <th>bbls_co_reported</th>\n",
       "      <th>borough</th>\n",
       "      <th>co_reported_bbl_status</th>\n",
       "      <th>direct_ghg_emissions_mtco2e</th>\n",
       "      <th>dof_benchmarking_submission_status</th>\n",
       "      <th>dof_number_of_buildings</th>\n",
       "      <th>dof_property_floor_area_buildngs_and_parking_ft2</th>\n",
       "      <th>energy_star_score</th>\n",
       "      <th>indirect_ghg_emissions_mtco2e</th>\n",
       "      <th>...</th>\n",
       "      <th>reported_property_floor_area_building_s_ft</th>\n",
       "      <th>reported_water_method</th>\n",
       "      <th>site_eui_kbtu_ft2</th>\n",
       "      <th>source_eui_kbtu_ft2</th>\n",
       "      <th>street_name</th>\n",
       "      <th>street_number</th>\n",
       "      <th>total_ghg_emissions_mtco2e</th>\n",
       "      <th>weather_normalized_site_eui_kbtu_ft2</th>\n",
       "      <th>weather_normalized_source_eui_kbtu_ft2</th>\n",
       "      <th>zip_code</th>\n",
       "    </tr>\n",
       "  </thead>\n",
       "  <tbody>\n",
       "    <tr>\n",
       "      <th>0</th>\n",
       "      <td>NaN</td>\n",
       "      <td>1000410001</td>\n",
       "      <td>Manhattan</td>\n",
       "      <td>NaN</td>\n",
       "      <td>NaN</td>\n",
       "      <td>BBL not valid</td>\n",
       "      <td>NaN</td>\n",
       "      <td>NaN</td>\n",
       "      <td>Not Available</td>\n",
       "      <td>NaN</td>\n",
       "      <td>...</td>\n",
       "      <td>918919</td>\n",
       "      <td>NaN</td>\n",
       "      <td>NaN</td>\n",
       "      <td>NaN</td>\n",
       "      <td>NaN</td>\n",
       "      <td>NaN</td>\n",
       "      <td>NaN</td>\n",
       "      <td>Not Available</td>\n",
       "      <td>Not Available</td>\n",
       "      <td>NaN</td>\n",
       "    </tr>\n",
       "    <tr>\n",
       "      <th>1</th>\n",
       "      <td>Yes</td>\n",
       "      <td>NaN</td>\n",
       "      <td>Queens</td>\n",
       "      <td>NaN</td>\n",
       "      <td>NaN</td>\n",
       "      <td>No Submission Matched to BBL</td>\n",
       "      <td>1.0</td>\n",
       "      <td>82730.0</td>\n",
       "      <td>NaN</td>\n",
       "      <td>NaN</td>\n",
       "      <td>...</td>\n",
       "      <td>NaN</td>\n",
       "      <td>None</td>\n",
       "      <td>NaN</td>\n",
       "      <td>NaN</td>\n",
       "      <td>108 STREET</td>\n",
       "      <td>63-10</td>\n",
       "      <td>NaN</td>\n",
       "      <td>NaN</td>\n",
       "      <td>NaN</td>\n",
       "      <td>11375.0</td>\n",
       "    </tr>\n",
       "    <tr>\n",
       "      <th>2</th>\n",
       "      <td>NaN</td>\n",
       "      <td>2027620097</td>\n",
       "      <td>Bronx</td>\n",
       "      <td>NaN</td>\n",
       "      <td>NaN</td>\n",
       "      <td>BBL not valid</td>\n",
       "      <td>NaN</td>\n",
       "      <td>NaN</td>\n",
       "      <td>Not Available</td>\n",
       "      <td>NaN</td>\n",
       "      <td>...</td>\n",
       "      <td>64200</td>\n",
       "      <td>NaN</td>\n",
       "      <td>NaN</td>\n",
       "      <td>NaN</td>\n",
       "      <td>NaN</td>\n",
       "      <td>NaN</td>\n",
       "      <td>NaN</td>\n",
       "      <td>Not Available</td>\n",
       "      <td>Not Available</td>\n",
       "      <td>NaN</td>\n",
       "    </tr>\n",
       "    <tr>\n",
       "      <th>3</th>\n",
       "      <td>No</td>\n",
       "      <td>NaN</td>\n",
       "      <td>Manhattan</td>\n",
       "      <td>NaN</td>\n",
       "      <td>NaN</td>\n",
       "      <td>No Submission Matched to BBL</td>\n",
       "      <td>1.0</td>\n",
       "      <td>440360.0</td>\n",
       "      <td>NaN</td>\n",
       "      <td>NaN</td>\n",
       "      <td>...</td>\n",
       "      <td>NaN</td>\n",
       "      <td>None</td>\n",
       "      <td>NaN</td>\n",
       "      <td>NaN</td>\n",
       "      <td>11 AVENUE</td>\n",
       "      <td>201</td>\n",
       "      <td>NaN</td>\n",
       "      <td>NaN</td>\n",
       "      <td>NaN</td>\n",
       "      <td>10001.0</td>\n",
       "    </tr>\n",
       "    <tr>\n",
       "      <th>4</th>\n",
       "      <td>NaN</td>\n",
       "      <td>2048300034</td>\n",
       "      <td>Bronx</td>\n",
       "      <td>NaN</td>\n",
       "      <td>NaN</td>\n",
       "      <td>Not on Covered Buildings List</td>\n",
       "      <td>NaN</td>\n",
       "      <td>NaN</td>\n",
       "      <td>Not Available</td>\n",
       "      <td>NaN</td>\n",
       "      <td>...</td>\n",
       "      <td>50000</td>\n",
       "      <td>None</td>\n",
       "      <td>NaN</td>\n",
       "      <td>NaN</td>\n",
       "      <td>NaN</td>\n",
       "      <td>NaN</td>\n",
       "      <td>NaN</td>\n",
       "      <td>Not Available</td>\n",
       "      <td>Not Available</td>\n",
       "      <td>NaN</td>\n",
       "    </tr>\n",
       "  </tbody>\n",
       "</table>\n",
       "<p>5 rows × 25 columns</p>\n",
       "</div>"
      ],
      "text/plain": [
       "  automatic_water_benchmarking_eligible bbls_co_reported    borough  \\\n",
       "0                                   NaN       1000410001  Manhattan   \n",
       "1                                   Yes              NaN     Queens   \n",
       "2                                   NaN       2027620097      Bronx   \n",
       "3                                    No              NaN  Manhattan   \n",
       "4                                   NaN       2048300034      Bronx   \n",
       "\n",
       "  co_reported_bbl_status direct_ghg_emissions_mtco2e  \\\n",
       "0                    NaN                         NaN   \n",
       "1                    NaN                         NaN   \n",
       "2                    NaN                         NaN   \n",
       "3                    NaN                         NaN   \n",
       "4                    NaN                         NaN   \n",
       "\n",
       "  dof_benchmarking_submission_status  dof_number_of_buildings  \\\n",
       "0                      BBL not valid                      NaN   \n",
       "1       No Submission Matched to BBL                      1.0   \n",
       "2                      BBL not valid                      NaN   \n",
       "3       No Submission Matched to BBL                      1.0   \n",
       "4      Not on Covered Buildings List                      NaN   \n",
       "\n",
       "   dof_property_floor_area_buildngs_and_parking_ft2 energy_star_score  \\\n",
       "0                                               NaN     Not Available   \n",
       "1                                           82730.0               NaN   \n",
       "2                                               NaN     Not Available   \n",
       "3                                          440360.0               NaN   \n",
       "4                                               NaN     Not Available   \n",
       "\n",
       "  indirect_ghg_emissions_mtco2e   ...     \\\n",
       "0                           NaN   ...      \n",
       "1                           NaN   ...      \n",
       "2                           NaN   ...      \n",
       "3                           NaN   ...      \n",
       "4                           NaN   ...      \n",
       "\n",
       "  reported_property_floor_area_building_s_ft  reported_water_method  \\\n",
       "0                                     918919                    NaN   \n",
       "1                                        NaN                   None   \n",
       "2                                      64200                    NaN   \n",
       "3                                        NaN                   None   \n",
       "4                                      50000                   None   \n",
       "\n",
       "  site_eui_kbtu_ft2  source_eui_kbtu_ft2 street_name street_number  \\\n",
       "0               NaN                  NaN         NaN           NaN   \n",
       "1               NaN                  NaN  108 STREET         63-10   \n",
       "2               NaN                  NaN         NaN           NaN   \n",
       "3               NaN                  NaN   11 AVENUE           201   \n",
       "4               NaN                  NaN         NaN           NaN   \n",
       "\n",
       "  total_ghg_emissions_mtco2e weather_normalized_site_eui_kbtu_ft2  \\\n",
       "0                        NaN                        Not Available   \n",
       "1                        NaN                                  NaN   \n",
       "2                        NaN                        Not Available   \n",
       "3                        NaN                                  NaN   \n",
       "4                        NaN                        Not Available   \n",
       "\n",
       "  weather_normalized_source_eui_kbtu_ft2 zip_code  \n",
       "0                          Not Available      NaN  \n",
       "1                                    NaN  11375.0  \n",
       "2                          Not Available      NaN  \n",
       "3                                    NaN  10001.0  \n",
       "4                          Not Available      NaN  \n",
       "\n",
       "[5 rows x 25 columns]"
      ]
     },
     "execution_count": 6,
     "metadata": {},
     "output_type": "execute_result"
    }
   ],
   "source": [
    "nrg.head()"
   ]
  },
  {
   "cell_type": "code",
   "execution_count": 7,
   "metadata": {
    "collapsed": false
   },
   "outputs": [],
   "source": [
    "#Keep\n",
    "#Energy \n",
    "## BBL\n",
    "## site_eui_kbtu_ft2  a measure of the energy consumed PER SQ FOOT by a building\n",
    "## reported_property_floor_area_building_s_ft\n",
    "## source_eui_kbtu_ft2\n",
    "\n",
    "\n",
    "nrg['siteEUI'] = pd.to_numeric(nrg.site_eui_kbtu_ft2, errors = 'coerce')\n",
    "nrg['sourceEUI'] = pd.to_numeric(nrg.source_eui_kbtu_ft2, errors = 'coerce')\n",
    "nrg['floorArea']= pd.to_numeric(nrg.reported_property_floor_area_building_s_ft, errors = 'coerce')\n",
    "nrg = nrg.copy().loc[:,['BBL','siteEUI','sourceEUI','floorArea']]\n",
    "\n"
   ]
  },
  {
   "cell_type": "code",
   "execution_count": 8,
   "metadata": {
    "collapsed": false
   },
   "outputs": [
    {
     "data": {
      "text/html": [
       "<div>\n",
       "<table border=\"1\" class=\"dataframe\">\n",
       "  <thead>\n",
       "    <tr style=\"text-align: right;\">\n",
       "      <th></th>\n",
       "      <th>BBL</th>\n",
       "      <th>siteEUI</th>\n",
       "      <th>sourceEUI</th>\n",
       "      <th>floorArea</th>\n",
       "    </tr>\n",
       "  </thead>\n",
       "  <tbody>\n",
       "    <tr>\n",
       "      <th>0</th>\n",
       "      <td>1.000410e+09</td>\n",
       "      <td>NaN</td>\n",
       "      <td>NaN</td>\n",
       "      <td>918919.0</td>\n",
       "    </tr>\n",
       "    <tr>\n",
       "      <th>1</th>\n",
       "      <td>4.021460e+09</td>\n",
       "      <td>NaN</td>\n",
       "      <td>NaN</td>\n",
       "      <td>NaN</td>\n",
       "    </tr>\n",
       "    <tr>\n",
       "      <th>2</th>\n",
       "      <td>2.027620e+09</td>\n",
       "      <td>NaN</td>\n",
       "      <td>NaN</td>\n",
       "      <td>64200.0</td>\n",
       "    </tr>\n",
       "    <tr>\n",
       "      <th>3</th>\n",
       "      <td>1.006700e+09</td>\n",
       "      <td>NaN</td>\n",
       "      <td>NaN</td>\n",
       "      <td>NaN</td>\n",
       "    </tr>\n",
       "    <tr>\n",
       "      <th>4</th>\n",
       "      <td>2.048300e+09</td>\n",
       "      <td>NaN</td>\n",
       "      <td>NaN</td>\n",
       "      <td>50000.0</td>\n",
       "    </tr>\n",
       "  </tbody>\n",
       "</table>\n",
       "</div>"
      ],
      "text/plain": [
       "            BBL  siteEUI  sourceEUI  floorArea\n",
       "0  1.000410e+09      NaN        NaN   918919.0\n",
       "1  4.021460e+09      NaN        NaN        NaN\n",
       "2  2.027620e+09      NaN        NaN    64200.0\n",
       "3  1.006700e+09      NaN        NaN        NaN\n",
       "4  2.048300e+09      NaN        NaN    50000.0"
      ]
     },
     "execution_count": 8,
     "metadata": {},
     "output_type": "execute_result"
    }
   ],
   "source": [
    "nrg.head()"
   ]
  },
  {
   "cell_type": "code",
   "execution_count": 12,
   "metadata": {
    "collapsed": false
   },
   "outputs": [
    {
     "data": {
      "text/plain": [
       "array([[<matplotlib.axes._subplots.AxesSubplot object at 0x7f050f63ae50>,\n",
       "        <matplotlib.axes._subplots.AxesSubplot object at 0x7f05152c0fd0>,\n",
       "        <matplotlib.axes._subplots.AxesSubplot object at 0x7f050d3dba50>,\n",
       "        <matplotlib.axes._subplots.AxesSubplot object at 0x7f050c986d50>],\n",
       "       [<matplotlib.axes._subplots.AxesSubplot object at 0x7f050bdfcdd0>,\n",
       "        <matplotlib.axes._subplots.AxesSubplot object at 0x7f050b44cb90>,\n",
       "        <matplotlib.axes._subplots.AxesSubplot object at 0x7f050a7c0c10>,\n",
       "        <matplotlib.axes._subplots.AxesSubplot object at 0x7f050a7adfd0>],\n",
       "       [<matplotlib.axes._subplots.AxesSubplot object at 0x7f05094dabd0>,\n",
       "        <matplotlib.axes._subplots.AxesSubplot object at 0x7f05086c8b50>,\n",
       "        <matplotlib.axes._subplots.AxesSubplot object at 0x7f05078d9e50>,\n",
       "        <matplotlib.axes._subplots.AxesSubplot object at 0x7f0506ad9dd0>],\n",
       "       [<matplotlib.axes._subplots.AxesSubplot object at 0x7f05061a9bd0>,\n",
       "        <matplotlib.axes._subplots.AxesSubplot object at 0x7f05054cddd0>,\n",
       "        <matplotlib.axes._subplots.AxesSubplot object at 0x7f0504eaad50>,\n",
       "        <matplotlib.axes._subplots.AxesSubplot object at 0x7f0503bc98d0>]], dtype=object)"
      ]
     },
     "execution_count": 12,
     "metadata": {},
     "output_type": "execute_result"
    },
    {
     "data": {
      "image/png": "[encoded data removed]",
      "text/plain": [
       "<matplotlib.figure.Figure at 0x7f050f63a750>"
      ]
     },
     "metadata": {},
     "output_type": "display_data"
    }
   ],
   "source": [
    "from pandas.tools.plotting import scatter_matrix\n",
    "scatter_matrix(nrg, figsize=(16, 16))"
   ]
  },
  {
   "cell_type": "code",
   "execution_count": 17,
   "metadata": {
    "collapsed": false
   },
   "outputs": [
    {
     "data": {
      "text/plain": [
       "Index([u'BBL', u'UnitsTotal'], dtype='object')"
      ]
     },
     "execution_count": 17,
     "metadata": {},
     "output_type": "execute_result"
    }
   ],
   "source": [
    "bsize = bsize.loc[:,['BBL','UnitsTotal']]\n",
    "bsize.columns"
   ]
  },
  {
   "cell_type": "code",
   "execution_count": 15,
   "metadata": {
    "collapsed": false
   },
   "outputs": [
    {
     "data": {
      "text/plain": [
       "Index([u'BBL', u'siteEUI', u'sourceEUI', u'floorArea'], dtype='object')"
      ]
     },
     "execution_count": 15,
     "metadata": {},
     "output_type": "execute_result"
    }
   ],
   "source": [
    "nrg.columns"
   ]
  },
  {
   "cell_type": "code",
   "execution_count": 18,
   "metadata": {
    "collapsed": false
   },
   "outputs": [
    {
     "name": "stdout",
     "output_type": "stream",
     "text": [
      "(42697, 2)\n",
      "(16170, 4)\n"
     ]
    }
   ],
   "source": [
    "print bsize.shape\n",
    "print nrg.shape"
   ]
  },
  {
   "cell_type": "code",
   "execution_count": 20,
   "metadata": {
    "collapsed": false
   },
   "outputs": [
    {
     "data": {
      "text/plain": [
       "(16170, 5)"
      ]
     },
     "execution_count": 20,
     "metadata": {},
     "output_type": "execute_result"
    }
   ],
   "source": [
    "#merge data sets by BBL keeping all rows from the energy data set\n",
    "bblnrgdata = pd.merge(left = nrg, right=bsize, how = 'left', on = 'BBL')\n",
    "bblnrgdata.shape"
   ]
  },
  {
   "cell_type": "code",
   "execution_count": 47,
   "metadata": {
    "collapsed": false
   },
   "outputs": [
    {
     "data": {
      "image/png": "[encoded data removed]",
      "text/plain": [
       "<matplotlib.figure.Figure at 0x7f04fce12750>"
      ]
     },
     "metadata": {},
     "output_type": "display_data"
    }
   ],
   "source": [
    "fig = plt.figure(figsize=(16,12))\n",
    "\n",
    "ax = plt.subplots(2,2,figsize=(15,15))\n",
    "ax = seaborn.boxplot(bblnrgdata.UnitsTotal)\n",
    "\n",
    "#ax2 = fig.add_subplot(2,2,3)\n",
    "ax3.plot(bblnrgdata.UnitsTotal,bblnrgdata.siteEUI,'bo')\n",
    "\n",
    "#ax3 = fig.add_subplot(2,2,4)\n",
    "ax4 = seaborn.boxplot(bblnrgdata.siteEUI,orient = 'v')\n",
    "\n",
    "\n",
    "#ax.set_xlim(0,1000)\n",
    "#ax.set_ylim(0,500000)\n"
   ]
  },
  {
   "cell_type": "code",
   "execution_count": 67,
   "metadata": {
    "collapsed": false
   },
   "outputs": [
    {
     "data": {
      "image/png": "[encoded data removed]",
      "text/plain": [
       "<matplotlib.figure.Figure at 0x7f05141e3850>"
      ]
     },
     "metadata": {},
     "output_type": "display_data"
    }
   ],
   "source": [
    "ax = plt.subplot2grid((4,4),(0, 0), colspan=3,rowspan=1)\n",
    "ax2 = plt.subplot2grid((4,4),(1, 0), colspan=2,rowspan=2)\n",
    "ax3 = plt.subplot2grid((4,4), (3, 1), colspan=1,rowspan=3)\n",
    "\n",
    "\n"
   ]
  },
  {
   "cell_type": "code",
   "execution_count": 91,
   "metadata": {
    "collapsed": false
   },
   "outputs": [
    {
     "name": "stderr",
     "output_type": "stream",
     "text": [
      "/home/pipe/anaconda2/lib/python2.7/site-packages/numpy/lib/function_base.py:3834: RuntimeWarning: Invalid value encountered in percentile\n",
      "  RuntimeWarning)\n"
     ]
    },
    {
     "data": {
      "text/plain": [
       "{'boxes': [<matplotlib.lines.Line2D at 0x7f05106bc110>],\n",
       " 'caps': [<matplotlib.lines.Line2D at 0x7f04fce20110>,\n",
       "  <matplotlib.lines.Line2D at 0x7f04fce20f50>],\n",
       " 'fliers': [<matplotlib.lines.Line2D at 0x7f05106c6090>],\n",
       " 'means': [],\n",
       " 'medians': [<matplotlib.lines.Line2D at 0x7f04fce20850>],\n",
       " 'whiskers': [<matplotlib.lines.Line2D at 0x7f05106bc910>,\n",
       "  <matplotlib.lines.Line2D at 0x7f05106bcc90>]}"
      ]
     },
     "execution_count": 91,
     "metadata": {},
     "output_type": "execute_result"
    },
    {
     "data": {
      "image/png": "[encoded data removed]",
      "text/plain": [
       "<matplotlib.figure.Figure at 0x7f0515c0cbd0>"
      ]
     },
     "metadata": {},
     "output_type": "display_data"
    }
   ],
   "source": [
    "gs1 = gridspec.GridSpec(3, 3)\n",
    "gs1.update(left=.1, right=.9, wspace=0.1)\n",
    "ax1 = plt.subplot(gs1[:1, :2])\n",
    "ax2 = plt.subplot(gs1[1:3,:2])\n",
    "ax3 = plt.subplot(gs1[1:3,2:3])\n",
    "\n",
    "ax1 = seaborn.boxplot(bblnrgdata.UnitsTotal)\n",
    "\n",
    "#ax2 = fig.add_subplot(2,2,3)\n",
    "ax2.plot(bblnrgdata.UnitsTotal,bblnrgdata.siteEUI,'bo')\n",
    "\n",
    "#ax3 = fig.add_subplot(2,2,4)\n",
    "ax3.boxplot(bblnrgdata.siteEUI)\n"
   ]
  },
  {
   "cell_type": "code",
   "execution_count": 50,
   "metadata": {
    "collapsed": false
   },
   "outputs": [
    {
     "data": {
      "text/plain": [
       "0             NaN\n",
       "1             NaN\n",
       "2             NaN\n",
       "3        0.000000\n",
       "4             NaN\n",
       "5             NaN\n",
       "6             NaN\n",
       "7             NaN\n",
       "8             NaN\n",
       "9             NaN\n",
       "10            NaN\n",
       "11            NaN\n",
       "12            NaN\n",
       "13            NaN\n",
       "14            NaN\n",
       "15       0.602060\n",
       "16       1.748188\n",
       "17            NaN\n",
       "18            NaN\n",
       "19            NaN\n",
       "20            NaN\n",
       "21            NaN\n",
       "22            NaN\n",
       "23            NaN\n",
       "24       2.170262\n",
       "25            NaN\n",
       "26            NaN\n",
       "27            NaN\n",
       "28       0.000000\n",
       "29       1.204120\n",
       "           ...   \n",
       "16140         NaN\n",
       "16141         NaN\n",
       "16142         NaN\n",
       "16143         NaN\n",
       "16144         NaN\n",
       "16145         NaN\n",
       "16146         NaN\n",
       "16147         NaN\n",
       "16148         NaN\n",
       "16149         NaN\n",
       "16150         NaN\n",
       "16151    1.176091\n",
       "16152    1.397940\n",
       "16153    1.230449\n",
       "16154         NaN\n",
       "16155         NaN\n",
       "16156         NaN\n",
       "16157         NaN\n",
       "16158         NaN\n",
       "16159         NaN\n",
       "16160         NaN\n",
       "16161         NaN\n",
       "16162         NaN\n",
       "16163    0.000000\n",
       "16164    0.778151\n",
       "16165         NaN\n",
       "16166    0.000000\n",
       "16167    1.716003\n",
       "16168         NaN\n",
       "16169         NaN\n",
       "Name: UnitsTotal, dtype: float64"
      ]
     },
     "execution_count": 50,
     "metadata": {},
     "output_type": "execute_result"
    }
   ],
   "source": [
    "np.log10(bblnrgdata.UnitsTotal)"
   ]
  },
  {
   "cell_type": "code",
   "execution_count": null,
   "metadata": {
    "collapsed": true
   },
   "outputs": [],
   "source": []
  }
 ],
 "metadata": {
  "kernelspec": {
   "display_name": "Python [Root]",
   "language": "python",
   "name": "Python [Root]"
  },
  "language_info": {
   "codemirror_mode": {
    "name": "ipython",
    "version": 2
   },
   "file_extension": ".py",
   "mimetype": "text/x-python",
   "name": "python",
   "nbconvert_exporter": "python",
   "pygments_lexer": "ipython2",
   "version": "2.7.12"
  }
 },
 "nbformat": 4,
 "nbformat_minor": 0
}
