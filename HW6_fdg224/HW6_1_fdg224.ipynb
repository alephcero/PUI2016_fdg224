{
 "cells": [
  {
   "cell_type": "code",
   "execution_count": 3,
   "metadata": {
    "collapsed": true
   },
   "outputs": [],
   "source": [
    "import geopandas as gpd\n",
    "import pandas as pd\n",
    "import numpy as np\n",
    "import os\n",
    "import json\n",
    "import matplotlib.pyplot as plt\n",
    "import seaborn\n",
    "import statsmodels.api as sm\n",
    "import statsmodels.formula.api as smf\n",
    "%matplotlib inline"
   ]
  },
  {
   "cell_type": "code",
   "execution_count": 4,
   "metadata": {
    "collapsed": false
   },
   "outputs": [
    {
     "data": {
      "text/html": [
       "<div>\n",
       "<table border=\"1\" class=\"dataframe\">\n",
       "  <thead>\n",
       "    <tr style=\"text-align: right;\">\n",
       "      <th></th>\n",
       "      <th>automatic_water_benchmarking_eligible</th>\n",
       "      <th>bbls_co_reported</th>\n",
       "      <th>borough</th>\n",
       "      <th>co_reported_bbl_status</th>\n",
       "      <th>direct_ghg_emissions_mtco2e</th>\n",
       "      <th>dof_benchmarking_submission_status</th>\n",
       "      <th>dof_number_of_buildings</th>\n",
       "      <th>dof_property_floor_area_buildngs_and_parking_ft2</th>\n",
       "      <th>energy_star_score</th>\n",
       "      <th>indirect_ghg_emissions_mtco2e</th>\n",
       "      <th>...</th>\n",
       "      <th>reported_property_floor_area_building_s_ft</th>\n",
       "      <th>reported_water_method</th>\n",
       "      <th>site_eui_kbtu_ft2</th>\n",
       "      <th>source_eui_kbtu_ft2</th>\n",
       "      <th>street_name</th>\n",
       "      <th>street_number</th>\n",
       "      <th>total_ghg_emissions_mtco2e</th>\n",
       "      <th>weather_normalized_site_eui_kbtu_ft2</th>\n",
       "      <th>weather_normalized_source_eui_kbtu_ft2</th>\n",
       "      <th>zip_code</th>\n",
       "    </tr>\n",
       "  </thead>\n",
       "  <tbody>\n",
       "    <tr>\n",
       "      <th>0</th>\n",
       "      <td>NaN</td>\n",
       "      <td>1000410001</td>\n",
       "      <td>Manhattan</td>\n",
       "      <td>NaN</td>\n",
       "      <td>NaN</td>\n",
       "      <td>BBL not valid</td>\n",
       "      <td>NaN</td>\n",
       "      <td>NaN</td>\n",
       "      <td>Not Available</td>\n",
       "      <td>NaN</td>\n",
       "      <td>...</td>\n",
       "      <td>918919</td>\n",
       "      <td>NaN</td>\n",
       "      <td>NaN</td>\n",
       "      <td>NaN</td>\n",
       "      <td>NaN</td>\n",
       "      <td>NaN</td>\n",
       "      <td>NaN</td>\n",
       "      <td>Not Available</td>\n",
       "      <td>Not Available</td>\n",
       "      <td>NaN</td>\n",
       "    </tr>\n",
       "    <tr>\n",
       "      <th>1</th>\n",
       "      <td>Yes</td>\n",
       "      <td>NaN</td>\n",
       "      <td>Queens</td>\n",
       "      <td>NaN</td>\n",
       "      <td>NaN</td>\n",
       "      <td>No Submission Matched to BBL</td>\n",
       "      <td>1.0</td>\n",
       "      <td>82730.0</td>\n",
       "      <td>NaN</td>\n",
       "      <td>NaN</td>\n",
       "      <td>...</td>\n",
       "      <td>NaN</td>\n",
       "      <td>None</td>\n",
       "      <td>NaN</td>\n",
       "      <td>NaN</td>\n",
       "      <td>108 STREET</td>\n",
       "      <td>63-10</td>\n",
       "      <td>NaN</td>\n",
       "      <td>NaN</td>\n",
       "      <td>NaN</td>\n",
       "      <td>11375.0</td>\n",
       "    </tr>\n",
       "    <tr>\n",
       "      <th>2</th>\n",
       "      <td>NaN</td>\n",
       "      <td>2027620097</td>\n",
       "      <td>Bronx</td>\n",
       "      <td>NaN</td>\n",
       "      <td>NaN</td>\n",
       "      <td>BBL not valid</td>\n",
       "      <td>NaN</td>\n",
       "      <td>NaN</td>\n",
       "      <td>Not Available</td>\n",
       "      <td>NaN</td>\n",
       "      <td>...</td>\n",
       "      <td>64200</td>\n",
       "      <td>NaN</td>\n",
       "      <td>NaN</td>\n",
       "      <td>NaN</td>\n",
       "      <td>NaN</td>\n",
       "      <td>NaN</td>\n",
       "      <td>NaN</td>\n",
       "      <td>Not Available</td>\n",
       "      <td>Not Available</td>\n",
       "      <td>NaN</td>\n",
       "    </tr>\n",
       "    <tr>\n",
       "      <th>3</th>\n",
       "      <td>No</td>\n",
       "      <td>NaN</td>\n",
       "      <td>Manhattan</td>\n",
       "      <td>NaN</td>\n",
       "      <td>NaN</td>\n",
       "      <td>No Submission Matched to BBL</td>\n",
       "      <td>1.0</td>\n",
       "      <td>440360.0</td>\n",
       "      <td>NaN</td>\n",
       "      <td>NaN</td>\n",
       "      <td>...</td>\n",
       "      <td>NaN</td>\n",
       "      <td>None</td>\n",
       "      <td>NaN</td>\n",
       "      <td>NaN</td>\n",
       "      <td>11 AVENUE</td>\n",
       "      <td>201</td>\n",
       "      <td>NaN</td>\n",
       "      <td>NaN</td>\n",
       "      <td>NaN</td>\n",
       "      <td>10001.0</td>\n",
       "    </tr>\n",
       "    <tr>\n",
       "      <th>4</th>\n",
       "      <td>NaN</td>\n",
       "      <td>2048300034</td>\n",
       "      <td>Bronx</td>\n",
       "      <td>NaN</td>\n",
       "      <td>NaN</td>\n",
       "      <td>Not on Covered Buildings List</td>\n",
       "      <td>NaN</td>\n",
       "      <td>NaN</td>\n",
       "      <td>Not Available</td>\n",
       "      <td>NaN</td>\n",
       "      <td>...</td>\n",
       "      <td>50000</td>\n",
       "      <td>None</td>\n",
       "      <td>NaN</td>\n",
       "      <td>NaN</td>\n",
       "      <td>NaN</td>\n",
       "      <td>NaN</td>\n",
       "      <td>NaN</td>\n",
       "      <td>Not Available</td>\n",
       "      <td>Not Available</td>\n",
       "      <td>NaN</td>\n",
       "    </tr>\n",
       "  </tbody>\n",
       "</table>\n",
       "<p>5 rows × 25 columns</p>\n",
       "</div>"
      ],
      "text/plain": [
       "  automatic_water_benchmarking_eligible bbls_co_reported    borough  \\\n",
       "0                                   NaN       1000410001  Manhattan   \n",
       "1                                   Yes              NaN     Queens   \n",
       "2                                   NaN       2027620097      Bronx   \n",
       "3                                    No              NaN  Manhattan   \n",
       "4                                   NaN       2048300034      Bronx   \n",
       "\n",
       "  co_reported_bbl_status direct_ghg_emissions_mtco2e  \\\n",
       "0                    NaN                         NaN   \n",
       "1                    NaN                         NaN   \n",
       "2                    NaN                         NaN   \n",
       "3                    NaN                         NaN   \n",
       "4                    NaN                         NaN   \n",
       "\n",
       "  dof_benchmarking_submission_status  dof_number_of_buildings  \\\n",
       "0                      BBL not valid                      NaN   \n",
       "1       No Submission Matched to BBL                      1.0   \n",
       "2                      BBL not valid                      NaN   \n",
       "3       No Submission Matched to BBL                      1.0   \n",
       "4      Not on Covered Buildings List                      NaN   \n",
       "\n",
       "   dof_property_floor_area_buildngs_and_parking_ft2 energy_star_score  \\\n",
       "0                                               NaN     Not Available   \n",
       "1                                           82730.0               NaN   \n",
       "2                                               NaN     Not Available   \n",
       "3                                          440360.0               NaN   \n",
       "4                                               NaN     Not Available   \n",
       "\n",
       "  indirect_ghg_emissions_mtco2e   ...     \\\n",
       "0                           NaN   ...      \n",
       "1                           NaN   ...      \n",
       "2                           NaN   ...      \n",
       "3                           NaN   ...      \n",
       "4                           NaN   ...      \n",
       "\n",
       "  reported_property_floor_area_building_s_ft  reported_water_method  \\\n",
       "0                                     918919                    NaN   \n",
       "1                                        NaN                   None   \n",
       "2                                      64200                    NaN   \n",
       "3                                        NaN                   None   \n",
       "4                                      50000                   None   \n",
       "\n",
       "  site_eui_kbtu_ft2  source_eui_kbtu_ft2 street_name street_number  \\\n",
       "0               NaN                  NaN         NaN           NaN   \n",
       "1               NaN                  NaN  108 STREET         63-10   \n",
       "2               NaN                  NaN         NaN           NaN   \n",
       "3               NaN                  NaN   11 AVENUE           201   \n",
       "4               NaN                  NaN         NaN           NaN   \n",
       "\n",
       "  total_ghg_emissions_mtco2e weather_normalized_site_eui_kbtu_ft2  \\\n",
       "0                        NaN                        Not Available   \n",
       "1                        NaN                                  NaN   \n",
       "2                        NaN                        Not Available   \n",
       "3                        NaN                                  NaN   \n",
       "4                        NaN                        Not Available   \n",
       "\n",
       "  weather_normalized_source_eui_kbtu_ft2 zip_code  \n",
       "0                          Not Available      NaN  \n",
       "1                                    NaN  11375.0  \n",
       "2                          Not Available      NaN  \n",
       "3                                    NaN  10001.0  \n",
       "4                          Not Available      NaN  \n",
       "\n",
       "[5 rows x 25 columns]"
      ]
     },
     "execution_count": 4,
     "metadata": {},
     "output_type": "execute_result"
    }
   ],
   "source": [
    "#download Energy and Water Data Disclosure for Local Law 84 (2013)\n",
    "APIendPoint = 'https://data.cityofnewyork.us/resource/m46j-75iy.csv' \n",
    "nrg = pd.read_csv(APIendPoint)\n",
    "nrg.head()"
   ]
  },
  {
   "cell_type": "code",
   "execution_count": null,
   "metadata": {
    "collapsed": false
   },
   "outputs": [],
   "source": [
    "#download pluto data\n",
    "plutoVersion = 'mappluto_16v1.zip'\n",
    "plutoURL = 'https://www1.nyc.gov/assets/planning/download/zip/data-maps/open-data/'  \n",
    "os.system(\"wget \" + plutoURL + plutoVersion)\n"
   ]
  },
  {
   "cell_type": "code",
   "execution_count": 5,
   "metadata": {
    "collapsed": false
   },
   "outputs": [
    {
     "data": {
      "text/html": [
       "<div>\n",
       "<table border=\"1\" class=\"dataframe\">\n",
       "  <thead>\n",
       "    <tr style=\"text-align: right;\">\n",
       "      <th></th>\n",
       "      <th>APPBBL</th>\n",
       "      <th>APPDate</th>\n",
       "      <th>Address</th>\n",
       "      <th>AllZoning1</th>\n",
       "      <th>AllZoning2</th>\n",
       "      <th>AreaSource</th>\n",
       "      <th>AssessLand</th>\n",
       "      <th>AssessTot</th>\n",
       "      <th>BBL</th>\n",
       "      <th>BldgArea</th>\n",
       "      <th>...</th>\n",
       "      <th>YearAlter2</th>\n",
       "      <th>YearBuilt</th>\n",
       "      <th>ZMCode</th>\n",
       "      <th>ZipCode</th>\n",
       "      <th>ZoneDist1</th>\n",
       "      <th>ZoneDist2</th>\n",
       "      <th>ZoneDist3</th>\n",
       "      <th>ZoneDist4</th>\n",
       "      <th>ZoneMap</th>\n",
       "      <th>geometry</th>\n",
       "    </tr>\n",
       "  </thead>\n",
       "  <tbody>\n",
       "    <tr>\n",
       "      <th>0</th>\n",
       "      <td>0.000000e+00</td>\n",
       "      <td>None</td>\n",
       "      <td>1592 2 AVENUE</td>\n",
       "      <td>C1-9/TA</td>\n",
       "      <td>None</td>\n",
       "      <td>2</td>\n",
       "      <td>468000.0</td>\n",
       "      <td>1435950.0</td>\n",
       "      <td>1.015450e+09</td>\n",
       "      <td>10885</td>\n",
       "      <td>...</td>\n",
       "      <td>0</td>\n",
       "      <td>1920</td>\n",
       "      <td>None</td>\n",
       "      <td>10028</td>\n",
       "      <td>C1-9</td>\n",
       "      <td>None</td>\n",
       "      <td>None</td>\n",
       "      <td>None</td>\n",
       "      <td>9a</td>\n",
       "      <td>POLYGON ((997277.2344000041 221816.0936000049,...</td>\n",
       "    </tr>\n",
       "    <tr>\n",
       "      <th>1</th>\n",
       "      <td>1.007230e+09</td>\n",
       "      <td>11/30/2006</td>\n",
       "      <td>263 9 AVENUE</td>\n",
       "      <td>C1-5/R8</td>\n",
       "      <td>None</td>\n",
       "      <td>2</td>\n",
       "      <td>539984.0</td>\n",
       "      <td>11879993.0</td>\n",
       "      <td>1.007238e+09</td>\n",
       "      <td>89203</td>\n",
       "      <td>...</td>\n",
       "      <td>0</td>\n",
       "      <td>1914</td>\n",
       "      <td>None</td>\n",
       "      <td>10001</td>\n",
       "      <td>R8</td>\n",
       "      <td>None</td>\n",
       "      <td>None</td>\n",
       "      <td>None</td>\n",
       "      <td>8d</td>\n",
       "      <td>POLYGON ((984164.5626000017 211846.0703999996,...</td>\n",
       "    </tr>\n",
       "    <tr>\n",
       "      <th>2</th>\n",
       "      <td>0.000000e+00</td>\n",
       "      <td>None</td>\n",
       "      <td>310 EAST 109 STREET</td>\n",
       "      <td>R7A</td>\n",
       "      <td>None</td>\n",
       "      <td>2</td>\n",
       "      <td>140102.0</td>\n",
       "      <td>343271.0</td>\n",
       "      <td>1.016800e+09</td>\n",
       "      <td>12000</td>\n",
       "      <td>...</td>\n",
       "      <td>0</td>\n",
       "      <td>1910</td>\n",
       "      <td>None</td>\n",
       "      <td>10029</td>\n",
       "      <td>R7A</td>\n",
       "      <td>None</td>\n",
       "      <td>None</td>\n",
       "      <td>None</td>\n",
       "      <td>6b</td>\n",
       "      <td>POLYGON ((1000742.195800006 227910.6640000045,...</td>\n",
       "    </tr>\n",
       "    <tr>\n",
       "      <th>3</th>\n",
       "      <td>0.000000e+00</td>\n",
       "      <td>None</td>\n",
       "      <td>720 PARK AVENUE</td>\n",
       "      <td>R10/PI/LH-1A</td>\n",
       "      <td>R8B</td>\n",
       "      <td>2</td>\n",
       "      <td>5040000.0</td>\n",
       "      <td>30591900.0</td>\n",
       "      <td>1.013850e+09</td>\n",
       "      <td>203490</td>\n",
       "      <td>...</td>\n",
       "      <td>2006</td>\n",
       "      <td>1928</td>\n",
       "      <td>None</td>\n",
       "      <td>10021</td>\n",
       "      <td>R10</td>\n",
       "      <td>R8B</td>\n",
       "      <td>None</td>\n",
       "      <td>None</td>\n",
       "      <td>8c</td>\n",
       "      <td>POLYGON ((994007.6886000037 219880.428399995, ...</td>\n",
       "    </tr>\n",
       "    <tr>\n",
       "      <th>4</th>\n",
       "      <td>0.000000e+00</td>\n",
       "      <td>None</td>\n",
       "      <td>3 WEST 83 STREET</td>\n",
       "      <td>R8B</td>\n",
       "      <td>R10A</td>\n",
       "      <td>2</td>\n",
       "      <td>437850.0</td>\n",
       "      <td>1267200.0</td>\n",
       "      <td>1.011970e+09</td>\n",
       "      <td>13839</td>\n",
       "      <td>...</td>\n",
       "      <td>0</td>\n",
       "      <td>1900</td>\n",
       "      <td>None</td>\n",
       "      <td>10024</td>\n",
       "      <td>R8B</td>\n",
       "      <td>R10A</td>\n",
       "      <td>None</td>\n",
       "      <td>None</td>\n",
       "      <td>5d</td>\n",
       "      <td>POLYGON ((992273.6850000024 224863.4904000014,...</td>\n",
       "    </tr>\n",
       "  </tbody>\n",
       "</table>\n",
       "<p>5 rows × 90 columns</p>\n",
       "</div>"
      ],
      "text/plain": [
       "         APPBBL     APPDate              Address    AllZoning1 AllZoning2  \\\n",
       "0  0.000000e+00        None        1592 2 AVENUE       C1-9/TA       None   \n",
       "1  1.007230e+09  11/30/2006         263 9 AVENUE       C1-5/R8       None   \n",
       "2  0.000000e+00        None  310 EAST 109 STREET           R7A       None   \n",
       "3  0.000000e+00        None      720 PARK AVENUE  R10/PI/LH-1A        R8B   \n",
       "4  0.000000e+00        None     3 WEST 83 STREET           R8B       R10A   \n",
       "\n",
       "  AreaSource  AssessLand   AssessTot           BBL  BldgArea  \\\n",
       "0          2    468000.0   1435950.0  1.015450e+09     10885   \n",
       "1          2    539984.0  11879993.0  1.007238e+09     89203   \n",
       "2          2    140102.0    343271.0  1.016800e+09     12000   \n",
       "3          2   5040000.0  30591900.0  1.013850e+09    203490   \n",
       "4          2    437850.0   1267200.0  1.011970e+09     13839   \n",
       "\n",
       "                         ...                         YearAlter2  YearBuilt  \\\n",
       "0                        ...                                  0       1920   \n",
       "1                        ...                                  0       1914   \n",
       "2                        ...                                  0       1910   \n",
       "3                        ...                               2006       1928   \n",
       "4                        ...                                  0       1900   \n",
       "\n",
       "   ZMCode  ZipCode  ZoneDist1 ZoneDist2 ZoneDist3 ZoneDist4  ZoneMap  \\\n",
       "0    None    10028       C1-9      None      None      None       9a   \n",
       "1    None    10001         R8      None      None      None       8d   \n",
       "2    None    10029        R7A      None      None      None       6b   \n",
       "3    None    10021        R10       R8B      None      None       8c   \n",
       "4    None    10024        R8B      R10A      None      None       5d   \n",
       "\n",
       "                                            geometry  \n",
       "0  POLYGON ((997277.2344000041 221816.0936000049,...  \n",
       "1  POLYGON ((984164.5626000017 211846.0703999996,...  \n",
       "2  POLYGON ((1000742.195800006 227910.6640000045,...  \n",
       "3  POLYGON ((994007.6886000037 219880.428399995, ...  \n",
       "4  POLYGON ((992273.6850000024 224863.4904000014,...  \n",
       "\n",
       "[5 rows x 90 columns]"
      ]
     },
     "execution_count": 5,
     "metadata": {},
     "output_type": "execute_result"
    }
   ],
   "source": [
    "#read building size from pluto shape\n",
    "bsize = gpd.read_file(os.getenv(\"PUIDATA\") + \"/Manhattan/MNMapPLUTO.shp\")\n",
    "bsize.head()"
   ]
  },
  {
   "cell_type": "code",
   "execution_count": 6,
   "metadata": {
    "collapsed": false
   },
   "outputs": [
    {
     "name": "stdout",
     "output_type": "stream",
     "text": [
      "Index([u'automatic_water_benchmarking_eligible', u'bbls_co_reported',\n",
      "       u'borough', u'co_reported_bbl_status', u'direct_ghg_emissions_mtco2e',\n",
      "       u'dof_benchmarking_submission_status', u'dof_number_of_buildings',\n",
      "       u'dof_property_floor_area_buildngs_and_parking_ft2',\n",
      "       u'energy_star_score', u'indirect_ghg_emissions_mtco2e',\n",
      "       u'municipally_supplied_potable_water_indoor_intensity_gal_ft',\n",
      "       u'nyc_borough_block_and_lot_bbl',\n",
      "       u'primary_property_type_self_selected', u'record_number',\n",
      "       u'reported_nyc_building_identificaiton_numbers_bins',\n",
      "       u'reported_property_floor_area_building_s_ft', u'reported_water_method',\n",
      "       u'site_eui_kbtu_ft2', u'source_eui_kbtu_ft2', u'street_name',\n",
      "       u'street_number', u'total_ghg_emissions_mtco2e',\n",
      "       u'weather_normalized_site_eui_kbtu_ft2',\n",
      "       u'weather_normalized_source_eui_kbtu_ft2', u'zip_code'],\n",
      "      dtype='object')\n",
      "Index([u'automatic_water_benchmarking_eligible', u'bbls_co_reported',\n",
      "       u'borough', u'co_reported_bbl_status', u'direct_ghg_emissions_mtco2e',\n",
      "       u'dof_benchmarking_submission_status', u'dof_number_of_buildings',\n",
      "       u'dof_property_floor_area_buildngs_and_parking_ft2',\n",
      "       u'energy_star_score', u'indirect_ghg_emissions_mtco2e',\n",
      "       u'municipally_supplied_potable_water_indoor_intensity_gal_ft', u'BBL',\n",
      "       u'primary_property_type_self_selected', u'record_number',\n",
      "       u'reported_nyc_building_identificaiton_numbers_bins',\n",
      "       u'reported_property_floor_area_building_s_ft', u'reported_water_method',\n",
      "       u'site_eui_kbtu_ft2', u'source_eui_kbtu_ft2', u'street_name',\n",
      "       u'street_number', u'total_ghg_emissions_mtco2e',\n",
      "       u'weather_normalized_site_eui_kbtu_ft2',\n",
      "       u'weather_normalized_source_eui_kbtu_ft2', u'zip_code'],\n",
      "      dtype='object')\n"
     ]
    }
   ],
   "source": [
    "#change Borough Block and Lot to BBL to work as a merge key \n",
    "print nrg.columns\n",
    "nrg.rename(columns={'nyc_borough_block_and_lot_bbl': 'BBL'}, inplace=True)\n",
    "print nrg.columns\n"
   ]
  },
  {
   "cell_type": "code",
   "execution_count": 7,
   "metadata": {
    "collapsed": false,
    "scrolled": true
   },
   "outputs": [
    {
     "data": {
      "text/html": [
       "<div>\n",
       "<table border=\"1\" class=\"dataframe\">\n",
       "  <thead>\n",
       "    <tr style=\"text-align: right;\">\n",
       "      <th></th>\n",
       "      <th>BBL</th>\n",
       "      <th>siteEUI</th>\n",
       "      <th>floorArea</th>\n",
       "    </tr>\n",
       "  </thead>\n",
       "  <tbody>\n",
       "    <tr>\n",
       "      <th>0</th>\n",
       "      <td>1.000410e+09</td>\n",
       "      <td>NaN</td>\n",
       "      <td>918919.0</td>\n",
       "    </tr>\n",
       "    <tr>\n",
       "      <th>1</th>\n",
       "      <td>4.021460e+09</td>\n",
       "      <td>NaN</td>\n",
       "      <td>NaN</td>\n",
       "    </tr>\n",
       "    <tr>\n",
       "      <th>2</th>\n",
       "      <td>2.027620e+09</td>\n",
       "      <td>NaN</td>\n",
       "      <td>64200.0</td>\n",
       "    </tr>\n",
       "    <tr>\n",
       "      <th>3</th>\n",
       "      <td>1.006700e+09</td>\n",
       "      <td>NaN</td>\n",
       "      <td>NaN</td>\n",
       "    </tr>\n",
       "    <tr>\n",
       "      <th>4</th>\n",
       "      <td>2.048300e+09</td>\n",
       "      <td>NaN</td>\n",
       "      <td>50000.0</td>\n",
       "    </tr>\n",
       "  </tbody>\n",
       "</table>\n",
       "</div>"
      ],
      "text/plain": [
       "            BBL  siteEUI  floorArea\n",
       "0  1.000410e+09      NaN   918919.0\n",
       "1  4.021460e+09      NaN        NaN\n",
       "2  2.027620e+09      NaN    64200.0\n",
       "3  1.006700e+09      NaN        NaN\n",
       "4  2.048300e+09      NaN    50000.0"
      ]
     },
     "execution_count": 7,
     "metadata": {},
     "output_type": "execute_result"
    }
   ],
   "source": [
    "#Keep\n",
    "## BBL\n",
    "\n",
    "## site_eui_kbtu_ft2  \n",
    "##  The Site Energy Use Intensity (EUI), as calculated by Portfolio Manager, at the property site. This\n",
    "##equals the amount of energy consumed at the site in thousand British thermal units (kBtus) per gross square\n",
    "##foot (kBtu/ft2) of the property. Site EUI values are the result of self-reported entries.\n",
    "\n",
    "## reported_property_floor_area_building_s_ft\n",
    "## Self-reported total gross square footage (ft2) of the property.\n",
    "\n",
    "\n",
    "nrg['siteEUI'] = pd.to_numeric(nrg.site_eui_kbtu_ft2, errors = 'coerce')\n",
    "nrg['floorArea']= pd.to_numeric(nrg.reported_property_floor_area_building_s_ft, errors = 'coerce')\n",
    "nrg = nrg.copy().loc[:,['BBL','siteEUI','floorArea']]\n",
    "nrg.head()\n"
   ]
  },
  {
   "cell_type": "code",
   "execution_count": 8,
   "metadata": {
    "collapsed": false
   },
   "outputs": [
    {
     "data": {
      "text/html": [
       "<div>\n",
       "<table border=\"1\" class=\"dataframe\">\n",
       "  <thead>\n",
       "    <tr style=\"text-align: right;\">\n",
       "      <th></th>\n",
       "      <th>BBL</th>\n",
       "      <th>totalEnergy</th>\n",
       "    </tr>\n",
       "  </thead>\n",
       "  <tbody>\n",
       "    <tr>\n",
       "      <th>0</th>\n",
       "      <td>1.000410e+09</td>\n",
       "      <td>NaN</td>\n",
       "    </tr>\n",
       "    <tr>\n",
       "      <th>1</th>\n",
       "      <td>4.021460e+09</td>\n",
       "      <td>NaN</td>\n",
       "    </tr>\n",
       "    <tr>\n",
       "      <th>2</th>\n",
       "      <td>2.027620e+09</td>\n",
       "      <td>NaN</td>\n",
       "    </tr>\n",
       "    <tr>\n",
       "      <th>3</th>\n",
       "      <td>1.006700e+09</td>\n",
       "      <td>NaN</td>\n",
       "    </tr>\n",
       "    <tr>\n",
       "      <th>4</th>\n",
       "      <td>2.048300e+09</td>\n",
       "      <td>NaN</td>\n",
       "    </tr>\n",
       "  </tbody>\n",
       "</table>\n",
       "</div>"
      ],
      "text/plain": [
       "            BBL  totalEnergy\n",
       "0  1.000410e+09          NaN\n",
       "1  4.021460e+09          NaN\n",
       "2  2.027620e+09          NaN\n",
       "3  1.006700e+09          NaN\n",
       "4  2.048300e+09          NaN"
      ]
     },
     "execution_count": 8,
     "metadata": {},
     "output_type": "execute_result"
    }
   ],
   "source": [
    "#create total energy consumption variable from floorArea and siteEUI, and remove those variables\n",
    "nrg['totalEnergy'] = nrg.siteEUI * nrg.floorArea\n",
    "nrg.drop(['siteEUI','floorArea'], axis = 1, inplace=True)\n",
    "nrg.head()"
   ]
  },
  {
   "cell_type": "code",
   "execution_count": 9,
   "metadata": {
    "collapsed": false
   },
   "outputs": [
    {
     "data": {
      "text/plain": [
       "array([[<matplotlib.axes._subplots.AxesSubplot object at 0x7f161d797a50>,\n",
       "        <matplotlib.axes._subplots.AxesSubplot object at 0x7f1638600a50>],\n",
       "       [<matplotlib.axes._subplots.AxesSubplot object at 0x7f162e0e12d0>,\n",
       "        <matplotlib.axes._subplots.AxesSubplot object at 0x7f1633f73210>]], dtype=object)"
      ]
     },
     "execution_count": 9,
     "metadata": {},
     "output_type": "execute_result"
    },
    {
     "data": {
      "image/png": "[encoded data removed]",
      "text/plain": [
       "<matplotlib.figure.Figure at 0x7f1636847d50>"
      ]
     },
     "metadata": {},
     "output_type": "display_data"
    }
   ],
   "source": [
    "#Scatter plot matrix to check for numeric transformation of values \n",
    "from pandas.tools.plotting import scatter_matrix\n",
    "scatter_matrix(nrg, figsize=(16, 16))"
   ]
  },
  {
   "cell_type": "code",
   "execution_count": 10,
   "metadata": {
    "collapsed": false
   },
   "outputs": [
    {
     "data": {
      "text/html": [
       "<div>\n",
       "<table border=\"1\" class=\"dataframe\">\n",
       "  <thead>\n",
       "    <tr style=\"text-align: right;\">\n",
       "      <th></th>\n",
       "      <th>BBL</th>\n",
       "      <th>Units</th>\n",
       "    </tr>\n",
       "  </thead>\n",
       "  <tbody>\n",
       "    <tr>\n",
       "      <th>0</th>\n",
       "      <td>1.015450e+09</td>\n",
       "      <td>16</td>\n",
       "    </tr>\n",
       "    <tr>\n",
       "      <th>1</th>\n",
       "      <td>1.007238e+09</td>\n",
       "      <td>50</td>\n",
       "    </tr>\n",
       "    <tr>\n",
       "      <th>2</th>\n",
       "      <td>1.016800e+09</td>\n",
       "      <td>10</td>\n",
       "    </tr>\n",
       "    <tr>\n",
       "      <th>3</th>\n",
       "      <td>1.013850e+09</td>\n",
       "      <td>29</td>\n",
       "    </tr>\n",
       "    <tr>\n",
       "      <th>4</th>\n",
       "      <td>1.011970e+09</td>\n",
       "      <td>26</td>\n",
       "    </tr>\n",
       "  </tbody>\n",
       "</table>\n",
       "</div>"
      ],
      "text/plain": [
       "            BBL  Units\n",
       "0  1.015450e+09     16\n",
       "1  1.007238e+09     50\n",
       "2  1.016800e+09     10\n",
       "3  1.013850e+09     29\n",
       "4  1.011970e+09     26"
      ]
     },
     "execution_count": 10,
     "metadata": {},
     "output_type": "execute_result"
    }
   ],
   "source": [
    "#Keep only the residential units in the dataset\n",
    "#few units non residential could have an extraordinary energy consumption,\n",
    "bsize = bsize.loc[:,['BBL','UnitsRes']]\n",
    "bsize.columns = ['BBL','Units']\n",
    "bsize.head()"
   ]
  },
  {
   "cell_type": "code",
   "execution_count": 11,
   "metadata": {
    "collapsed": false
   },
   "outputs": [
    {
     "name": "stdout",
     "output_type": "stream",
     "text": [
      "(42697, 2)\n",
      "(16170, 2)\n"
     ]
    }
   ],
   "source": [
    "#check shape before merge\n",
    "print bsize.shape\n",
    "print nrg.shape"
   ]
  },
  {
   "cell_type": "code",
   "execution_count": 12,
   "metadata": {
    "collapsed": false
   },
   "outputs": [
    {
     "data": {
      "text/plain": [
       "(16170, 3)"
      ]
     },
     "execution_count": 12,
     "metadata": {},
     "output_type": "execute_result"
    }
   ],
   "source": [
    "#merge data sets by BBL keeping all rows from the energy data set\n",
    "bblnrgdata = pd.merge(left = nrg, right=bsize, how = 'left', on = 'BBL')\n",
    "\n",
    "#check shape after merge\n",
    "bblnrgdata.shape"
   ]
  },
  {
   "cell_type": "code",
   "execution_count": 13,
   "metadata": {
    "collapsed": false
   },
   "outputs": [
    {
     "data": {
      "text/plain": [
       "(1000, 10000000000.0)"
      ]
     },
     "execution_count": 13,
     "metadata": {},
     "output_type": "execute_result"
    },
    {
     "data": {
      "image/png": "[encoded data removed]",
      "text/plain": [
       "<matplotlib.figure.Figure at 0x7f162576c510>"
      ]
     },
     "metadata": {},
     "output_type": "display_data"
    }
   ],
   "source": [
    "fig = plt.figure(figsize=(16,6))\n",
    "ax = fig.add_subplot(1,2,1)\n",
    "ax.plot(bblnrgdata.Units,bblnrgdata.totalEnergy,'bo')\n",
    "ax.set_title('Amount of energy consumed at the site by Total of units per building')\n",
    "ax.set_xlabel('Total of units in the building')\n",
    "ax.set_ylabel('Amount of energy consumed at the site')\n",
    "\n",
    "ax2 = fig.add_subplot(1,2,2)\n",
    "ax2.plot(bblnrgdata.Units,bblnrgdata.totalEnergy,'bo')\n",
    "ax2.set_title('Amount of energy consumed at the site by Total of units in per building (subset)')\n",
    "ax2.set_xlabel('Total of units in the building (subset)')\n",
    "ax2.set_ylabel('Amount of energy consumed at the site (subset)')\n",
    "\n",
    "ax2.set_xlim(1,1000)\n",
    "ax2.set_ylim(1000,1e10)"
   ]
  },
  {
   "cell_type": "markdown",
   "metadata": {},
   "source": [
    "## Figure 1\n",
    "Scatter plot for Total units in the building vs Amount of energy consumed. In the frist plot, the full dataset gets shown, while in the second only a subset, focusing on the mayority of observations. No clear pattern appears in the data as it is"
   ]
  },
  {
   "cell_type": "code",
   "execution_count": 23,
   "metadata": {
    "collapsed": false
   },
   "outputs": [
    {
     "name": "stdout",
     "output_type": "stream",
     "text": [
      "(16170, 3)\n",
      "(5069, 3)\n"
     ]
    }
   ],
   "source": [
    "#rmeove NaNs for every colum\n",
    "print bblnrgdata.shape\n",
    "bblnrgdata.dropna(axis=0, how='any', thresh=None, subset=None, inplace=True)\n",
    "print bblnrgdata.shape"
   ]
  },
  {
   "cell_type": "code",
   "execution_count": 24,
   "metadata": {
    "collapsed": false
   },
   "outputs": [
    {
     "name": "stdout",
     "output_type": "stream",
     "text": [
      "count    5069.000000\n",
      "mean       99.613928\n",
      "std       255.911259\n",
      "min         0.000000\n",
      "25%         0.000000\n",
      "50%        54.000000\n",
      "75%       113.000000\n",
      "max      8759.000000\n",
      "Name: Units, dtype: float64\n",
      "count    5.069000e+03\n",
      "mean     2.136455e+08\n",
      "std      5.245490e+09\n",
      "min      0.000000e+00\n",
      "25%      5.865608e+06\n",
      "50%      9.347373e+06\n",
      "75%      1.905119e+07\n",
      "max      3.501452e+11\n",
      "Name: totalEnergy, dtype: float64\n"
     ]
    }
   ],
   "source": [
    "#see distribution of values\n",
    "print bblnrgdata.Units.describe()\n",
    "print bblnrgdata.totalEnergy.describe()"
   ]
  },
  {
   "cell_type": "code",
   "execution_count": 28,
   "metadata": {
    "collapsed": true
   },
   "outputs": [],
   "source": [
    "seaborn.kdeplot?"
   ]
  },
  {
   "cell_type": "code",
   "execution_count": 33,
   "metadata": {
    "collapsed": false
   },
   "outputs": [
    {
     "data": {
      "text/plain": [
       "<matplotlib.text.Text at 0x7f162442d0d0>"
      ]
     },
     "execution_count": 33,
     "metadata": {},
     "output_type": "execute_result"
    },
    {
     "data": {
      "image/png": "[encoded data removed]",
      "text/plain": [
       "<matplotlib.figure.Figure at 0x7f162b25d7d0>"
      ]
     },
     "metadata": {},
     "output_type": "display_data"
    }
   ],
   "source": [
    "fig = plt.figure(figsize=(16,6))\n",
    "ax = fig.add_subplot(2,2,1)\n",
    "ax = seaborn.boxplot(bblnrgdata.totalEnergy)\n",
    "ax.set_title('Total energy distribution')\n",
    "ax.set_xlabel('Total energy')\n",
    "\n",
    "ax2 = fig.add_subplot(2,2,2)\n",
    "ax2 = seaborn.boxplot(bblnrgdata.Units)\n",
    "ax2.set_title('Building units distribution')\n",
    "ax2.set_xlabel('Building units')\n",
    "\n",
    "\n",
    "ax3 = fig.add_subplot(2,2,3)\n",
    "ax3 = seaborn.kdeplot(bblnrgdata.totalEnergy, legend = False)\n",
    "ax3.set_xlabel('Total energy ')\n",
    "ax3.set_ylabel('Cumulative probability')\n",
    "\n",
    "ax4 = fig.add_subplot(2,2,4)\n",
    "ax4 = seaborn.kdeplot(bblnrgdata.Units)\n",
    "ax4.set_xlabel('Building units')\n",
    "ax4.set_ylabel('Cumulative probability')\n"
   ]
  },
  {
   "cell_type": "markdown",
   "metadata": {},
   "source": [
    "## Figure 2\n",
    "Boxplot and kernel desntity distirbution for Total energy and Building units, showing the presence of extreme values"
   ]
  },
  {
   "cell_type": "code",
   "execution_count": 36,
   "metadata": {
    "collapsed": false
   },
   "outputs": [],
   "source": [
    "#creating mask to remove extreme values\n",
    "nrgMaskQ = (bblnrgdata.totalEnergy > 1000) & (bblnrgdata.totalEnergy < bblnrgdata.totalEnergy.quantile(.98))\n",
    "unitsMaskQ = (bblnrgdata.Units > 1) & (bblnrgdata.Units < bblnrgdata.Units.quantile(.99))\n"
   ]
  },
  {
   "cell_type": "code",
   "execution_count": 37,
   "metadata": {
    "collapsed": false
   },
   "outputs": [
    {
     "data": {
      "text/plain": [
       "<matplotlib.text.Text at 0x7f1635a29810>"
      ]
     },
     "execution_count": 37,
     "metadata": {},
     "output_type": "execute_result"
    },
    {
     "data": {
      "image/png": "[encoded data removed]",
      "text/plain": [
       "<matplotlib.figure.Figure at 0x7f163478bc50>"
      ]
     },
     "metadata": {},
     "output_type": "display_data"
    }
   ],
   "source": [
    "fig = plt.figure(figsize=(16,6))\n",
    "ax = fig.add_subplot(2,2,1)\n",
    "ax = seaborn.boxplot(bblnrgdata.totalEnergy[nrgMaskQ])\n",
    "\n",
    "ax.set_title('Total energy distribution')\n",
    "ax.set_xlabel('Total energy')\n",
    "\n",
    "\n",
    "ax2 = fig.add_subplot(2,2,2)\n",
    "ax2 = seaborn.boxplot(bblnrgdata.Units[unitsMaskQ])\n",
    "ax2.set_title('Building units distribution')\n",
    "ax2.set_xlabel('Building units')\n",
    "\n",
    "ax3 = fig.add_subplot(2,2,3)\n",
    "ax3 = seaborn.kdeplot(bblnrgdata.totalEnergy[nrgMaskQ])\n",
    "ax3.set_xlabel('Total energy ')\n",
    "ax3.set_ylabel('Cumulative probability')\n",
    "\n",
    "ax4 = fig.add_subplot(2,2,4)\n",
    "ax4 = seaborn.kdeplot(bblnrgdata.Units[unitsMaskQ])\n",
    "ax4.set_xlabel('Building units')\n",
    "ax4.set_ylabel('Cumulative probability')"
   ]
  },
  {
   "cell_type": "markdown",
   "metadata": {},
   "source": [
    "## Figure 3\n",
    "Boxplot and kernel desntity distirbution for Total energy and Building units, with less extreme values for each of the variables."
   ]
  },
  {
   "cell_type": "code",
   "execution_count": 38,
   "metadata": {
    "collapsed": false
   },
   "outputs": [
    {
     "name": "stdout",
     "output_type": "stream",
     "text": [
      "count    3449.000000\n",
      "mean      122.363294\n",
      "std       113.904697\n",
      "min         2.000000\n",
      "25%        52.000000\n",
      "50%        82.000000\n",
      "75%       152.000000\n",
      "max       756.000000\n",
      "Name: Units, dtype: float64\n",
      "count    4.961000e+03\n",
      "mean     1.715730e+07\n",
      "std      2.290942e+07\n",
      "min      5.344000e+03\n",
      "25%      5.822194e+06\n",
      "50%      9.127547e+06\n",
      "75%      1.796760e+07\n",
      "max      2.034663e+08\n",
      "Name: totalEnergy, dtype: float64\n"
     ]
    }
   ],
   "source": [
    "#see distribution of values after outlier removal\n",
    "print bblnrgdata.Units[unitsMaskQ].describe()\n",
    "print bblnrgdata.totalEnergy[nrgMaskQ].describe()"
   ]
  },
  {
   "cell_type": "code",
   "execution_count": 40,
   "metadata": {
    "collapsed": false
   },
   "outputs": [
    {
     "name": "stdout",
     "output_type": "stream",
     "text": [
      "Amount of observations left: 3418\n"
     ]
    }
   ],
   "source": [
    "joinMasks = unitsMaskQ & nrgMaskQ\n",
    "print 'Amount of observations left:', sum(joinMasks)\n",
    "#plt.plot(bblnrgdata.Units[joinMasks],bblnrgdata.totalEnergy[joinMasks],'ro')"
   ]
  },
  {
   "cell_type": "code",
   "execution_count": 41,
   "metadata": {
    "collapsed": true
   },
   "outputs": [],
   "source": [
    "bblnrgdata = bblnrgdata.loc[joinMasks,:].copy()"
   ]
  },
  {
   "cell_type": "code",
   "execution_count": 49,
   "metadata": {
    "collapsed": false
   },
   "outputs": [
    {
     "data": {
      "text/plain": [
       "matplotlib.figure.Figure"
      ]
     },
     "execution_count": 49,
     "metadata": {},
     "output_type": "execute_result"
    },
    {
     "data": {
      "image/png": "[encoded data removed]",
      "text/plain": [
       "<matplotlib.figure.Figure at 0x7f162a90cad0>"
      ]
     },
     "metadata": {},
     "output_type": "display_data"
    }
   ],
   "source": [
    "g = seaborn.jointplot(\"Units\", \"totalEnergy\", data=bblnrgdata, kind='scatter')  \n",
    "plt.subplots_adjust(top=0.9)\n",
    "g.fig.suptitle('Units Vs Total energy')\n"
   ]
  },
  {
   "cell_type": "markdown",
   "metadata": {},
   "source": [
    "## Figure 4\n",
    "Scatter plot of Units versus total energy consumption. A linear regression could be fitted, although the is still some variance in the observations with higher Total energy consumption."
   ]
  },
  {
   "cell_type": "code",
   "execution_count": 50,
   "metadata": {
    "collapsed": false
   },
   "outputs": [],
   "source": [
    "#create log for each variable\n",
    "bblnrgdata['logUnits'] = np.log10(bblnrgdata.Units)\n",
    "bblnrgdata['logTotalEnergy'] = np.log10(bblnrgdata.totalEnergy)\n",
    "bblnrgdata.dropna(axis=0, how='any', thresh=None, subset=None, inplace=True)"
   ]
  },
  {
   "cell_type": "code",
   "execution_count": 51,
   "metadata": {
    "collapsed": false
   },
   "outputs": [
    {
     "data": {
      "text/plain": [
       "<matplotlib.text.Text at 0x7f1634a735d0>"
      ]
     },
     "execution_count": 51,
     "metadata": {},
     "output_type": "execute_result"
    },
    {
     "data": {
      "image/png": "[encoded data removed]",
      "text/plain": [
       "<matplotlib.figure.Figure at 0x7f1637ef6c10>"
      ]
     },
     "metadata": {},
     "output_type": "display_data"
    }
   ],
   "source": [
    "#Plot data\n",
    "fig = plt.figure(figsize=(8,6))\n",
    "ax = fig.add_subplot(1,1,1)\n",
    "ax.plot(bblnrgdata.logUnits,bblnrgdata.logTotalEnergy,'bo')\n",
    "ax.set_title('Log of total energy consumed at the site by log of total of units per building')\n",
    "ax.set_xlabel('Units in the building (Log)')\n",
    "ax.set_ylabel('Amount of energy consumed at the site (Log)')\n"
   ]
  },
  {
   "cell_type": "markdown",
   "metadata": {},
   "source": [
    "## Figure 5\n",
    "Scatter plot of the log of Units versus the log of the total energy consumption. A linear regression could be fitted, in a seemingly better fashion than in the case of **Figure 4**."
   ]
  },
  {
   "cell_type": "markdown",
   "metadata": {},
   "source": [
    "## 1. Fit a line to Units vs Energy."
   ]
  },
  {
   "cell_type": "code",
   "execution_count": 53,
   "metadata": {
    "collapsed": false
   },
   "outputs": [
    {
     "name": "stdout",
     "output_type": "stream",
     "text": [
      "                            OLS Regression Results                            \n",
      "==============================================================================\n",
      "Dep. Variable:         logTotalEnergy   R-squared:                       0.421\n",
      "Model:                            OLS   Adj. R-squared:                  0.421\n",
      "Method:                 Least Squares   F-statistic:                     2482.\n",
      "Date:                Mon, 17 Oct 2016   Prob (F-statistic):               0.00\n",
      "Time:                        15:26:22   Log-Likelihood:                -546.08\n",
      "No. Observations:                3418   AIC:                             1096.\n",
      "Df Residuals:                    3416   BIC:                             1108.\n",
      "Df Model:                           1                                         \n",
      "Covariance Type:            nonrobust                                         \n",
      "==============================================================================\n",
      "                 coef    std err          t      P>|t|      [95.0% Conf. Int.]\n",
      "------------------------------------------------------------------------------\n",
      "const          5.6922      0.026    219.663      0.000         5.641     5.743\n",
      "logUnits       0.6560      0.013     49.817      0.000         0.630     0.682\n",
      "==============================================================================\n",
      "Omnibus:                     1459.471   Durbin-Watson:                   1.608\n",
      "Prob(Omnibus):                  0.000   Jarque-Bera (JB):            19190.287\n",
      "Skew:                          -1.667   Prob(JB):                         0.00\n",
      "Kurtosis:                      14.119   Cond. No.                         13.1\n",
      "==============================================================================\n",
      "\n",
      "Warnings:\n",
      "[1] Standard Errors assume that the covariance matrix of the errors is correctly specified.\n"
     ]
    }
   ],
   "source": [
    "#test for units as independent\n",
    "x = sm.add_constant(bblnrgdata.logUnits)\n",
    "y = bblnrgdata.logTotalEnergy\n",
    "lmUvE = sm.OLS(y,x,missing='drop').fit()\n",
    "print lmUvE.summary()"
   ]
  },
  {
   "cell_type": "code",
   "execution_count": 54,
   "metadata": {
    "collapsed": false
   },
   "outputs": [
    {
     "data": {
      "text/plain": [
       "<matplotlib.text.Text at 0x7f161f810b10>"
      ]
     },
     "execution_count": 54,
     "metadata": {},
     "output_type": "execute_result"
    },
    {
     "data": {
      "image/png": "[encoded data removed]",
      "text/plain": [
       "<matplotlib.figure.Figure at 0x7f16207507d0>"
      ]
     },
     "metadata": {},
     "output_type": "display_data"
    }
   ],
   "source": [
    "fig = plt.figure(figsize=(8,6))\n",
    "ax = fig.add_subplot(1,1,1)\n",
    "ax.plot(bblnrgdata.logUnits,bblnrgdata.logTotalEnergy,'bo')\n",
    "ax.plot([0,3.5],[lmUvE.params[0],lmUvE.params[0] + 3.5 * lmUvE.params[1]],'r')\n",
    "ax.set_title('Log of total energy consumed at the site by log of total of units per building')\n",
    "ax.set_xlabel('Total of units in the building (Log)')\n",
    "ax.set_ylabel('Amount of energy consumed at the site (Log)')\n"
   ]
  },
  {
   "cell_type": "markdown",
   "metadata": {},
   "source": [
    "## Figure 6\n",
    "Scatter plot of the log of Units versus the log of the total energy consumption with a fitted linear regression."
   ]
  },
  {
   "cell_type": "markdown",
   "metadata": {},
   "source": [
    "## 2. Fit a line to  Energy vs Units."
   ]
  },
  {
   "cell_type": "code",
   "execution_count": 55,
   "metadata": {
    "collapsed": false
   },
   "outputs": [
    {
     "name": "stdout",
     "output_type": "stream",
     "text": [
      "                            OLS Regression Results                            \n",
      "==============================================================================\n",
      "Dep. Variable:               logUnits   R-squared:                       0.421\n",
      "Model:                            OLS   Adj. R-squared:                  0.421\n",
      "Method:                 Least Squares   F-statistic:                     2482.\n",
      "Date:                Mon, 17 Oct 2016   Prob (F-statistic):               0.00\n",
      "Time:                        15:27:32   Log-Likelihood:                -507.64\n",
      "No. Observations:                3418   AIC:                             1019.\n",
      "Df Residuals:                    3416   BIC:                             1032.\n",
      "Df Model:                           1                                         \n",
      "Covariance Type:            nonrobust                                         \n",
      "==================================================================================\n",
      "                     coef    std err          t      P>|t|      [95.0% Conf. Int.]\n",
      "----------------------------------------------------------------------------------\n",
      "const             -2.5316      0.090    -28.208      0.000        -2.708    -2.356\n",
      "logTotalEnergy     0.6414      0.013     49.817      0.000         0.616     0.667\n",
      "==============================================================================\n",
      "Omnibus:                      342.610   Durbin-Watson:                   1.455\n",
      "Prob(Omnibus):                  0.000   Jarque-Bera (JB):             1782.508\n",
      "Skew:                          -0.335   Prob(JB):                         0.00\n",
      "Kurtosis:                       6.474   Cond. No.                         133.\n",
      "==============================================================================\n",
      "\n",
      "Warnings:\n",
      "[1] Standard Errors assume that the covariance matrix of the errors is correctly specified.\n"
     ]
    }
   ],
   "source": [
    "#test for energy as independent\n",
    "x = sm.add_constant(bblnrgdata.logTotalEnergy)\n",
    "y = bblnrgdata.logUnits\n",
    "lmEvU = sm.OLS(y,x,missing='drop').fit()\n",
    "print lmEvU.summary()"
   ]
  },
  {
   "cell_type": "code",
   "execution_count": 56,
   "metadata": {
    "collapsed": false
   },
   "outputs": [
    {
     "data": {
      "text/plain": [
       "(0, 4)"
      ]
     },
     "execution_count": 56,
     "metadata": {},
     "output_type": "execute_result"
    },
    {
     "data": {
      "image/png": "[encoded data removed]",
      "text/plain": [
       "<matplotlib.figure.Figure at 0x7f1632735890>"
      ]
     },
     "metadata": {},
     "output_type": "display_data"
    }
   ],
   "source": [
    "fig = plt.figure(figsize=(8,6))\n",
    "ax = fig.add_subplot(1,1,1)\n",
    "ax.plot(bblnrgdata.logTotalEnergy,bblnrgdata.logUnits,'bo')\n",
    "ax.plot([3,9],[lmEvU.params[0],lmEvU.params[0] + 10 * lmEvU.params[1]],'r')\n",
    "ax.set_title('Log of total energy consumed at the site by log of total of units per building')\n",
    "ax.set_xlabel('Total of units in the building (Log)')\n",
    "ax.set_ylabel('Amount of energy consumed at the site (Log)')\n",
    "ax.set_ylim(0,4)\n"
   ]
  },
  {
   "cell_type": "markdown",
   "metadata": {},
   "source": [
    "## Figure 7\n",
    "Scatter plot of the log of the total energy consumption versus the log of Units with a fitted linear regression."
   ]
  },
  {
   "cell_type": "markdown",
   "metadata": {
    "collapsed": true
   },
   "source": [
    "## Evaluate which is better by calculating the chi square."
   ]
  },
  {
   "cell_type": "code",
   "execution_count": 58,
   "metadata": {
    "collapsed": false
   },
   "outputs": [
    {
     "data": {
      "text/html": [
       "<div>\n",
       "<table border=\"1\" class=\"dataframe\">\n",
       "  <thead>\n",
       "    <tr style=\"text-align: right;\">\n",
       "      <th></th>\n",
       "      <th>BBL</th>\n",
       "      <th>totalEnergy</th>\n",
       "      <th>Units</th>\n",
       "      <th>logUnits</th>\n",
       "      <th>logTotalEnergy</th>\n",
       "      <th>fitValue</th>\n",
       "      <th>epsilon2</th>\n",
       "      <th>error</th>\n",
       "    </tr>\n",
       "  </thead>\n",
       "  <tbody>\n",
       "    <tr>\n",
       "      <th>count</th>\n",
       "      <td>3.418000e+03</td>\n",
       "      <td>3.418000e+03</td>\n",
       "      <td>3418.000000</td>\n",
       "      <td>3418.000000</td>\n",
       "      <td>3418.000000</td>\n",
       "      <td>3418.000000</td>\n",
       "      <td>3.418000e+03</td>\n",
       "      <td>3418.000000</td>\n",
       "    </tr>\n",
       "    <tr>\n",
       "      <th>mean</th>\n",
       "      <td>1.013189e+09</td>\n",
       "      <td>1.316315e+07</td>\n",
       "      <td>121.608836</td>\n",
       "      <td>1.932931</td>\n",
       "      <td>6.960267</td>\n",
       "      <td>6.960267</td>\n",
       "      <td>8.059297e-02</td>\n",
       "      <td>1.932931</td>\n",
       "    </tr>\n",
       "    <tr>\n",
       "      <th>std</th>\n",
       "      <td>5.538744e+06</td>\n",
       "      <td>1.477503e+07</td>\n",
       "      <td>113.395749</td>\n",
       "      <td>0.368902</td>\n",
       "      <td>0.373075</td>\n",
       "      <td>0.242009</td>\n",
       "      <td>2.919531e-01</td>\n",
       "      <td>0.368902</td>\n",
       "    </tr>\n",
       "    <tr>\n",
       "      <th>min</th>\n",
       "      <td>1.000078e+09</td>\n",
       "      <td>5.344000e+03</td>\n",
       "      <td>2.000000</td>\n",
       "      <td>0.301030</td>\n",
       "      <td>3.727866</td>\n",
       "      <td>5.889700</td>\n",
       "      <td>2.555657e-10</td>\n",
       "      <td>0.301030</td>\n",
       "    </tr>\n",
       "    <tr>\n",
       "      <th>25%</th>\n",
       "      <td>1.009158e+09</td>\n",
       "      <td>5.649073e+06</td>\n",
       "      <td>51.000000</td>\n",
       "      <td>1.707570</td>\n",
       "      <td>6.751977</td>\n",
       "      <td>6.812425</td>\n",
       "      <td>3.810527e-03</td>\n",
       "      <td>1.707570</td>\n",
       "    </tr>\n",
       "    <tr>\n",
       "      <th>50%</th>\n",
       "      <td>1.013690e+09</td>\n",
       "      <td>8.339442e+06</td>\n",
       "      <td>82.000000</td>\n",
       "      <td>1.913814</td>\n",
       "      <td>6.921137</td>\n",
       "      <td>6.947725</td>\n",
       "      <td>1.672711e-02</td>\n",
       "      <td>1.913814</td>\n",
       "    </tr>\n",
       "    <tr>\n",
       "      <th>75%</th>\n",
       "      <td>1.017178e+09</td>\n",
       "      <td>1.470695e+07</td>\n",
       "      <td>150.750000</td>\n",
       "      <td>2.178256</td>\n",
       "      <td>7.167523</td>\n",
       "      <td>7.121206</td>\n",
       "      <td>5.690346e-02</td>\n",
       "      <td>2.178256</td>\n",
       "    </tr>\n",
       "    <tr>\n",
       "      <th>max</th>\n",
       "      <td>1.022500e+09</td>\n",
       "      <td>1.820804e+08</td>\n",
       "      <td>756.000000</td>\n",
       "      <td>2.878522</td>\n",
       "      <td>8.260263</td>\n",
       "      <td>7.580597</td>\n",
       "      <td>8.429499e+00</td>\n",
       "      <td>2.878522</td>\n",
       "    </tr>\n",
       "  </tbody>\n",
       "</table>\n",
       "</div>"
      ],
      "text/plain": [
       "                BBL   totalEnergy        Units     logUnits  logTotalEnergy  \\\n",
       "count  3.418000e+03  3.418000e+03  3418.000000  3418.000000     3418.000000   \n",
       "mean   1.013189e+09  1.316315e+07   121.608836     1.932931        6.960267   \n",
       "std    5.538744e+06  1.477503e+07   113.395749     0.368902        0.373075   \n",
       "min    1.000078e+09  5.344000e+03     2.000000     0.301030        3.727866   \n",
       "25%    1.009158e+09  5.649073e+06    51.000000     1.707570        6.751977   \n",
       "50%    1.013690e+09  8.339442e+06    82.000000     1.913814        6.921137   \n",
       "75%    1.017178e+09  1.470695e+07   150.750000     2.178256        7.167523   \n",
       "max    1.022500e+09  1.820804e+08   756.000000     2.878522        8.260263   \n",
       "\n",
       "          fitValue      epsilon2        error  \n",
       "count  3418.000000  3.418000e+03  3418.000000  \n",
       "mean      6.960267  8.059297e-02     1.932931  \n",
       "std       0.242009  2.919531e-01     0.368902  \n",
       "min       5.889700  2.555657e-10     0.301030  \n",
       "25%       6.812425  3.810527e-03     1.707570  \n",
       "50%       6.947725  1.672711e-02     1.913814  \n",
       "75%       7.121206  5.690346e-02     2.178256  \n",
       "max       7.580597  8.429499e+00     2.878522  "
      ]
     },
     "execution_count": 58,
     "metadata": {},
     "output_type": "execute_result"
    }
   ],
   "source": [
    "unitsVsEnergy = bblnrgdata.copy()\n",
    "\n",
    "unitsVsEnergy['fitValue'] = lmUvE.predict(sm.add_constant(bblnrgdata.logUnits))\n",
    "unitsVsEnergy['epsilon2'] = (unitsVsEnergy.fitValue - unitsVsEnergy.logTotalEnergy) ** 2\n",
    "#square root and then make the square of logUnits is the same as logUnits \n",
    "unitsVsEnergy['error'] = bblnrgdata.logUnits \n",
    "unitsVsEnergy.describe()"
   ]
  },
  {
   "cell_type": "code",
   "execution_count": 59,
   "metadata": {
    "collapsed": false
   },
   "outputs": [
    {
     "name": "stdout",
     "output_type": "stream",
     "text": [
      "Units Vs Energy Chi Squared: 163.712659174\n"
     ]
    }
   ],
   "source": [
    "#chi square statistic\n",
    "unitsVsEnergyChi2 = sum(unitsVsEnergy.epsilon2/unitsVsEnergy.error)\n",
    "print 'Units Vs Energy Chi Squared:', unitsVsEnergyChi2"
   ]
  },
  {
   "cell_type": "code",
   "execution_count": 61,
   "metadata": {
    "collapsed": false
   },
   "outputs": [
    {
     "data": {
      "text/html": [
       "<div>\n",
       "<table border=\"1\" class=\"dataframe\">\n",
       "  <thead>\n",
       "    <tr style=\"text-align: right;\">\n",
       "      <th></th>\n",
       "      <th>BBL</th>\n",
       "      <th>totalEnergy</th>\n",
       "      <th>Units</th>\n",
       "      <th>logUnits</th>\n",
       "      <th>logTotalEnergy</th>\n",
       "      <th>fitValue</th>\n",
       "      <th>epsilon2</th>\n",
       "    </tr>\n",
       "  </thead>\n",
       "  <tbody>\n",
       "    <tr>\n",
       "      <th>count</th>\n",
       "      <td>3.418000e+03</td>\n",
       "      <td>3.418000e+03</td>\n",
       "      <td>3418.000000</td>\n",
       "      <td>3418.000000</td>\n",
       "      <td>3418.000000</td>\n",
       "      <td>3418.000000</td>\n",
       "      <td>3.418000e+03</td>\n",
       "    </tr>\n",
       "    <tr>\n",
       "      <th>mean</th>\n",
       "      <td>1.013189e+09</td>\n",
       "      <td>1.316315e+07</td>\n",
       "      <td>121.608836</td>\n",
       "      <td>1.932931</td>\n",
       "      <td>6.960267</td>\n",
       "      <td>1.932931</td>\n",
       "      <td>7.880023e-02</td>\n",
       "    </tr>\n",
       "    <tr>\n",
       "      <th>std</th>\n",
       "      <td>5.538744e+06</td>\n",
       "      <td>1.477503e+07</td>\n",
       "      <td>113.395749</td>\n",
       "      <td>0.368902</td>\n",
       "      <td>0.373075</td>\n",
       "      <td>0.239302</td>\n",
       "      <td>1.843891e-01</td>\n",
       "    </tr>\n",
       "    <tr>\n",
       "      <th>min</th>\n",
       "      <td>1.000078e+09</td>\n",
       "      <td>5.344000e+03</td>\n",
       "      <td>2.000000</td>\n",
       "      <td>0.301030</td>\n",
       "      <td>3.727866</td>\n",
       "      <td>-0.140432</td>\n",
       "      <td>3.923631e-08</td>\n",
       "    </tr>\n",
       "    <tr>\n",
       "      <th>25%</th>\n",
       "      <td>1.009158e+09</td>\n",
       "      <td>5.649073e+06</td>\n",
       "      <td>51.000000</td>\n",
       "      <td>1.707570</td>\n",
       "      <td>6.751977</td>\n",
       "      <td>1.799327</td>\n",
       "      <td>4.999288e-03</td>\n",
       "    </tr>\n",
       "    <tr>\n",
       "      <th>50%</th>\n",
       "      <td>1.013690e+09</td>\n",
       "      <td>8.339442e+06</td>\n",
       "      <td>82.000000</td>\n",
       "      <td>1.913814</td>\n",
       "      <td>6.921137</td>\n",
       "      <td>1.907832</td>\n",
       "      <td>2.505868e-02</td>\n",
       "    </tr>\n",
       "    <tr>\n",
       "      <th>75%</th>\n",
       "      <td>1.017178e+09</td>\n",
       "      <td>1.470695e+07</td>\n",
       "      <td>150.750000</td>\n",
       "      <td>2.178256</td>\n",
       "      <td>7.167523</td>\n",
       "      <td>2.065871</td>\n",
       "      <td>7.426718e-02</td>\n",
       "    </tr>\n",
       "    <tr>\n",
       "      <th>max</th>\n",
       "      <td>1.022500e+09</td>\n",
       "      <td>1.820804e+08</td>\n",
       "      <td>756.000000</td>\n",
       "      <td>2.878522</td>\n",
       "      <td>8.260263</td>\n",
       "      <td>2.766789</td>\n",
       "      <td>3.421173e+00</td>\n",
       "    </tr>\n",
       "  </tbody>\n",
       "</table>\n",
       "</div>"
      ],
      "text/plain": [
       "                BBL   totalEnergy        Units     logUnits  logTotalEnergy  \\\n",
       "count  3.418000e+03  3.418000e+03  3418.000000  3418.000000     3418.000000   \n",
       "mean   1.013189e+09  1.316315e+07   121.608836     1.932931        6.960267   \n",
       "std    5.538744e+06  1.477503e+07   113.395749     0.368902        0.373075   \n",
       "min    1.000078e+09  5.344000e+03     2.000000     0.301030        3.727866   \n",
       "25%    1.009158e+09  5.649073e+06    51.000000     1.707570        6.751977   \n",
       "50%    1.013690e+09  8.339442e+06    82.000000     1.913814        6.921137   \n",
       "75%    1.017178e+09  1.470695e+07   150.750000     2.178256        7.167523   \n",
       "max    1.022500e+09  1.820804e+08   756.000000     2.878522        8.260263   \n",
       "\n",
       "          fitValue      epsilon2  \n",
       "count  3418.000000  3.418000e+03  \n",
       "mean      1.932931  7.880023e-02  \n",
       "std       0.239302  1.843891e-01  \n",
       "min      -0.140432  3.923631e-08  \n",
       "25%       1.799327  4.999288e-03  \n",
       "50%       1.907832  2.505868e-02  \n",
       "75%       2.065871  7.426718e-02  \n",
       "max       2.766789  3.421173e+00  "
      ]
     },
     "execution_count": 61,
     "metadata": {},
     "output_type": "execute_result"
    }
   ],
   "source": [
    "EnergyVsUnits = bblnrgdata.copy()\n",
    "EnergyVsUnits['fitValue'] = lmEvU.predict(sm.add_constant(bblnrgdata.logTotalEnergy))\n",
    "EnergyVsUnits['epsilon2'] = (EnergyVsUnits.fitValue - EnergyVsUnits.logUnits) ** 2\n",
    "#square root and then make the square of logUnits is the same as logUnits \n",
    "unitsVsEnergy['error'] = bblnrgdata.logTotalEnergy  \n",
    "EnergyVsUnits.describe()    "
   ]
  },
  {
   "cell_type": "code",
   "execution_count": 62,
   "metadata": {
    "collapsed": false
   },
   "outputs": [
    {
     "name": "stdout",
     "output_type": "stream",
     "text": [
      "Energy Vs Units Chi Squared: 40.4148236236\n"
     ]
    }
   ],
   "source": [
    "EnergyVsUnitsChi2 = sum(EnergyVsUnits.epsilon2/unitsVsEnergy.error)\n",
    "print 'Energy Vs Units Chi Squared:', EnergyVsUnitsChi2"
   ]
  },
  {
   "cell_type": "markdown",
   "metadata": {},
   "source": [
    "Chi square statistic tells how well a model explains data including uncertainties, in a way that the bigger are the uncertainties the smaller the Chi Squared. Therefore, in this situation, the **Units Vs Energy** model performs better and carries a bigger Chi Square."
   ]
  },
  {
   "cell_type": "markdown",
   "metadata": {},
   "source": [
    "## Polynomial "
   ]
  },
  {
   "cell_type": "code",
   "execution_count": 63,
   "metadata": {
    "collapsed": false
   },
   "outputs": [
    {
     "name": "stdout",
     "output_type": "stream",
     "text": [
      "                            OLS Regression Results                            \n",
      "==============================================================================\n",
      "Dep. Variable:         logTotalEnergy   R-squared:                       0.477\n",
      "Model:                            OLS   Adj. R-squared:                  0.477\n",
      "Method:                 Least Squares   F-statistic:                     1560.\n",
      "Date:                Mon, 17 Oct 2016   Prob (F-statistic):               0.00\n",
      "Time:                        15:29:46   Log-Likelihood:                -370.36\n",
      "No. Observations:                3418   AIC:                             746.7\n",
      "Df Residuals:                    3415   BIC:                             765.1\n",
      "Df Model:                           2                                         \n",
      "Covariance Type:            nonrobust                                         \n",
      "==============================================================================\n",
      "                 coef    std err          t      P>|t|      [95.0% Conf. Int.]\n",
      "------------------------------------------------------------------------------\n",
      "Intercept      7.1808      0.081     88.404      0.000         7.022     7.340\n",
      "logUnits      -0.9644      0.085    -11.321      0.000        -1.131    -0.797\n",
      "logUnits2      0.4245      0.022     19.231      0.000         0.381     0.468\n",
      "==============================================================================\n",
      "Omnibus:                     1835.865   Durbin-Watson:                   1.618\n",
      "Prob(Omnibus):                  0.000   Jarque-Bera (JB):            31059.908\n",
      "Skew:                          -2.169   Prob(JB):                         0.00\n",
      "Kurtosis:                      17.116   Cond. No.                         120.\n",
      "==============================================================================\n",
      "\n",
      "Warnings:\n",
      "[1] Standard Errors assume that the covariance matrix of the errors is correctly specified.\n"
     ]
    }
   ],
   "source": [
    "#create an x squared and a model fitting this specification\n",
    "bblnrgdata['logUnits2'] = bblnrgdata.logUnits * bblnrgdata.logUnits\n",
    "lmPol = smf.ols(formula = 'logTotalEnergy ~ logUnits + logUnits2', data = bblnrgdata).fit()\n",
    "print lmPol.summary()"
   ]
  },
  {
   "cell_type": "code",
   "execution_count": 64,
   "metadata": {
    "collapsed": false
   },
   "outputs": [],
   "source": [
    "#creating a function for the fitted model line and a new vector of values\n",
    "\n",
    "def lmPolFited (x):\n",
    "    return lmPol.params[0] + x * lmPol.params[1] + (x**2) * lmPol.params[2]\n",
    "\n",
    "xNew = np.linspace(0,3.5, 100)\n",
    "\n",
    "y_fit = map(lmPolFited,xNew)\n"
   ]
  },
  {
   "cell_type": "code",
   "execution_count": 66,
   "metadata": {
    "collapsed": false
   },
   "outputs": [
    {
     "data": {
      "text/plain": [
       "<matplotlib.text.Text at 0x7f161d0c2110>"
      ]
     },
     "execution_count": 66,
     "metadata": {},
     "output_type": "execute_result"
    },
    {
     "data": {
      "image/png": "[encoded data removed]",
      "text/plain": [
       "<matplotlib.figure.Figure at 0x7f161f9fdc50>"
      ]
     },
     "metadata": {},
     "output_type": "display_data"
    }
   ],
   "source": [
    "fig = plt.figure(figsize=(8,6))\n",
    "ax = fig.add_subplot(1,1,1)\n",
    "ax.plot(bblnrgdata.logUnits,bblnrgdata.logTotalEnergy,'bo')\n",
    "\n",
    "ax.plot(xNew,y_fit,'r-')\n",
    "\n",
    "ax.set_title('Log of total energy consumed at the site by log of total of units per building')\n",
    "ax.set_xlabel('Total of units in the building (Log)')\n",
    "ax.set_ylabel('Amount of energy consumed at the site (Log)')\n"
   ]
  },
  {
   "cell_type": "markdown",
   "metadata": {},
   "source": [
    "## Figure 8\n",
    "Scatter plot of the log of the total energy consumption versus the log of Units with a fitted regression using the polynomial specification. Graphically it appears to be a better fit."
   ]
  },
  {
   "cell_type": "markdown",
   "metadata": {},
   "source": [
    "### Compare the Units vs Energy line fit and the Units vs Energy 2-nd degree polynomial fit with the Likelihood ratio test"
   ]
  },
  {
   "cell_type": "code",
   "execution_count": 80,
   "metadata": {
    "collapsed": false
   },
   "outputs": [
    {
     "name": "stdout",
     "output_type": "stream",
     "text": [
      "351.435200269\n"
     ]
    }
   ],
   "source": [
    "#models\n",
    "logLikelihood_Model1 = lmUvE.llf #fewer parameters\n",
    "logLikelihood_Model2 = lmPol.llf\n",
    "LR = -2 * (logLikelihood_Model1 - logLikelihood_Model2)\n",
    "print LR"
   ]
  },
  {
   "cell_type": "markdown",
   "metadata": {},
   "source": [
    "Given that the Chi Square for a confidence level of 95% (or $\\alpha = 0.5$) and 1 degrees  of freedom is 3.84, the obtained statistic is beyond the critical value of rejection of the null hypothesis (this being that the restricted model is correct). Therefore, the polynomial specification is the proper model for this situation. This is confirmed by the method *compare_lr_test()* within the library **statsmodel**"
   ]
  },
  {
   "cell_type": "code",
   "execution_count": 82,
   "metadata": {
    "collapsed": false
   },
   "outputs": [
    {
     "data": {
      "text/plain": [
       "(351.43520026927035, 2.0635082817612445e-78, 1.0)"
      ]
     },
     "execution_count": 82,
     "metadata": {},
     "output_type": "execute_result"
    }
   ],
   "source": [
    "lmPol.compare_lr_test(lmUvE)"
   ]
  },
  {
   "cell_type": "markdown",
   "metadata": {},
   "source": [
    "The p-value is lower than $\\alpha$  (0.5)"
   ]
  },
  {
   "cell_type": "code",
   "execution_count": null,
   "metadata": {
    "collapsed": true
   },
   "outputs": [],
   "source": []
  }
 ],
 "metadata": {
  "kernelspec": {
   "display_name": "Python [Root]",
   "language": "python",
   "name": "Python [Root]"
  },
  "language_info": {
   "codemirror_mode": {
    "name": "ipython",
    "version": 2
   },
   "file_extension": ".py",
   "mimetype": "text/x-python",
   "name": "python",
   "nbconvert_exporter": "python",
   "pygments_lexer": "ipython2",
   "version": "2.7.12"
  }
 },
 "nbformat": 4,
 "nbformat_minor": 0
}
