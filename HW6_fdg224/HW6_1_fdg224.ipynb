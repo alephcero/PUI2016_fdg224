{
 "cells": [
  {
   "cell_type": "code",
   "execution_count": 1,
   "metadata": {
    "collapsed": true
   },
   "outputs": [],
   "source": [
    "import geopandas as gpd\n",
    "import pandas as pd\n",
    "import numpy as np\n",
    "import os\n",
    "import json\n",
    "import matplotlib.pyplot as plt\n",
    "import matplotlib.gridspec as gridspec\n",
    "import seaborn\n",
    "import statsmodels.api as sm\n",
    "%matplotlib inline"
   ]
  },
  {
   "cell_type": "code",
   "execution_count": 2,
   "metadata": {
    "collapsed": false
   },
   "outputs": [
    {
     "data": {
      "text/html": [
       "<div>\n",
       "<table border=\"1\" class=\"dataframe\">\n",
       "  <thead>\n",
       "    <tr style=\"text-align: right;\">\n",
       "      <th></th>\n",
       "      <th>automatic_water_benchmarking_eligible</th>\n",
       "      <th>bbls_co_reported</th>\n",
       "      <th>borough</th>\n",
       "      <th>co_reported_bbl_status</th>\n",
       "      <th>direct_ghg_emissions_mtco2e</th>\n",
       "      <th>dof_benchmarking_submission_status</th>\n",
       "      <th>dof_number_of_buildings</th>\n",
       "      <th>dof_property_floor_area_buildngs_and_parking_ft2</th>\n",
       "      <th>energy_star_score</th>\n",
       "      <th>indirect_ghg_emissions_mtco2e</th>\n",
       "      <th>...</th>\n",
       "      <th>reported_property_floor_area_building_s_ft</th>\n",
       "      <th>reported_water_method</th>\n",
       "      <th>site_eui_kbtu_ft2</th>\n",
       "      <th>source_eui_kbtu_ft2</th>\n",
       "      <th>street_name</th>\n",
       "      <th>street_number</th>\n",
       "      <th>total_ghg_emissions_mtco2e</th>\n",
       "      <th>weather_normalized_site_eui_kbtu_ft2</th>\n",
       "      <th>weather_normalized_source_eui_kbtu_ft2</th>\n",
       "      <th>zip_code</th>\n",
       "    </tr>\n",
       "  </thead>\n",
       "  <tbody>\n",
       "    <tr>\n",
       "      <th>0</th>\n",
       "      <td>NaN</td>\n",
       "      <td>1000410001</td>\n",
       "      <td>Manhattan</td>\n",
       "      <td>NaN</td>\n",
       "      <td>NaN</td>\n",
       "      <td>BBL not valid</td>\n",
       "      <td>NaN</td>\n",
       "      <td>NaN</td>\n",
       "      <td>Not Available</td>\n",
       "      <td>NaN</td>\n",
       "      <td>...</td>\n",
       "      <td>918919</td>\n",
       "      <td>NaN</td>\n",
       "      <td>NaN</td>\n",
       "      <td>NaN</td>\n",
       "      <td>NaN</td>\n",
       "      <td>NaN</td>\n",
       "      <td>NaN</td>\n",
       "      <td>Not Available</td>\n",
       "      <td>Not Available</td>\n",
       "      <td>NaN</td>\n",
       "    </tr>\n",
       "    <tr>\n",
       "      <th>1</th>\n",
       "      <td>Yes</td>\n",
       "      <td>NaN</td>\n",
       "      <td>Queens</td>\n",
       "      <td>NaN</td>\n",
       "      <td>NaN</td>\n",
       "      <td>No Submission Matched to BBL</td>\n",
       "      <td>1.0</td>\n",
       "      <td>82730.0</td>\n",
       "      <td>NaN</td>\n",
       "      <td>NaN</td>\n",
       "      <td>...</td>\n",
       "      <td>NaN</td>\n",
       "      <td>None</td>\n",
       "      <td>NaN</td>\n",
       "      <td>NaN</td>\n",
       "      <td>108 STREET</td>\n",
       "      <td>63-10</td>\n",
       "      <td>NaN</td>\n",
       "      <td>NaN</td>\n",
       "      <td>NaN</td>\n",
       "      <td>11375.0</td>\n",
       "    </tr>\n",
       "    <tr>\n",
       "      <th>2</th>\n",
       "      <td>NaN</td>\n",
       "      <td>2027620097</td>\n",
       "      <td>Bronx</td>\n",
       "      <td>NaN</td>\n",
       "      <td>NaN</td>\n",
       "      <td>BBL not valid</td>\n",
       "      <td>NaN</td>\n",
       "      <td>NaN</td>\n",
       "      <td>Not Available</td>\n",
       "      <td>NaN</td>\n",
       "      <td>...</td>\n",
       "      <td>64200</td>\n",
       "      <td>NaN</td>\n",
       "      <td>NaN</td>\n",
       "      <td>NaN</td>\n",
       "      <td>NaN</td>\n",
       "      <td>NaN</td>\n",
       "      <td>NaN</td>\n",
       "      <td>Not Available</td>\n",
       "      <td>Not Available</td>\n",
       "      <td>NaN</td>\n",
       "    </tr>\n",
       "    <tr>\n",
       "      <th>3</th>\n",
       "      <td>No</td>\n",
       "      <td>NaN</td>\n",
       "      <td>Manhattan</td>\n",
       "      <td>NaN</td>\n",
       "      <td>NaN</td>\n",
       "      <td>No Submission Matched to BBL</td>\n",
       "      <td>1.0</td>\n",
       "      <td>440360.0</td>\n",
       "      <td>NaN</td>\n",
       "      <td>NaN</td>\n",
       "      <td>...</td>\n",
       "      <td>NaN</td>\n",
       "      <td>None</td>\n",
       "      <td>NaN</td>\n",
       "      <td>NaN</td>\n",
       "      <td>11 AVENUE</td>\n",
       "      <td>201</td>\n",
       "      <td>NaN</td>\n",
       "      <td>NaN</td>\n",
       "      <td>NaN</td>\n",
       "      <td>10001.0</td>\n",
       "    </tr>\n",
       "    <tr>\n",
       "      <th>4</th>\n",
       "      <td>NaN</td>\n",
       "      <td>2048300034</td>\n",
       "      <td>Bronx</td>\n",
       "      <td>NaN</td>\n",
       "      <td>NaN</td>\n",
       "      <td>Not on Covered Buildings List</td>\n",
       "      <td>NaN</td>\n",
       "      <td>NaN</td>\n",
       "      <td>Not Available</td>\n",
       "      <td>NaN</td>\n",
       "      <td>...</td>\n",
       "      <td>50000</td>\n",
       "      <td>None</td>\n",
       "      <td>NaN</td>\n",
       "      <td>NaN</td>\n",
       "      <td>NaN</td>\n",
       "      <td>NaN</td>\n",
       "      <td>NaN</td>\n",
       "      <td>Not Available</td>\n",
       "      <td>Not Available</td>\n",
       "      <td>NaN</td>\n",
       "    </tr>\n",
       "  </tbody>\n",
       "</table>\n",
       "<p>5 rows × 25 columns</p>\n",
       "</div>"
      ],
      "text/plain": [
       "  automatic_water_benchmarking_eligible bbls_co_reported    borough  \\\n",
       "0                                   NaN       1000410001  Manhattan   \n",
       "1                                   Yes              NaN     Queens   \n",
       "2                                   NaN       2027620097      Bronx   \n",
       "3                                    No              NaN  Manhattan   \n",
       "4                                   NaN       2048300034      Bronx   \n",
       "\n",
       "  co_reported_bbl_status direct_ghg_emissions_mtco2e  \\\n",
       "0                    NaN                         NaN   \n",
       "1                    NaN                         NaN   \n",
       "2                    NaN                         NaN   \n",
       "3                    NaN                         NaN   \n",
       "4                    NaN                         NaN   \n",
       "\n",
       "  dof_benchmarking_submission_status  dof_number_of_buildings  \\\n",
       "0                      BBL not valid                      NaN   \n",
       "1       No Submission Matched to BBL                      1.0   \n",
       "2                      BBL not valid                      NaN   \n",
       "3       No Submission Matched to BBL                      1.0   \n",
       "4      Not on Covered Buildings List                      NaN   \n",
       "\n",
       "   dof_property_floor_area_buildngs_and_parking_ft2 energy_star_score  \\\n",
       "0                                               NaN     Not Available   \n",
       "1                                           82730.0               NaN   \n",
       "2                                               NaN     Not Available   \n",
       "3                                          440360.0               NaN   \n",
       "4                                               NaN     Not Available   \n",
       "\n",
       "  indirect_ghg_emissions_mtco2e   ...     \\\n",
       "0                           NaN   ...      \n",
       "1                           NaN   ...      \n",
       "2                           NaN   ...      \n",
       "3                           NaN   ...      \n",
       "4                           NaN   ...      \n",
       "\n",
       "  reported_property_floor_area_building_s_ft  reported_water_method  \\\n",
       "0                                     918919                    NaN   \n",
       "1                                        NaN                   None   \n",
       "2                                      64200                    NaN   \n",
       "3                                        NaN                   None   \n",
       "4                                      50000                   None   \n",
       "\n",
       "  site_eui_kbtu_ft2  source_eui_kbtu_ft2 street_name street_number  \\\n",
       "0               NaN                  NaN         NaN           NaN   \n",
       "1               NaN                  NaN  108 STREET         63-10   \n",
       "2               NaN                  NaN         NaN           NaN   \n",
       "3               NaN                  NaN   11 AVENUE           201   \n",
       "4               NaN                  NaN         NaN           NaN   \n",
       "\n",
       "  total_ghg_emissions_mtco2e weather_normalized_site_eui_kbtu_ft2  \\\n",
       "0                        NaN                        Not Available   \n",
       "1                        NaN                                  NaN   \n",
       "2                        NaN                        Not Available   \n",
       "3                        NaN                                  NaN   \n",
       "4                        NaN                        Not Available   \n",
       "\n",
       "  weather_normalized_source_eui_kbtu_ft2 zip_code  \n",
       "0                          Not Available      NaN  \n",
       "1                                    NaN  11375.0  \n",
       "2                          Not Available      NaN  \n",
       "3                                    NaN  10001.0  \n",
       "4                          Not Available      NaN  \n",
       "\n",
       "[5 rows x 25 columns]"
      ]
     },
     "execution_count": 2,
     "metadata": {},
     "output_type": "execute_result"
    }
   ],
   "source": [
    "#download Energy and Water Data Disclosure for Local Law 84 (2013)\n",
    "APIendPoint = 'https://data.cityofnewyork.us/resource/m46j-75iy.csv' \n",
    "nrg = pd.read_csv(APIendPoint)\n",
    "nrg.head()"
   ]
  },
  {
   "cell_type": "code",
   "execution_count": null,
   "metadata": {
    "collapsed": false
   },
   "outputs": [],
   "source": [
    "os.getenv(\"PUIDATA\")"
   ]
  },
  {
   "cell_type": "code",
   "execution_count": null,
   "metadata": {
    "collapsed": false
   },
   "outputs": [],
   "source": [
    "#download pluto data\n",
    "plutoVersion = 'mappluto_16v1.zip'\n",
    "plutoURL = 'https://www1.nyc.gov/assets/planning/download/zip/data-maps/open-data/'  \n",
    "os.system(\"wget \" + plutoURL + plutoVersion)\n"
   ]
  },
  {
   "cell_type": "code",
   "execution_count": 3,
   "metadata": {
    "collapsed": false
   },
   "outputs": [
    {
     "data": {
      "text/html": [
       "<div>\n",
       "<table border=\"1\" class=\"dataframe\">\n",
       "  <thead>\n",
       "    <tr style=\"text-align: right;\">\n",
       "      <th></th>\n",
       "      <th>APPBBL</th>\n",
       "      <th>APPDate</th>\n",
       "      <th>Address</th>\n",
       "      <th>AllZoning1</th>\n",
       "      <th>AllZoning2</th>\n",
       "      <th>AreaSource</th>\n",
       "      <th>AssessLand</th>\n",
       "      <th>AssessTot</th>\n",
       "      <th>BBL</th>\n",
       "      <th>BldgArea</th>\n",
       "      <th>...</th>\n",
       "      <th>YearAlter2</th>\n",
       "      <th>YearBuilt</th>\n",
       "      <th>ZMCode</th>\n",
       "      <th>ZipCode</th>\n",
       "      <th>ZoneDist1</th>\n",
       "      <th>ZoneDist2</th>\n",
       "      <th>ZoneDist3</th>\n",
       "      <th>ZoneDist4</th>\n",
       "      <th>ZoneMap</th>\n",
       "      <th>geometry</th>\n",
       "    </tr>\n",
       "  </thead>\n",
       "  <tbody>\n",
       "    <tr>\n",
       "      <th>0</th>\n",
       "      <td>0.000000e+00</td>\n",
       "      <td>None</td>\n",
       "      <td>1592 2 AVENUE</td>\n",
       "      <td>C1-9/TA</td>\n",
       "      <td>None</td>\n",
       "      <td>2</td>\n",
       "      <td>468000.0</td>\n",
       "      <td>1435950.0</td>\n",
       "      <td>1.015450e+09</td>\n",
       "      <td>10885</td>\n",
       "      <td>...</td>\n",
       "      <td>0</td>\n",
       "      <td>1920</td>\n",
       "      <td>None</td>\n",
       "      <td>10028</td>\n",
       "      <td>C1-9</td>\n",
       "      <td>None</td>\n",
       "      <td>None</td>\n",
       "      <td>None</td>\n",
       "      <td>9a</td>\n",
       "      <td>POLYGON ((997277.2344000041 221816.0936000049,...</td>\n",
       "    </tr>\n",
       "    <tr>\n",
       "      <th>1</th>\n",
       "      <td>1.007230e+09</td>\n",
       "      <td>11/30/2006</td>\n",
       "      <td>263 9 AVENUE</td>\n",
       "      <td>C1-5/R8</td>\n",
       "      <td>None</td>\n",
       "      <td>2</td>\n",
       "      <td>539984.0</td>\n",
       "      <td>11879993.0</td>\n",
       "      <td>1.007238e+09</td>\n",
       "      <td>89203</td>\n",
       "      <td>...</td>\n",
       "      <td>0</td>\n",
       "      <td>1914</td>\n",
       "      <td>None</td>\n",
       "      <td>10001</td>\n",
       "      <td>R8</td>\n",
       "      <td>None</td>\n",
       "      <td>None</td>\n",
       "      <td>None</td>\n",
       "      <td>8d</td>\n",
       "      <td>POLYGON ((984164.5626000017 211846.0703999996,...</td>\n",
       "    </tr>\n",
       "    <tr>\n",
       "      <th>2</th>\n",
       "      <td>0.000000e+00</td>\n",
       "      <td>None</td>\n",
       "      <td>310 EAST 109 STREET</td>\n",
       "      <td>R7A</td>\n",
       "      <td>None</td>\n",
       "      <td>2</td>\n",
       "      <td>140102.0</td>\n",
       "      <td>343271.0</td>\n",
       "      <td>1.016800e+09</td>\n",
       "      <td>12000</td>\n",
       "      <td>...</td>\n",
       "      <td>0</td>\n",
       "      <td>1910</td>\n",
       "      <td>None</td>\n",
       "      <td>10029</td>\n",
       "      <td>R7A</td>\n",
       "      <td>None</td>\n",
       "      <td>None</td>\n",
       "      <td>None</td>\n",
       "      <td>6b</td>\n",
       "      <td>POLYGON ((1000742.195800006 227910.6640000045,...</td>\n",
       "    </tr>\n",
       "    <tr>\n",
       "      <th>3</th>\n",
       "      <td>0.000000e+00</td>\n",
       "      <td>None</td>\n",
       "      <td>720 PARK AVENUE</td>\n",
       "      <td>R10/PI/LH-1A</td>\n",
       "      <td>R8B</td>\n",
       "      <td>2</td>\n",
       "      <td>5040000.0</td>\n",
       "      <td>30591900.0</td>\n",
       "      <td>1.013850e+09</td>\n",
       "      <td>203490</td>\n",
       "      <td>...</td>\n",
       "      <td>2006</td>\n",
       "      <td>1928</td>\n",
       "      <td>None</td>\n",
       "      <td>10021</td>\n",
       "      <td>R10</td>\n",
       "      <td>R8B</td>\n",
       "      <td>None</td>\n",
       "      <td>None</td>\n",
       "      <td>8c</td>\n",
       "      <td>POLYGON ((994007.6886000037 219880.428399995, ...</td>\n",
       "    </tr>\n",
       "    <tr>\n",
       "      <th>4</th>\n",
       "      <td>0.000000e+00</td>\n",
       "      <td>None</td>\n",
       "      <td>3 WEST 83 STREET</td>\n",
       "      <td>R8B</td>\n",
       "      <td>R10A</td>\n",
       "      <td>2</td>\n",
       "      <td>437850.0</td>\n",
       "      <td>1267200.0</td>\n",
       "      <td>1.011970e+09</td>\n",
       "      <td>13839</td>\n",
       "      <td>...</td>\n",
       "      <td>0</td>\n",
       "      <td>1900</td>\n",
       "      <td>None</td>\n",
       "      <td>10024</td>\n",
       "      <td>R8B</td>\n",
       "      <td>R10A</td>\n",
       "      <td>None</td>\n",
       "      <td>None</td>\n",
       "      <td>5d</td>\n",
       "      <td>POLYGON ((992273.6850000024 224863.4904000014,...</td>\n",
       "    </tr>\n",
       "  </tbody>\n",
       "</table>\n",
       "<p>5 rows × 90 columns</p>\n",
       "</div>"
      ],
      "text/plain": [
       "         APPBBL     APPDate              Address    AllZoning1 AllZoning2  \\\n",
       "0  0.000000e+00        None        1592 2 AVENUE       C1-9/TA       None   \n",
       "1  1.007230e+09  11/30/2006         263 9 AVENUE       C1-5/R8       None   \n",
       "2  0.000000e+00        None  310 EAST 109 STREET           R7A       None   \n",
       "3  0.000000e+00        None      720 PARK AVENUE  R10/PI/LH-1A        R8B   \n",
       "4  0.000000e+00        None     3 WEST 83 STREET           R8B       R10A   \n",
       "\n",
       "  AreaSource  AssessLand   AssessTot           BBL  BldgArea  \\\n",
       "0          2    468000.0   1435950.0  1.015450e+09     10885   \n",
       "1          2    539984.0  11879993.0  1.007238e+09     89203   \n",
       "2          2    140102.0    343271.0  1.016800e+09     12000   \n",
       "3          2   5040000.0  30591900.0  1.013850e+09    203490   \n",
       "4          2    437850.0   1267200.0  1.011970e+09     13839   \n",
       "\n",
       "                         ...                         YearAlter2  YearBuilt  \\\n",
       "0                        ...                                  0       1920   \n",
       "1                        ...                                  0       1914   \n",
       "2                        ...                                  0       1910   \n",
       "3                        ...                               2006       1928   \n",
       "4                        ...                                  0       1900   \n",
       "\n",
       "   ZMCode  ZipCode  ZoneDist1 ZoneDist2 ZoneDist3 ZoneDist4  ZoneMap  \\\n",
       "0    None    10028       C1-9      None      None      None       9a   \n",
       "1    None    10001         R8      None      None      None       8d   \n",
       "2    None    10029        R7A      None      None      None       6b   \n",
       "3    None    10021        R10       R8B      None      None       8c   \n",
       "4    None    10024        R8B      R10A      None      None       5d   \n",
       "\n",
       "                                            geometry  \n",
       "0  POLYGON ((997277.2344000041 221816.0936000049,...  \n",
       "1  POLYGON ((984164.5626000017 211846.0703999996,...  \n",
       "2  POLYGON ((1000742.195800006 227910.6640000045,...  \n",
       "3  POLYGON ((994007.6886000037 219880.428399995, ...  \n",
       "4  POLYGON ((992273.6850000024 224863.4904000014,...  \n",
       "\n",
       "[5 rows x 90 columns]"
      ]
     },
     "execution_count": 3,
     "metadata": {},
     "output_type": "execute_result"
    }
   ],
   "source": [
    "#read building size from pluto shape\n",
    "bsize = gpd.read_file(os.getenv(\"PUIDATA\") + \"/Manhattan/MNMapPLUTO.shp\")\n",
    "bsize.head()"
   ]
  },
  {
   "cell_type": "code",
   "execution_count": 4,
   "metadata": {
    "collapsed": false
   },
   "outputs": [
    {
     "name": "stdout",
     "output_type": "stream",
     "text": [
      "Index([u'automatic_water_benchmarking_eligible', u'bbls_co_reported',\n",
      "       u'borough', u'co_reported_bbl_status', u'direct_ghg_emissions_mtco2e',\n",
      "       u'dof_benchmarking_submission_status', u'dof_number_of_buildings',\n",
      "       u'dof_property_floor_area_buildngs_and_parking_ft2',\n",
      "       u'energy_star_score', u'indirect_ghg_emissions_mtco2e',\n",
      "       u'municipally_supplied_potable_water_indoor_intensity_gal_ft',\n",
      "       u'nyc_borough_block_and_lot_bbl',\n",
      "       u'primary_property_type_self_selected', u'record_number',\n",
      "       u'reported_nyc_building_identificaiton_numbers_bins',\n",
      "       u'reported_property_floor_area_building_s_ft', u'reported_water_method',\n",
      "       u'site_eui_kbtu_ft2', u'source_eui_kbtu_ft2', u'street_name',\n",
      "       u'street_number', u'total_ghg_emissions_mtco2e',\n",
      "       u'weather_normalized_site_eui_kbtu_ft2',\n",
      "       u'weather_normalized_source_eui_kbtu_ft2', u'zip_code'],\n",
      "      dtype='object')\n",
      "Index([u'automatic_water_benchmarking_eligible', u'bbls_co_reported',\n",
      "       u'borough', u'co_reported_bbl_status', u'direct_ghg_emissions_mtco2e',\n",
      "       u'dof_benchmarking_submission_status', u'dof_number_of_buildings',\n",
      "       u'dof_property_floor_area_buildngs_and_parking_ft2',\n",
      "       u'energy_star_score', u'indirect_ghg_emissions_mtco2e',\n",
      "       u'municipally_supplied_potable_water_indoor_intensity_gal_ft', u'BBL',\n",
      "       u'primary_property_type_self_selected', u'record_number',\n",
      "       u'reported_nyc_building_identificaiton_numbers_bins',\n",
      "       u'reported_property_floor_area_building_s_ft', u'reported_water_method',\n",
      "       u'site_eui_kbtu_ft2', u'source_eui_kbtu_ft2', u'street_name',\n",
      "       u'street_number', u'total_ghg_emissions_mtco2e',\n",
      "       u'weather_normalized_site_eui_kbtu_ft2',\n",
      "       u'weather_normalized_source_eui_kbtu_ft2', u'zip_code'],\n",
      "      dtype='object')\n"
     ]
    }
   ],
   "source": [
    "print nrg.columns\n",
    "nrg.rename(columns={'nyc_borough_block_and_lot_bbl': 'BBL'}, inplace=True)\n",
    "print nrg.columns\n"
   ]
  },
  {
   "cell_type": "code",
   "execution_count": 5,
   "metadata": {
    "collapsed": false,
    "scrolled": true
   },
   "outputs": [
    {
     "data": {
      "text/html": [
       "<div>\n",
       "<table border=\"1\" class=\"dataframe\">\n",
       "  <thead>\n",
       "    <tr style=\"text-align: right;\">\n",
       "      <th></th>\n",
       "      <th>BBL</th>\n",
       "      <th>siteEUI</th>\n",
       "      <th>floorArea</th>\n",
       "    </tr>\n",
       "  </thead>\n",
       "  <tbody>\n",
       "    <tr>\n",
       "      <th>0</th>\n",
       "      <td>1.000410e+09</td>\n",
       "      <td>NaN</td>\n",
       "      <td>918919.0</td>\n",
       "    </tr>\n",
       "    <tr>\n",
       "      <th>1</th>\n",
       "      <td>4.021460e+09</td>\n",
       "      <td>NaN</td>\n",
       "      <td>NaN</td>\n",
       "    </tr>\n",
       "    <tr>\n",
       "      <th>2</th>\n",
       "      <td>2.027620e+09</td>\n",
       "      <td>NaN</td>\n",
       "      <td>64200.0</td>\n",
       "    </tr>\n",
       "    <tr>\n",
       "      <th>3</th>\n",
       "      <td>1.006700e+09</td>\n",
       "      <td>NaN</td>\n",
       "      <td>NaN</td>\n",
       "    </tr>\n",
       "    <tr>\n",
       "      <th>4</th>\n",
       "      <td>2.048300e+09</td>\n",
       "      <td>NaN</td>\n",
       "      <td>50000.0</td>\n",
       "    </tr>\n",
       "  </tbody>\n",
       "</table>\n",
       "</div>"
      ],
      "text/plain": [
       "            BBL  siteEUI  floorArea\n",
       "0  1.000410e+09      NaN   918919.0\n",
       "1  4.021460e+09      NaN        NaN\n",
       "2  2.027620e+09      NaN    64200.0\n",
       "3  1.006700e+09      NaN        NaN\n",
       "4  2.048300e+09      NaN    50000.0"
      ]
     },
     "execution_count": 5,
     "metadata": {},
     "output_type": "execute_result"
    }
   ],
   "source": [
    "#Keep\n",
    "#Energy \n",
    "## BBL\n",
    "## site_eui_kbtu_ft2  \n",
    "##  The Site Energy Use Intensity (EUI), as calculated by Portfolio Manager, at the property site. This\n",
    "##equals the amount of energy consumed at the site in thousand British thermal units (kBtus) per gross square\n",
    "##foot (kBtu/ft2) of the property. Site EUI values are the result of self-reported entries.\n",
    "\n",
    "## reported_property_floor_area_building_s_ft\n",
    "## Self-reported total gross square footage (ft2) of the property.\n",
    "\n",
    "\n",
    "nrg['siteEUI'] = pd.to_numeric(nrg.site_eui_kbtu_ft2, errors = 'coerce')\n",
    "nrg['floorArea']= pd.to_numeric(nrg.reported_property_floor_area_building_s_ft, errors = 'coerce')\n",
    "nrg = nrg.copy().loc[:,['BBL','siteEUI','floorArea']]\n",
    "nrg.head()\n"
   ]
  },
  {
   "cell_type": "code",
   "execution_count": 6,
   "metadata": {
    "collapsed": false
   },
   "outputs": [
    {
     "data": {
      "text/html": [
       "<div>\n",
       "<table border=\"1\" class=\"dataframe\">\n",
       "  <thead>\n",
       "    <tr style=\"text-align: right;\">\n",
       "      <th></th>\n",
       "      <th>BBL</th>\n",
       "      <th>totalEnergy</th>\n",
       "    </tr>\n",
       "  </thead>\n",
       "  <tbody>\n",
       "    <tr>\n",
       "      <th>0</th>\n",
       "      <td>1.000410e+09</td>\n",
       "      <td>NaN</td>\n",
       "    </tr>\n",
       "    <tr>\n",
       "      <th>1</th>\n",
       "      <td>4.021460e+09</td>\n",
       "      <td>NaN</td>\n",
       "    </tr>\n",
       "    <tr>\n",
       "      <th>2</th>\n",
       "      <td>2.027620e+09</td>\n",
       "      <td>NaN</td>\n",
       "    </tr>\n",
       "    <tr>\n",
       "      <th>3</th>\n",
       "      <td>1.006700e+09</td>\n",
       "      <td>NaN</td>\n",
       "    </tr>\n",
       "    <tr>\n",
       "      <th>4</th>\n",
       "      <td>2.048300e+09</td>\n",
       "      <td>NaN</td>\n",
       "    </tr>\n",
       "  </tbody>\n",
       "</table>\n",
       "</div>"
      ],
      "text/plain": [
       "            BBL  totalEnergy\n",
       "0  1.000410e+09          NaN\n",
       "1  4.021460e+09          NaN\n",
       "2  2.027620e+09          NaN\n",
       "3  1.006700e+09          NaN\n",
       "4  2.048300e+09          NaN"
      ]
     },
     "execution_count": 6,
     "metadata": {},
     "output_type": "execute_result"
    }
   ],
   "source": [
    "nrg['totalEnergy'] = nrg.siteEUI * nrg.floorArea\n",
    "nrg.drop(['siteEUI','floorArea'], axis = 1, inplace=True)\n",
    "nrg.head()"
   ]
  },
  {
   "cell_type": "code",
   "execution_count": 7,
   "metadata": {
    "collapsed": false
   },
   "outputs": [
    {
     "data": {
      "text/plain": [
       "array([[<matplotlib.axes._subplots.AxesSubplot object at 0x7fcfe73366d0>,\n",
       "        <matplotlib.axes._subplots.AxesSubplot object at 0x7fd01b5e9e50>],\n",
       "       [<matplotlib.axes._subplots.AxesSubplot object at 0x7fcff8f012d0>,\n",
       "        <matplotlib.axes._subplots.AxesSubplot object at 0x7fcff6efe4d0>]], dtype=object)"
      ]
     },
     "execution_count": 7,
     "metadata": {},
     "output_type": "execute_result"
    },
    {
     "data": {
      "image/png": "[encoded data removed]",
      "text/plain": [
       "<matplotlib.figure.Figure at 0x7fcffb693910>"
      ]
     },
     "metadata": {},
     "output_type": "display_data"
    }
   ],
   "source": [
    "from pandas.tools.plotting import scatter_matrix\n",
    "scatter_matrix(nrg, figsize=(16, 16))"
   ]
  },
  {
   "cell_type": "code",
   "execution_count": 8,
   "metadata": {
    "collapsed": false
   },
   "outputs": [
    {
     "data": {
      "text/html": [
       "<div>\n",
       "<table border=\"1\" class=\"dataframe\">\n",
       "  <thead>\n",
       "    <tr style=\"text-align: right;\">\n",
       "      <th></th>\n",
       "      <th>BBL</th>\n",
       "      <th>Units</th>\n",
       "    </tr>\n",
       "  </thead>\n",
       "  <tbody>\n",
       "    <tr>\n",
       "      <th>0</th>\n",
       "      <td>1.015450e+09</td>\n",
       "      <td>16</td>\n",
       "    </tr>\n",
       "    <tr>\n",
       "      <th>1</th>\n",
       "      <td>1.007238e+09</td>\n",
       "      <td>50</td>\n",
       "    </tr>\n",
       "    <tr>\n",
       "      <th>2</th>\n",
       "      <td>1.016800e+09</td>\n",
       "      <td>10</td>\n",
       "    </tr>\n",
       "    <tr>\n",
       "      <th>3</th>\n",
       "      <td>1.013850e+09</td>\n",
       "      <td>29</td>\n",
       "    </tr>\n",
       "    <tr>\n",
       "      <th>4</th>\n",
       "      <td>1.011970e+09</td>\n",
       "      <td>26</td>\n",
       "    </tr>\n",
       "  </tbody>\n",
       "</table>\n",
       "</div>"
      ],
      "text/plain": [
       "            BBL  Units\n",
       "0  1.015450e+09     16\n",
       "1  1.007238e+09     50\n",
       "2  1.016800e+09     10\n",
       "3  1.013850e+09     29\n",
       "4  1.011970e+09     26"
      ]
     },
     "execution_count": 8,
     "metadata": {},
     "output_type": "execute_result"
    }
   ],
   "source": [
    "#bsize = bsize.loc[:,['BBL','UnitsTotal']]\n",
    "#few units non residential could have an extraordinary energy consumption,\n",
    "bsize = bsize.loc[:,['BBL','UnitsRes']]\n",
    "bsize.columns = ['BBL','Units']\n",
    "bsize.head()"
   ]
  },
  {
   "cell_type": "code",
   "execution_count": 9,
   "metadata": {
    "collapsed": false
   },
   "outputs": [
    {
     "name": "stdout",
     "output_type": "stream",
     "text": [
      "(42697, 2)\n",
      "(16170, 2)\n"
     ]
    }
   ],
   "source": [
    "print bsize.shape\n",
    "print nrg.shape"
   ]
  },
  {
   "cell_type": "code",
   "execution_count": 10,
   "metadata": {
    "collapsed": false
   },
   "outputs": [
    {
     "data": {
      "text/plain": [
       "(16170, 3)"
      ]
     },
     "execution_count": 10,
     "metadata": {},
     "output_type": "execute_result"
    }
   ],
   "source": [
    "#merge data sets by BBL keeping all rows from the energy data set\n",
    "bblnrgdata = pd.merge(left = nrg, right=bsize, how = 'left', on = 'BBL')\n",
    "bblnrgdata.shape"
   ]
  },
  {
   "cell_type": "code",
   "execution_count": 11,
   "metadata": {
    "collapsed": false
   },
   "outputs": [
    {
     "data": {
      "text/plain": [
       "(1000, 10000000000.0)"
      ]
     },
     "execution_count": 11,
     "metadata": {},
     "output_type": "execute_result"
    },
    {
     "data": {
      "image/png": "[encoded data removed]",
      "text/plain": [
       "<matplotlib.figure.Figure at 0x7fcfe75bfa90>"
      ]
     },
     "metadata": {},
     "output_type": "display_data"
    }
   ],
   "source": [
    "fig = plt.figure(figsize=(16,6))\n",
    "ax = fig.add_subplot(1,2,1)\n",
    "ax.plot(bblnrgdata.Units,bblnrgdata.totalEnergy,'bo')\n",
    "ax.set_title('Amount of energy consumed at the site by Total of units per building')\n",
    "ax.set_xlabel('Total of units in the building')\n",
    "ax.set_ylabel('Amount of energy consumed at the site')\n",
    "\n",
    "ax2 = fig.add_subplot(1,2,2)\n",
    "ax2.plot(bblnrgdata.Units,bblnrgdata.totalEnergy,'bo')\n",
    "ax2.set_title('Amount of energy consumed at the site by Total of units in per building (subset)')\n",
    "ax2.set_xlabel('Total of units in the building (subset)')\n",
    "ax2.set_ylabel('Amount of energy consumed at the site (subset)')\n",
    "\n",
    "ax2.set_xlim(1,1000)\n",
    "ax2.set_ylim(1000,1e10)"
   ]
  },
  {
   "cell_type": "code",
   "execution_count": 12,
   "metadata": {
    "collapsed": false
   },
   "outputs": [
    {
     "name": "stdout",
     "output_type": "stream",
     "text": [
      "(16170, 3)\n",
      "(5069, 3)\n"
     ]
    }
   ],
   "source": [
    "#rmeove NaNs for every colum\n",
    "print bblnrgdata.shape\n",
    "bblnrgdata.dropna(axis=0, how='any', thresh=None, subset=None, inplace=True)\n",
    "print bblnrgdata.shape"
   ]
  },
  {
   "cell_type": "code",
   "execution_count": 13,
   "metadata": {
    "collapsed": false
   },
   "outputs": [
    {
     "name": "stdout",
     "output_type": "stream",
     "text": [
      "count    5069.000000\n",
      "mean       99.613928\n",
      "std       255.911259\n",
      "min         0.000000\n",
      "25%         0.000000\n",
      "50%        54.000000\n",
      "75%       113.000000\n",
      "max      8759.000000\n",
      "Name: Units, dtype: float64\n",
      "count    5.069000e+03\n",
      "mean     2.136455e+08\n",
      "std      5.245490e+09\n",
      "min      0.000000e+00\n",
      "25%      5.865608e+06\n",
      "50%      9.347373e+06\n",
      "75%      1.905119e+07\n",
      "max      3.501452e+11\n",
      "Name: totalEnergy, dtype: float64\n"
     ]
    }
   ],
   "source": [
    "#see distribution of values\n",
    "print bblnrgdata.Units.describe()\n",
    "print bblnrgdata.totalEnergy.describe()"
   ]
  },
  {
   "cell_type": "code",
   "execution_count": 14,
   "metadata": {
    "collapsed": false
   },
   "outputs": [
    {
     "data": {
      "image/png": "[encoded data removed]",
      "text/plain": [
       "<matplotlib.figure.Figure at 0x7fcff16ab910>"
      ]
     },
     "metadata": {},
     "output_type": "display_data"
    }
   ],
   "source": [
    "fig = plt.figure(figsize=(16,6))\n",
    "ax = fig.add_subplot(2,2,1)\n",
    "ax = seaborn.boxplot(bblnrgdata.totalEnergy)\n",
    "\n",
    "ax2 = fig.add_subplot(2,2,2)\n",
    "ax2 = seaborn.boxplot(bblnrgdata.Units)\n",
    "\n",
    "ax3 = fig.add_subplot(2,2,3)\n",
    "ax3 = seaborn.kdeplot(bblnrgdata.totalEnergy)\n",
    "\n",
    "ax4 = fig.add_subplot(2,2,4)\n",
    "ax4 = seaborn.kdeplot(bblnrgdata.Units)\n"
   ]
  },
  {
   "cell_type": "code",
   "execution_count": null,
   "metadata": {
    "collapsed": false
   },
   "outputs": [],
   "source": [
    "nrgMaskQ = (bblnrgdata.totalEnergy > 1000) & (bblnrgdata.totalEnergy < bblnrgdata.totalEnergy.quantile(.99))\n",
    "unitsMaskQ = (bblnrgdata.Units> 0) & (bblnrgdata.Units < bblnrgdata.Units.quantile(.99))\n"
   ]
  },
  {
   "cell_type": "code",
   "execution_count": null,
   "metadata": {
    "collapsed": false
   },
   "outputs": [],
   "source": [
    "fig = plt.figure(figsize=(16,6))\n",
    "ax = fig.add_subplot(2,2,1)\n",
    "ax = seaborn.boxplot(bblnrgdata.totalEnergy[nrgMaskQ])\n",
    "\n",
    "ax2 = fig.add_subplot(2,2,2)\n",
    "ax2 = seaborn.boxplot(bblnrgdata.Units[unitsMaskQ])\n",
    "\n",
    "ax3 = fig.add_subplot(2,2,3)\n",
    "ax3 = seaborn.kdeplot(bblnrgdata.totalEnergy[nrgMaskQ])\n",
    "\n",
    "ax4 = fig.add_subplot(2,2,4)\n",
    "ax4 = seaborn.kdeplot(bblnrgdata.Units[unitsMaskQ])"
   ]
  },
  {
   "cell_type": "code",
   "execution_count": null,
   "metadata": {
    "collapsed": false
   },
   "outputs": [],
   "source": [
    "#see distribution of values after outlier removal\n",
    "print bblnrgdata.Units[unitsMaskQ].describe()\n",
    "print bblnrgdata.totalEnergy[nrgMaskQ].describe()"
   ]
  },
  {
   "cell_type": "code",
   "execution_count": null,
   "metadata": {
    "collapsed": false
   },
   "outputs": [],
   "source": [
    "joinMasks = unitsMaskQ & nrgMaskQ\n",
    "print sum(joinMasks)\n",
    "plt.plot(bblnrgdata.Units[joinMasks],bblnrgdata.totalEnergy[joinMasks],'ro')"
   ]
  },
  {
   "cell_type": "code",
   "execution_count": null,
   "metadata": {
    "collapsed": false
   },
   "outputs": [],
   "source": [
    "#create log for each variable\n",
    "bblnrgdata['logUnits'] = np.log10(bblnrgdata.Units[joinMasks])\n",
    "bblnrgdata['logTotalEnergy'] = np.log10(bblnrgdata.totalEnergy[joinMasks])\n",
    "bblnrgdata.dropna(axis=0, how='any', thresh=None, subset=None, inplace=True)"
   ]
  },
  {
   "cell_type": "code",
   "execution_count": null,
   "metadata": {
    "collapsed": false
   },
   "outputs": [],
   "source": [
    "#Plot data\n",
    "fig = plt.figure(figsize=(16,6))\n",
    "ax = fig.add_subplot(1,2,1)\n",
    "ax.plot(bblnrgdata.logUnits,bblnrgdata.logTotalEnergy,'bo')\n",
    "ax.set_title('Log of total energy consumed at the site by log of total of units per building')\n",
    "ax.set_xlabel('Units in the building (Log)')\n",
    "ax.set_ylabel('Amount of energy consumed at the site (Log)')\n"
   ]
  },
  {
   "cell_type": "code",
   "execution_count": null,
   "metadata": {
    "collapsed": false
   },
   "outputs": [],
   "source": [
    "#test for units as independent\n",
    "x = sm.add_constant(bblnrgdata.logUnits)\n",
    "y = bblnrgdata.logTotalEnergy\n",
    "lm = sm.OLS(y,x,missing='drop').fit()\n",
    "print lm.summary()"
   ]
  },
  {
   "cell_type": "code",
   "execution_count": null,
   "metadata": {
    "collapsed": false
   },
   "outputs": [],
   "source": [
    "fig = plt.figure(figsize=(16,6))\n",
    "ax = fig.add_subplot(1,2,1)\n",
    "ax.plot(x,y,'bo')\n",
    "ax.plot([0,3.5],[lm.params[0],lm.params[0] + 3.5 * lm.params[1]],'r')\n",
    "ax.set_title('Log of total energy consumed at the site by log of total of units per building')\n",
    "ax.set_xlabel('Total of units in the building (Log)')\n",
    "ax.set_ylabel('Amount of energy consumed at the site (Log)')\n"
   ]
  },
  {
   "cell_type": "code",
   "execution_count": null,
   "metadata": {
    "collapsed": false
   },
   "outputs": [],
   "source": [
    "#test for energy as independent\n",
    "x = sm.add_constant(bblnrgdata.logTotalEnergy)\n",
    "y = bblnrgdata.logUnits\n",
    "lm = sm.OLS(y,x,missing='drop').fit()\n",
    "print lm.summary()"
   ]
  },
  {
   "cell_type": "code",
   "execution_count": null,
   "metadata": {
    "collapsed": false
   },
   "outputs": [],
   "source": [
    "fig = plt.figure(figsize=(16,6))\n",
    "ax = fig.add_subplot(1,2,1)\n",
    "ax.plot(x,y,'bo')\n",
    "ax.plot([1,10],[lm.params[0],lm.params[0] + 10 * lm.params[1]],'r')\n",
    "ax.set_title('Log of total energy consumed at the site by log of total of units per building')\n",
    "ax.set_xlabel('Total of units in the building (Log)')\n",
    "ax.set_ylabel('Amount of energy consumed at the site (Log)')\n"
   ]
  },
  {
   "cell_type": "code",
   "execution_count": null,
   "metadata": {
    "collapsed": true
   },
   "outputs": [],
   "source": []
  }
 ],
 "metadata": {
  "kernelspec": {
   "display_name": "Python [Root]",
   "language": "python",
   "name": "Python [Root]"
  },
  "language_info": {
   "codemirror_mode": {
    "name": "ipython",
    "version": 2
   },
   "file_extension": ".py",
   "mimetype": "text/x-python",
   "name": "python",
   "nbconvert_exporter": "python",
   "pygments_lexer": "ipython2",
   "version": "2.7.12"
  }
 },
 "nbformat": 4,
 "nbformat_minor": 0
}
