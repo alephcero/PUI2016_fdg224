{
 "cells": [
  {
   "cell_type": "markdown",
   "metadata": {},
   "source": [
    "# Working with Data - Computer Lab for Guest Lecture Julia Lane\n",
    "\n",
    "In this computer lab we will learn more more details and practice data work to enhance the content of the lecture presented by Julia Lane on responsible data use. We will address a research question, think about data and measurement errors, and manipulate data. \n",
    "\n",
    "OUTLINE: \n",
    "1. Define a research question \n",
    "2. Think about what data are available \n",
    "3. Think about possible measurement errors \n",
    "4. Think about the interpretation of your results \n",
    "5. Inform your results by linking datasets "
   ]
  },
  {
   "cell_type": "markdown",
   "metadata": {
    "raw_mimetype": "text/markdown"
   },
   "source": [
    "# 1. Define a reserach question\n",
    "Which Community Districts in NYC show the highest number of complaints?\n",
    "\n",
    "# 2. Think about what data are available\n",
    "Find suitable data by searching the CUSP Data Catalog https://datahub.cusp.nyu.edu/catalog. You can use Urban Profiler to investigate the Metadata associated with each dataset. Using this tool will help you to decide which attributes of the data you need to answer your question so you don't have to load the entire dataset. "
   ]
  },
  {
   "cell_type": "code",
   "execution_count": 1,
   "metadata": {
    "collapsed": false
   },
   "outputs": [],
   "source": [
    "import os\n",
    "import pandas as pd\n",
    "import numpy as np\n",
    "import re\n",
    "import statsmodels.formula.api as smf\n",
    "\n",
    "import matplotlib.pyplot as plt\n",
    "%matplotlib inline\n",
    "PUIdata = os.getenv('PUIDATA')"
   ]
  },
  {
   "cell_type": "code",
   "execution_count": 2,
   "metadata": {
    "collapsed": false
   },
   "outputs": [
    {
     "data": {
      "text/html": [
       "<div>\n",
       "<table border=\"1\" class=\"dataframe\">\n",
       "  <thead>\n",
       "    <tr style=\"text-align: right;\">\n",
       "      <th></th>\n",
       "      <th>Unique Key</th>\n",
       "      <th>Created Date</th>\n",
       "      <th>Closed Date</th>\n",
       "      <th>Agency</th>\n",
       "      <th>Agency Name</th>\n",
       "      <th>Complaint Type</th>\n",
       "      <th>Descriptor</th>\n",
       "      <th>Location Type</th>\n",
       "      <th>Incident Zip</th>\n",
       "      <th>Incident Address</th>\n",
       "      <th>...</th>\n",
       "      <th>Bridge Highway Name</th>\n",
       "      <th>Bridge Highway Direction</th>\n",
       "      <th>Road Ramp</th>\n",
       "      <th>Bridge Highway Segment</th>\n",
       "      <th>Garage Lot Name</th>\n",
       "      <th>Ferry Direction</th>\n",
       "      <th>Ferry Terminal Name</th>\n",
       "      <th>Latitude</th>\n",
       "      <th>Longitude</th>\n",
       "      <th>Location</th>\n",
       "    </tr>\n",
       "  </thead>\n",
       "  <tbody>\n",
       "    <tr>\n",
       "      <th>0</th>\n",
       "      <td>31911011</td>\n",
       "      <td>11/05/2015 02:59:15 AM</td>\n",
       "      <td>NaN</td>\n",
       "      <td>DOT</td>\n",
       "      <td>Department of Transportation</td>\n",
       "      <td>Street Condition</td>\n",
       "      <td>Pothole</td>\n",
       "      <td>NaN</td>\n",
       "      <td>11224.0</td>\n",
       "      <td>NaN</td>\n",
       "      <td>...</td>\n",
       "      <td>NaN</td>\n",
       "      <td>NaN</td>\n",
       "      <td>NaN</td>\n",
       "      <td>NaN</td>\n",
       "      <td>NaN</td>\n",
       "      <td>NaN</td>\n",
       "      <td>NaN</td>\n",
       "      <td>40.573431</td>\n",
       "      <td>-73.991742</td>\n",
       "      <td>(40.57343122248129, -73.99174247588253)</td>\n",
       "    </tr>\n",
       "    <tr>\n",
       "      <th>1</th>\n",
       "      <td>31908754</td>\n",
       "      <td>11/05/2015 02:09:49 AM</td>\n",
       "      <td>NaN</td>\n",
       "      <td>CHALL</td>\n",
       "      <td>CHALL</td>\n",
       "      <td>Opinion for the Mayor</td>\n",
       "      <td>HOUSING</td>\n",
       "      <td>NaN</td>\n",
       "      <td>NaN</td>\n",
       "      <td>NaN</td>\n",
       "      <td>...</td>\n",
       "      <td>NaN</td>\n",
       "      <td>NaN</td>\n",
       "      <td>NaN</td>\n",
       "      <td>1-1-1173130914</td>\n",
       "      <td>NaN</td>\n",
       "      <td>NaN</td>\n",
       "      <td>NaN</td>\n",
       "      <td>NaN</td>\n",
       "      <td>NaN</td>\n",
       "      <td>NaN</td>\n",
       "    </tr>\n",
       "    <tr>\n",
       "      <th>2</th>\n",
       "      <td>31910423</td>\n",
       "      <td>11/05/2015 02:06:51 AM</td>\n",
       "      <td>NaN</td>\n",
       "      <td>DPR</td>\n",
       "      <td>Department of Parks and Recreation</td>\n",
       "      <td>Root/Sewer/Sidewalk Condition</td>\n",
       "      <td>Trees and Sidewalks Program</td>\n",
       "      <td>Street</td>\n",
       "      <td>11234.0</td>\n",
       "      <td>1157 EAST 57 STREET</td>\n",
       "      <td>...</td>\n",
       "      <td>NaN</td>\n",
       "      <td>NaN</td>\n",
       "      <td>NaN</td>\n",
       "      <td>NaN</td>\n",
       "      <td>NaN</td>\n",
       "      <td>NaN</td>\n",
       "      <td>NaN</td>\n",
       "      <td>40.625004</td>\n",
       "      <td>-73.920726</td>\n",
       "      <td>(40.62500363580505, -73.92072558378698)</td>\n",
       "    </tr>\n",
       "    <tr>\n",
       "      <th>3</th>\n",
       "      <td>31909924</td>\n",
       "      <td>11/05/2015 02:02:20 AM</td>\n",
       "      <td>NaN</td>\n",
       "      <td>NYPD</td>\n",
       "      <td>New York City Police Department</td>\n",
       "      <td>Illegal Parking</td>\n",
       "      <td>Blocked Hydrant</td>\n",
       "      <td>Street/Sidewalk</td>\n",
       "      <td>11218.0</td>\n",
       "      <td>722 EAST 4 STREET</td>\n",
       "      <td>...</td>\n",
       "      <td>NaN</td>\n",
       "      <td>NaN</td>\n",
       "      <td>NaN</td>\n",
       "      <td>NaN</td>\n",
       "      <td>NaN</td>\n",
       "      <td>NaN</td>\n",
       "      <td>NaN</td>\n",
       "      <td>40.634522</td>\n",
       "      <td>-73.974790</td>\n",
       "      <td>(40.634522428879706, -73.97479041437481)</td>\n",
       "    </tr>\n",
       "    <tr>\n",
       "      <th>4</th>\n",
       "      <td>31913310</td>\n",
       "      <td>11/05/2015 01:57:20 AM</td>\n",
       "      <td>11/05/2015 01:57:31 AM</td>\n",
       "      <td>HRA</td>\n",
       "      <td>HRA Benefit Card Replacement</td>\n",
       "      <td>Benefit Card Replacement</td>\n",
       "      <td>Medicaid</td>\n",
       "      <td>NYC Street Address</td>\n",
       "      <td>NaN</td>\n",
       "      <td>NaN</td>\n",
       "      <td>...</td>\n",
       "      <td>NaN</td>\n",
       "      <td>NaN</td>\n",
       "      <td>NaN</td>\n",
       "      <td>NaN</td>\n",
       "      <td>NaN</td>\n",
       "      <td>NaN</td>\n",
       "      <td>NaN</td>\n",
       "      <td>NaN</td>\n",
       "      <td>NaN</td>\n",
       "      <td>NaN</td>\n",
       "    </tr>\n",
       "  </tbody>\n",
       "</table>\n",
       "<p>5 rows × 53 columns</p>\n",
       "</div>"
      ],
      "text/plain": [
       "   Unique Key            Created Date             Closed Date Agency  \\\n",
       "0    31911011  11/05/2015 02:59:15 AM                     NaN    DOT   \n",
       "1    31908754  11/05/2015 02:09:49 AM                     NaN  CHALL   \n",
       "2    31910423  11/05/2015 02:06:51 AM                     NaN    DPR   \n",
       "3    31909924  11/05/2015 02:02:20 AM                     NaN   NYPD   \n",
       "4    31913310  11/05/2015 01:57:20 AM  11/05/2015 01:57:31 AM    HRA   \n",
       "\n",
       "                          Agency Name                 Complaint Type  \\\n",
       "0        Department of Transportation               Street Condition   \n",
       "1                               CHALL          Opinion for the Mayor   \n",
       "2  Department of Parks and Recreation  Root/Sewer/Sidewalk Condition   \n",
       "3     New York City Police Department                Illegal Parking   \n",
       "4        HRA Benefit Card Replacement       Benefit Card Replacement   \n",
       "\n",
       "                    Descriptor       Location Type  Incident Zip  \\\n",
       "0                      Pothole                 NaN       11224.0   \n",
       "1                      HOUSING                 NaN           NaN   \n",
       "2  Trees and Sidewalks Program              Street       11234.0   \n",
       "3              Blocked Hydrant     Street/Sidewalk       11218.0   \n",
       "4                     Medicaid  NYC Street Address           NaN   \n",
       "\n",
       "      Incident Address                    ...                     \\\n",
       "0                  NaN                    ...                      \n",
       "1                  NaN                    ...                      \n",
       "2  1157 EAST 57 STREET                    ...                      \n",
       "3    722 EAST 4 STREET                    ...                      \n",
       "4                  NaN                    ...                      \n",
       "\n",
       "  Bridge Highway Name Bridge Highway Direction Road Ramp  \\\n",
       "0                 NaN                      NaN       NaN   \n",
       "1                 NaN                      NaN       NaN   \n",
       "2                 NaN                      NaN       NaN   \n",
       "3                 NaN                      NaN       NaN   \n",
       "4                 NaN                      NaN       NaN   \n",
       "\n",
       "  Bridge Highway Segment Garage Lot Name Ferry Direction Ferry Terminal Name  \\\n",
       "0                    NaN             NaN             NaN                 NaN   \n",
       "1         1-1-1173130914             NaN             NaN                 NaN   \n",
       "2                    NaN             NaN             NaN                 NaN   \n",
       "3                    NaN             NaN             NaN                 NaN   \n",
       "4                    NaN             NaN             NaN                 NaN   \n",
       "\n",
       "    Latitude  Longitude                                  Location  \n",
       "0  40.573431 -73.991742   (40.57343122248129, -73.99174247588253)  \n",
       "1        NaN        NaN                                       NaN  \n",
       "2  40.625004 -73.920726   (40.62500363580505, -73.92072558378698)  \n",
       "3  40.634522 -73.974790  (40.634522428879706, -73.97479041437481)  \n",
       "4        NaN        NaN                                       NaN  \n",
       "\n",
       "[5 rows x 53 columns]"
      ]
     },
     "execution_count": 2,
     "metadata": {},
     "output_type": "execute_result"
    }
   ],
   "source": [
    "data = pd.read_csv('/projects/open/NYCOpenData/nycopendata/data/erm2-nwe9/1446832678/erm2-nwe9', nrows = 10)\n",
    "data.head()"
   ]
  },
  {
   "cell_type": "code",
   "execution_count": 3,
   "metadata": {
    "collapsed": false
   },
   "outputs": [],
   "source": [
    "# Load dataset\n",
    "\n",
    "#data311 = pd.read_csv('https://data.cityofnewyork.us/resource/erm2-nwe9.csv')\n",
    "data311 = pd.read_csv('/projects/open/NYCOpenData/nycopendata/data/erm2-nwe9/1446832678/erm2-nwe9',\n",
    "                     usecols = ['Unique Key','Agency', 'Complaint Type',\n",
    "                                'Community Board', 'Borough','Created Date', 'Closed Date'])"
   ]
  },
  {
   "cell_type": "code",
   "execution_count": 4,
   "metadata": {
    "collapsed": false
   },
   "outputs": [
    {
     "name": "stdout",
     "output_type": "stream",
     "text": [
      "(10187766, 7)\n"
     ]
    },
    {
     "data": {
      "text/html": [
       "<div>\n",
       "<table border=\"1\" class=\"dataframe\">\n",
       "  <thead>\n",
       "    <tr style=\"text-align: right;\">\n",
       "      <th></th>\n",
       "      <th>Unique Key</th>\n",
       "      <th>Created Date</th>\n",
       "      <th>Closed Date</th>\n",
       "      <th>Agency</th>\n",
       "      <th>Complaint Type</th>\n",
       "      <th>Community Board</th>\n",
       "      <th>Borough</th>\n",
       "    </tr>\n",
       "  </thead>\n",
       "  <tbody>\n",
       "    <tr>\n",
       "      <th>0</th>\n",
       "      <td>31911011</td>\n",
       "      <td>11/05/2015 02:59:15 AM</td>\n",
       "      <td>NaN</td>\n",
       "      <td>DOT</td>\n",
       "      <td>Street Condition</td>\n",
       "      <td>13 BROOKLYN</td>\n",
       "      <td>BROOKLYN</td>\n",
       "    </tr>\n",
       "    <tr>\n",
       "      <th>1</th>\n",
       "      <td>31908754</td>\n",
       "      <td>11/05/2015 02:09:49 AM</td>\n",
       "      <td>NaN</td>\n",
       "      <td>CHALL</td>\n",
       "      <td>Opinion for the Mayor</td>\n",
       "      <td>0 Unspecified</td>\n",
       "      <td>Unspecified</td>\n",
       "    </tr>\n",
       "    <tr>\n",
       "      <th>2</th>\n",
       "      <td>31910423</td>\n",
       "      <td>11/05/2015 02:06:51 AM</td>\n",
       "      <td>NaN</td>\n",
       "      <td>DPR</td>\n",
       "      <td>Root/Sewer/Sidewalk Condition</td>\n",
       "      <td>18 BROOKLYN</td>\n",
       "      <td>BROOKLYN</td>\n",
       "    </tr>\n",
       "    <tr>\n",
       "      <th>3</th>\n",
       "      <td>31909924</td>\n",
       "      <td>11/05/2015 02:02:20 AM</td>\n",
       "      <td>NaN</td>\n",
       "      <td>NYPD</td>\n",
       "      <td>Illegal Parking</td>\n",
       "      <td>12 BROOKLYN</td>\n",
       "      <td>BROOKLYN</td>\n",
       "    </tr>\n",
       "    <tr>\n",
       "      <th>4</th>\n",
       "      <td>31913310</td>\n",
       "      <td>11/05/2015 01:57:20 AM</td>\n",
       "      <td>11/05/2015 01:57:31 AM</td>\n",
       "      <td>HRA</td>\n",
       "      <td>Benefit Card Replacement</td>\n",
       "      <td>0 Unspecified</td>\n",
       "      <td>Unspecified</td>\n",
       "    </tr>\n",
       "  </tbody>\n",
       "</table>\n",
       "</div>"
      ],
      "text/plain": [
       "   Unique Key            Created Date             Closed Date Agency  \\\n",
       "0    31911011  11/05/2015 02:59:15 AM                     NaN    DOT   \n",
       "1    31908754  11/05/2015 02:09:49 AM                     NaN  CHALL   \n",
       "2    31910423  11/05/2015 02:06:51 AM                     NaN    DPR   \n",
       "3    31909924  11/05/2015 02:02:20 AM                     NaN   NYPD   \n",
       "4    31913310  11/05/2015 01:57:20 AM  11/05/2015 01:57:31 AM    HRA   \n",
       "\n",
       "                  Complaint Type Community Board      Borough  \n",
       "0               Street Condition     13 BROOKLYN     BROOKLYN  \n",
       "1          Opinion for the Mayor   0 Unspecified  Unspecified  \n",
       "2  Root/Sewer/Sidewalk Condition     18 BROOKLYN     BROOKLYN  \n",
       "3                Illegal Parking     12 BROOKLYN     BROOKLYN  \n",
       "4       Benefit Card Replacement   0 Unspecified  Unspecified  "
      ]
     },
     "execution_count": 4,
     "metadata": {},
     "output_type": "execute_result"
    }
   ],
   "source": [
    "print data311.shape\n",
    "data311.head()"
   ]
  },
  {
   "cell_type": "markdown",
   "metadata": {},
   "source": [
    "# 3. Think about possible measurement errors\n",
    "Do you see any problems regarding possible measurement error? Think about who is represented in the data, ommissions, duplications, content error, missing data, etc. "
   ]
  },
  {
   "cell_type": "markdown",
   "metadata": {},
   "source": [
    "There may be some omission errors, given that the this data only represents the ones who call the 311 service. Also, some complaints could be duplicated, those complaints that are not resolved and the citizen keeps calling the 311 service."
   ]
  },
  {
   "cell_type": "code",
   "execution_count": 5,
   "metadata": {
    "collapsed": false
   },
   "outputs": [
    {
     "data": {
      "text/plain": [
       "BROOKLYN         2831932\n",
       "QUEENS           2189760\n",
       "MANHATTAN        1900005\n",
       "BRONX            1665625\n",
       "Unspecified      1109446\n",
       "STATEN ISLAND     490998\n",
       "Name: Borough, dtype: int64"
      ]
     },
     "execution_count": 5,
     "metadata": {},
     "output_type": "execute_result"
    }
   ],
   "source": [
    "# Check if all Boroughs and Community Districts are represented in the Data \n",
    "data311.Borough.value_counts()"
   ]
  },
  {
   "cell_type": "markdown",
   "metadata": {},
   "source": [
    "Here we se Community boards that doesn't exists, like 80 Queens. Also there is missing information aboaut the Community Boards, that shows as Unspecified."
   ]
  },
  {
   "cell_type": "code",
   "execution_count": 6,
   "metadata": {
    "collapsed": false
   },
   "outputs": [
    {
     "data": {
      "text/plain": [
       "Index([u'0 Unspecified', u'12 MANHATTAN', u'Unspecified BROOKLYN',\n",
       "       u'12 QUEENS', u'Unspecified MANHATTAN', u'Unspecified QUEENS',\n",
       "       u'Unspecified BRONX', u'03 BROOKLYN', u'07 QUEENS', u'17 BROOKLYN',\n",
       "       u'05 BROOKLYN', u'14 BROOKLYN', u'07 BRONX', u'01 BROOKLYN',\n",
       "       u'01 STATEN ISLAND', u'04 BRONX', u'01 QUEENS', u'05 QUEENS',\n",
       "       u'12 BRONX', u'13 QUEENS', u'05 BRONX', u'18 BROOKLYN', u'07 MANHATTAN',\n",
       "       u'09 QUEENS', u'12 BROOKLYN', u'03 MANHATTAN', u'08 MANHATTAN',\n",
       "       u'09 BRONX', u'15 BROOKLYN', u'05 MANHATTAN', u'08 BROOKLYN',\n",
       "       u'11 BROOKLYN', u'04 BROOKLYN', u'10 MANHATTAN', u'03 STATEN ISLAND',\n",
       "       u'09 BROOKLYN', u'02 MANHATTAN', u'04 MANHATTAN', u'10 QUEENS',\n",
       "       u'09 MANHATTAN', u'08 QUEENS', u'11 BRONX', u'03 QUEENS',\n",
       "       u'02 STATEN ISLAND', u'02 BROOKLYN', u'02 QUEENS', u'06 BROOKLYN',\n",
       "       u'10 BROOKLYN', u'07 BROOKLYN', u'06 MANHATTAN', u'14 QUEENS',\n",
       "       u'11 QUEENS', u'06 BRONX', u'04 QUEENS', u'10 BRONX', u'11 MANHATTAN',\n",
       "       u'08 BRONX', u'06 QUEENS', u'16 BROOKLYN', u'01 MANHATTAN', u'03 BRONX',\n",
       "       u'01 BRONX', u'13 BROOKLYN', u'02 BRONX', u'Unspecified STATEN ISLAND',\n",
       "       u'83 QUEENS', u'80 QUEENS', u'81 QUEENS', u'64 MANHATTAN',\n",
       "       u'56 BROOKLYN', u'55 BROOKLYN', u'82 QUEENS', u'95 STATEN ISLAND',\n",
       "       u'27 BRONX', u'28 BRONX', u'26 BRONX', u'84 QUEENS'],\n",
       "      dtype='object')"
      ]
     },
     "execution_count": 6,
     "metadata": {},
     "output_type": "execute_result"
    }
   ],
   "source": [
    "data311['Community Board'].value_counts().index"
   ]
  },
  {
   "cell_type": "code",
   "execution_count": 7,
   "metadata": {
    "collapsed": false
   },
   "outputs": [
    {
     "data": {
      "text/plain": [
       "BROOKLYN       21\n",
       "QUEENS         20\n",
       "BRONX          16\n",
       "MANHATTAN      14\n",
       "STATEN          5\n",
       "Unspecified     1\n",
       "Name: 1, dtype: int64"
      ]
     },
     "execution_count": 7,
     "metadata": {},
     "output_type": "execute_result"
    }
   ],
   "source": [
    "commuBord = data311['Community Board'].value_counts().index\n",
    "commuDF = pd.DataFrame([i.split(' ',2) for i in commuBord])\n",
    "commuDF.iloc[:,1].value_counts()\n",
    "# 59 community districts, \n",
    "# eighteen in Brooklyn\n",
    "# fourteen in Queens\n",
    "# twelve in the Bronx\n",
    "# twelve in Manhattan\n",
    "# and three in Staten Island."
   ]
  },
  {
   "cell_type": "code",
   "execution_count": 8,
   "metadata": {
    "collapsed": true
   },
   "outputs": [],
   "source": [
    "commuDF.columns = ['id','boro','extra']"
   ]
  },
  {
   "cell_type": "code",
   "execution_count": 9,
   "metadata": {
    "collapsed": false
   },
   "outputs": [
    {
     "data": {
      "text/html": [
       "<div>\n",
       "<table border=\"1\" class=\"dataframe\">\n",
       "  <thead>\n",
       "    <tr style=\"text-align: right;\">\n",
       "      <th></th>\n",
       "      <th>id</th>\n",
       "      <th>boro</th>\n",
       "      <th>extra</th>\n",
       "    </tr>\n",
       "  </thead>\n",
       "  <tbody>\n",
       "    <tr>\n",
       "      <th>59</th>\n",
       "      <td>01</td>\n",
       "      <td>MANHATTAN</td>\n",
       "      <td>None</td>\n",
       "    </tr>\n",
       "    <tr>\n",
       "      <th>36</th>\n",
       "      <td>02</td>\n",
       "      <td>MANHATTAN</td>\n",
       "      <td>None</td>\n",
       "    </tr>\n",
       "    <tr>\n",
       "      <th>25</th>\n",
       "      <td>03</td>\n",
       "      <td>MANHATTAN</td>\n",
       "      <td>None</td>\n",
       "    </tr>\n",
       "    <tr>\n",
       "      <th>37</th>\n",
       "      <td>04</td>\n",
       "      <td>MANHATTAN</td>\n",
       "      <td>None</td>\n",
       "    </tr>\n",
       "    <tr>\n",
       "      <th>29</th>\n",
       "      <td>05</td>\n",
       "      <td>MANHATTAN</td>\n",
       "      <td>None</td>\n",
       "    </tr>\n",
       "    <tr>\n",
       "      <th>49</th>\n",
       "      <td>06</td>\n",
       "      <td>MANHATTAN</td>\n",
       "      <td>None</td>\n",
       "    </tr>\n",
       "    <tr>\n",
       "      <th>22</th>\n",
       "      <td>07</td>\n",
       "      <td>MANHATTAN</td>\n",
       "      <td>None</td>\n",
       "    </tr>\n",
       "    <tr>\n",
       "      <th>26</th>\n",
       "      <td>08</td>\n",
       "      <td>MANHATTAN</td>\n",
       "      <td>None</td>\n",
       "    </tr>\n",
       "    <tr>\n",
       "      <th>39</th>\n",
       "      <td>09</td>\n",
       "      <td>MANHATTAN</td>\n",
       "      <td>None</td>\n",
       "    </tr>\n",
       "    <tr>\n",
       "      <th>33</th>\n",
       "      <td>10</td>\n",
       "      <td>MANHATTAN</td>\n",
       "      <td>None</td>\n",
       "    </tr>\n",
       "    <tr>\n",
       "      <th>55</th>\n",
       "      <td>11</td>\n",
       "      <td>MANHATTAN</td>\n",
       "      <td>None</td>\n",
       "    </tr>\n",
       "    <tr>\n",
       "      <th>1</th>\n",
       "      <td>12</td>\n",
       "      <td>MANHATTAN</td>\n",
       "      <td>None</td>\n",
       "    </tr>\n",
       "    <tr>\n",
       "      <th>68</th>\n",
       "      <td>64</td>\n",
       "      <td>MANHATTAN</td>\n",
       "      <td>None</td>\n",
       "    </tr>\n",
       "    <tr>\n",
       "      <th>4</th>\n",
       "      <td>Unspecified</td>\n",
       "      <td>MANHATTAN</td>\n",
       "      <td>None</td>\n",
       "    </tr>\n",
       "  </tbody>\n",
       "</table>\n",
       "</div>"
      ],
      "text/plain": [
       "             id       boro extra\n",
       "59           01  MANHATTAN  None\n",
       "36           02  MANHATTAN  None\n",
       "25           03  MANHATTAN  None\n",
       "37           04  MANHATTAN  None\n",
       "29           05  MANHATTAN  None\n",
       "49           06  MANHATTAN  None\n",
       "22           07  MANHATTAN  None\n",
       "26           08  MANHATTAN  None\n",
       "39           09  MANHATTAN  None\n",
       "33           10  MANHATTAN  None\n",
       "55           11  MANHATTAN  None\n",
       "1            12  MANHATTAN  None\n",
       "68           64  MANHATTAN  None\n",
       "4   Unspecified  MANHATTAN  None"
      ]
     },
     "execution_count": 9,
     "metadata": {},
     "output_type": "execute_result"
    }
   ],
   "source": [
    "commuDF.loc[commuDF.boro == 'MANHATTAN',].sort_values('id')\n",
    "#81 QUEENS there is the problem"
   ]
  },
  {
   "cell_type": "code",
   "execution_count": 10,
   "metadata": {
    "collapsed": false
   },
   "outputs": [
    {
     "name": "stdout",
     "output_type": "stream",
     "text": [
      "There are 77 unique Community Boards\n"
     ]
    }
   ],
   "source": [
    "# How many unique values do we have? \n",
    "#how do we consider dates for duplicates??\n",
    "print 'There are %d unique Community Boards'% len(data311['Community Board'].value_counts().index)"
   ]
  },
  {
   "cell_type": "code",
   "execution_count": 11,
   "metadata": {
    "collapsed": false
   },
   "outputs": [],
   "source": [
    "# Why do we have so many? Some of them are unspecified, missing. Some might be invalid entries. \n",
    "# We should have 59 Community Districts."
   ]
  },
  {
   "cell_type": "markdown",
   "metadata": {},
   "source": [
    "There are some invalid entries as stated before, with some Community Boards that have wrong numbers "
   ]
  },
  {
   "cell_type": "code",
   "execution_count": 12,
   "metadata": {
    "collapsed": true
   },
   "outputs": [],
   "source": [
    "# Check for duplicates? Are these plausible?"
   ]
  },
  {
   "cell_type": "code",
   "execution_count": 13,
   "metadata": {
    "collapsed": false
   },
   "outputs": [
    {
     "data": {
      "text/plain": [
       "0"
      ]
     },
     "execution_count": 13,
     "metadata": {},
     "output_type": "execute_result"
    }
   ],
   "source": [
    "sum(data311['Community Board'].value_counts().index.duplicated())\n"
   ]
  },
  {
   "cell_type": "markdown",
   "metadata": {},
   "source": [
    "While it is possible to have duplicated values (due to typos for example), there are none in this data set"
   ]
  },
  {
   "cell_type": "code",
   "execution_count": 14,
   "metadata": {
    "collapsed": false
   },
   "outputs": [],
   "source": [
    "# What about missing values? Can you detect any patterns? "
   ]
  },
  {
   "cell_type": "code",
   "execution_count": 15,
   "metadata": {
    "collapsed": false
   },
   "outputs": [
    {
     "data": {
      "text/plain": [
       "10187766"
      ]
     },
     "execution_count": 15,
     "metadata": {},
     "output_type": "execute_result"
    }
   ],
   "source": [
    "sum(data311['Community Board'].value_counts())"
   ]
  },
  {
   "cell_type": "markdown",
   "metadata": {},
   "source": [
    "There are no missing values, only those with Unspecified. The sum of all the responses in Commuty Board matches the total rows."
   ]
  },
  {
   "cell_type": "code",
   "execution_count": 16,
   "metadata": {
    "collapsed": true
   },
   "outputs": [],
   "source": [
    "# Data Editing: Is it possible to replace missing values? Is it possible to use Complaint Type \n",
    "# to fill missings in Resolution Descriptor?"
   ]
  },
  {
   "cell_type": "markdown",
   "metadata": {},
   "source": [
    "If the complaint type is strongly correlated with the Resolution Descriptor, then in a way be used as a resource to infer that missing information. "
   ]
  },
  {
   "cell_type": "code",
   "execution_count": 17,
   "metadata": {
    "collapsed": false
   },
   "outputs": [],
   "source": [
    "# Generate marker for unplausible Community Districts\n",
    "# How do these districts look like? \n",
    "# Generally, the boards are identify with a number that doesn't matches the existing ones. This is 80s for Queens,\n",
    "# 50s for Brooklyn, etc. Regular expresions can be used to create de markers for each board\n",
    "\n",
    "markerQueens = data311['Community Board'].str.contains('8[0-9] QUEENS')\n",
    "#80,81,82,83,84\n",
    "markerBrooklyn = data311['Community Board'].str.contains('5[0-9] BROOKLYN')\n",
    "#56\n",
    "markerBronx = data311['Community Board'].str.contains('2[0-9] BRONX')\n",
    "#26,27\n",
    "markerManhattan = data311['Community Board'] == '64 MANHATTAN'\n",
    "markerStaten = data311['Community Board'] == '95 STATEN ISLAND'\n",
    "\n",
    "markerUnsp = data311['Community Board'].str.contains('Unspecified')\n",
    "\n",
    "markerGeneral = (~markerQueens) & (~markerBronx) & (~markerBrooklyn) & (~markerManhattan) & (~markerStaten) & (~markerUnsp)"
   ]
  },
  {
   "cell_type": "code",
   "execution_count": 18,
   "metadata": {
    "collapsed": false
   },
   "outputs": [
    {
     "data": {
      "text/plain": [
       "(8110945, 7)"
      ]
     },
     "execution_count": 18,
     "metadata": {},
     "output_type": "execute_result"
    }
   ],
   "source": [
    "# Drop the marked districts\n",
    "cleanData = data311.loc[markerGeneral,]\n",
    "cleanData.shape"
   ]
  },
  {
   "cell_type": "code",
   "execution_count": 19,
   "metadata": {
    "collapsed": false
   },
   "outputs": [
    {
     "data": {
      "text/html": [
       "<div>\n",
       "<table border=\"1\" class=\"dataframe\">\n",
       "  <thead>\n",
       "    <tr style=\"text-align: right;\">\n",
       "      <th></th>\n",
       "      <th>Unique Key</th>\n",
       "    </tr>\n",
       "    <tr>\n",
       "      <th>Community Board</th>\n",
       "      <th></th>\n",
       "    </tr>\n",
       "  </thead>\n",
       "  <tbody>\n",
       "    <tr>\n",
       "      <th>01 BRONX</th>\n",
       "      <td>74631</td>\n",
       "    </tr>\n",
       "    <tr>\n",
       "      <th>01 BROOKLYN</th>\n",
       "      <td>185057</td>\n",
       "    </tr>\n",
       "    <tr>\n",
       "      <th>01 MANHATTAN</th>\n",
       "      <td>77974</td>\n",
       "    </tr>\n",
       "    <tr>\n",
       "      <th>01 QUEENS</th>\n",
       "      <td>171484</td>\n",
       "    </tr>\n",
       "    <tr>\n",
       "      <th>01 STATEN ISLAND</th>\n",
       "      <td>182713</td>\n",
       "    </tr>\n",
       "  </tbody>\n",
       "</table>\n",
       "</div>"
      ],
      "text/plain": [
       "                  Unique Key\n",
       "Community Board             \n",
       "01 BRONX               74631\n",
       "01 BROOKLYN           185057\n",
       "01 MANHATTAN           77974\n",
       "01 QUEENS             171484\n",
       "01 STATEN ISLAND      182713"
      ]
     },
     "execution_count": 19,
     "metadata": {},
     "output_type": "execute_result"
    }
   ],
   "source": [
    "# Produce your result: Generate an indicator which ranks the Community District by complaint numbers \n",
    "# on the Community district level\n",
    "\n",
    "#total count of complaint is used\n",
    "cleanData[['Unique Key','Community Board']].groupby('Community Board').count().head()"
   ]
  },
  {
   "cell_type": "code",
   "execution_count": 20,
   "metadata": {
    "collapsed": false,
    "scrolled": true
   },
   "outputs": [
    {
     "data": {
      "text/html": [
       "<div>\n",
       "<table border=\"1\" class=\"dataframe\">\n",
       "  <thead>\n",
       "    <tr style=\"text-align: right;\">\n",
       "      <th></th>\n",
       "      <th>Complaints</th>\n",
       "    </tr>\n",
       "    <tr>\n",
       "      <th>Community Board</th>\n",
       "      <th></th>\n",
       "    </tr>\n",
       "  </thead>\n",
       "  <tbody>\n",
       "    <tr>\n",
       "      <th>12 MANHATTAN</th>\n",
       "      <td>268053</td>\n",
       "    </tr>\n",
       "    <tr>\n",
       "      <th>12 QUEENS</th>\n",
       "      <td>229383</td>\n",
       "    </tr>\n",
       "    <tr>\n",
       "      <th>03 BROOKLYN</th>\n",
       "      <td>197306</td>\n",
       "    </tr>\n",
       "    <tr>\n",
       "      <th>07 QUEENS</th>\n",
       "      <td>195961</td>\n",
       "    </tr>\n",
       "    <tr>\n",
       "      <th>17 BROOKLYN</th>\n",
       "      <td>191720</td>\n",
       "    </tr>\n",
       "  </tbody>\n",
       "</table>\n",
       "</div>"
      ],
      "text/plain": [
       "                 Complaints\n",
       "Community Board            \n",
       "12 MANHATTAN         268053\n",
       "12 QUEENS            229383\n",
       "03 BROOKLYN          197306\n",
       "07 QUEENS            195961\n",
       "17 BROOKLYN          191720"
      ]
     },
     "execution_count": 20,
     "metadata": {},
     "output_type": "execute_result"
    }
   ],
   "source": [
    "# Safe reduced data frame (Community District level)\n",
    "compByCommDict = cleanData[['Unique Key','Community Board']].groupby('Community Board').count()\n",
    "compByCommDict.columns = ['Complaints']\n",
    "compByCommDict.sort_values(by = 'Complaints', ascending=False).head()"
   ]
  },
  {
   "cell_type": "markdown",
   "metadata": {},
   "source": [
    "# 4. Think about the interpretation of your results?\n",
    "What do you have to keep in mind when interpreting your results? Are they generable? Does the way the data is collected influence your results? To better inform city agancies it might be good to explore in more detail the underlying dempgraphics/infrastructure of a Community District becasue this might influence 311 calls. You can do this by merging external data on the Community District level to your analysis data. "
   ]
  },
  {
   "cell_type": "code",
   "execution_count": 21,
   "metadata": {
    "collapsed": false
   },
   "outputs": [
    {
     "name": "stdout",
     "output_type": "stream",
     "text": [
      "(59, 158)\n"
     ]
    },
    {
     "data": {
      "text/html": [
       "<div>\n",
       "<table border=\"1\" class=\"dataframe\">\n",
       "  <thead>\n",
       "    <tr style=\"text-align: right;\">\n",
       "      <th></th>\n",
       "      <th>FIPS</th>\n",
       "      <th>cd_id</th>\n",
       "      <th>Total Population</th>\n",
       "      <th>Population Density (per sq. mile)</th>\n",
       "      <th>% Total Population: Male</th>\n",
       "      <th>% Total Population: 18 to 24 Years</th>\n",
       "      <th>% Total Population: 25 to 34 Years</th>\n",
       "      <th>% Total Population: 35 to 44 Years</th>\n",
       "      <th>% Population 5 Years And Over: Speak Only English</th>\n",
       "      <th>% Population 5 Years And Over: Spanish or Spanish Creole</th>\n",
       "      <th>...</th>\n",
       "      <th>Employed Civilian Population 16 Years And Over: Production, transportation, and material moving  occupations: Production occupations</th>\n",
       "      <th>Employed Civilian Population 16 Years And Over: Production, transportation, and material moving  occupations: Transportation and material moving occupations</th>\n",
       "      <th>% Employed Civilian Population 16 Years And Over: Management, professional, and related occupations</th>\n",
       "      <th>% Employed Civilian Population 16 Years And Over: Service occupations</th>\n",
       "      <th>% Employed Civilian Population 16 Years And Over: Sales and office occupations</th>\n",
       "      <th>% Employed Civilian Population 16 Years And Over: Farming, fishing, and forestry occupations</th>\n",
       "      <th>% Employed Civilian Population 16 Years And Over: Construction, extraction, and maintenance  occupations</th>\n",
       "      <th>% Employed Civilian Population 16 Years And Over: Production, transportation, and material moving  occupations</th>\n",
       "      <th>% Employed Civilian Population 16 Years And Over: Production, transportation, and material moving  occupations: Production occupations</th>\n",
       "      <th>% Employed Civilian Population 16 Years And Over: Production, transportation, and material moving  occupations: Transportation and material moving occupations</th>\n",
       "    </tr>\n",
       "  </thead>\n",
       "  <tbody>\n",
       "    <tr>\n",
       "      <th>0</th>\n",
       "      <td>3603701</td>\n",
       "      <td>BX08</td>\n",
       "      <td>106737</td>\n",
       "      <td>31229.95006</td>\n",
       "      <td>46.65</td>\n",
       "      <td>10.73</td>\n",
       "      <td>15.04</td>\n",
       "      <td>11.32</td>\n",
       "      <td>46.80</td>\n",
       "      <td>39.24</td>\n",
       "      <td>...</td>\n",
       "      <td>665</td>\n",
       "      <td>1518</td>\n",
       "      <td>42.66</td>\n",
       "      <td>28.95</td>\n",
       "      <td>20.89</td>\n",
       "      <td>0.24</td>\n",
       "      <td>2.65</td>\n",
       "      <td>4.60</td>\n",
       "      <td>1.40</td>\n",
       "      <td>3.20</td>\n",
       "    </tr>\n",
       "    <tr>\n",
       "      <th>1</th>\n",
       "      <td>3603702</td>\n",
       "      <td>BX12</td>\n",
       "      <td>134644</td>\n",
       "      <td>19966.67839</td>\n",
       "      <td>46.35</td>\n",
       "      <td>11.35</td>\n",
       "      <td>14.29</td>\n",
       "      <td>12.57</td>\n",
       "      <td>73.09</td>\n",
       "      <td>18.19</td>\n",
       "      <td>...</td>\n",
       "      <td>1156</td>\n",
       "      <td>4174</td>\n",
       "      <td>29.57</td>\n",
       "      <td>33.98</td>\n",
       "      <td>20.40</td>\n",
       "      <td>0.00</td>\n",
       "      <td>7.08</td>\n",
       "      <td>8.97</td>\n",
       "      <td>1.95</td>\n",
       "      <td>7.02</td>\n",
       "    </tr>\n",
       "    <tr>\n",
       "      <th>2</th>\n",
       "      <td>3603703</td>\n",
       "      <td>BX10</td>\n",
       "      <td>121209</td>\n",
       "      <td>12913.81703</td>\n",
       "      <td>45.20</td>\n",
       "      <td>8.62</td>\n",
       "      <td>13.74</td>\n",
       "      <td>12.78</td>\n",
       "      <td>61.79</td>\n",
       "      <td>26.43</td>\n",
       "      <td>...</td>\n",
       "      <td>941</td>\n",
       "      <td>3433</td>\n",
       "      <td>36.20</td>\n",
       "      <td>22.85</td>\n",
       "      <td>25.09</td>\n",
       "      <td>0.00</td>\n",
       "      <td>7.68</td>\n",
       "      <td>8.18</td>\n",
       "      <td>1.76</td>\n",
       "      <td>6.42</td>\n",
       "    </tr>\n",
       "    <tr>\n",
       "      <th>3</th>\n",
       "      <td>3603704</td>\n",
       "      <td>BX11</td>\n",
       "      <td>135839</td>\n",
       "      <td>35677.95453</td>\n",
       "      <td>50.09</td>\n",
       "      <td>8.10</td>\n",
       "      <td>17.43</td>\n",
       "      <td>14.09</td>\n",
       "      <td>43.22</td>\n",
       "      <td>36.45</td>\n",
       "      <td>...</td>\n",
       "      <td>2189</td>\n",
       "      <td>5592</td>\n",
       "      <td>30.06</td>\n",
       "      <td>27.86</td>\n",
       "      <td>22.24</td>\n",
       "      <td>0.00</td>\n",
       "      <td>7.03</td>\n",
       "      <td>12.81</td>\n",
       "      <td>3.60</td>\n",
       "      <td>9.20</td>\n",
       "    </tr>\n",
       "    <tr>\n",
       "      <th>4</th>\n",
       "      <td>3603705</td>\n",
       "      <td>BX03</td>\n",
       "      <td>172247</td>\n",
       "      <td>39405.79222</td>\n",
       "      <td>44.72</td>\n",
       "      <td>14.24</td>\n",
       "      <td>14.89</td>\n",
       "      <td>12.38</td>\n",
       "      <td>36.82</td>\n",
       "      <td>54.24</td>\n",
       "      <td>...</td>\n",
       "      <td>1437</td>\n",
       "      <td>5436</td>\n",
       "      <td>16.80</td>\n",
       "      <td>41.00</td>\n",
       "      <td>22.29</td>\n",
       "      <td>0.03</td>\n",
       "      <td>8.45</td>\n",
       "      <td>11.43</td>\n",
       "      <td>2.39</td>\n",
       "      <td>9.04</td>\n",
       "    </tr>\n",
       "  </tbody>\n",
       "</table>\n",
       "<p>5 rows × 158 columns</p>\n",
       "</div>"
      ],
      "text/plain": [
       "      FIPS cd_id  Total Population  Population Density (per sq. mile)  \\\n",
       "0  3603701  BX08            106737                        31229.95006   \n",
       "1  3603702  BX12            134644                        19966.67839   \n",
       "2  3603703  BX10            121209                        12913.81703   \n",
       "3  3603704  BX11            135839                        35677.95453   \n",
       "4  3603705  BX03            172247                        39405.79222   \n",
       "\n",
       "   % Total Population: Male  % Total Population: 18 to 24 Years  \\\n",
       "0                     46.65                               10.73   \n",
       "1                     46.35                               11.35   \n",
       "2                     45.20                                8.62   \n",
       "3                     50.09                                8.10   \n",
       "4                     44.72                               14.24   \n",
       "\n",
       "   % Total Population: 25 to 34 Years  % Total Population: 35 to 44 Years  \\\n",
       "0                               15.04                               11.32   \n",
       "1                               14.29                               12.57   \n",
       "2                               13.74                               12.78   \n",
       "3                               17.43                               14.09   \n",
       "4                               14.89                               12.38   \n",
       "\n",
       "   % Population 5 Years And Over: Speak Only English  \\\n",
       "0                                              46.80   \n",
       "1                                              73.09   \n",
       "2                                              61.79   \n",
       "3                                              43.22   \n",
       "4                                              36.82   \n",
       "\n",
       "   % Population 5 Years And Over: Spanish or Spanish Creole  \\\n",
       "0                                              39.24          \n",
       "1                                              18.19          \n",
       "2                                              26.43          \n",
       "3                                              36.45          \n",
       "4                                              54.24          \n",
       "\n",
       "                                                                                ...                                                                                \\\n",
       "0                                                                               ...                                                                                 \n",
       "1                                                                               ...                                                                                 \n",
       "2                                                                               ...                                                                                 \n",
       "3                                                                               ...                                                                                 \n",
       "4                                                                               ...                                                                                 \n",
       "\n",
       "   Employed Civilian Population 16 Years And Over: Production, transportation, and material moving  occupations: Production occupations  \\\n",
       "0                                                665                                                                                      \n",
       "1                                               1156                                                                                      \n",
       "2                                                941                                                                                      \n",
       "3                                               2189                                                                                      \n",
       "4                                               1437                                                                                      \n",
       "\n",
       "   Employed Civilian Population 16 Years And Over: Production, transportation, and material moving  occupations: Transportation and material moving occupations  \\\n",
       "0                                               1518                                                                                                              \n",
       "1                                               4174                                                                                                              \n",
       "2                                               3433                                                                                                              \n",
       "3                                               5592                                                                                                              \n",
       "4                                               5436                                                                                                              \n",
       "\n",
       "   % Employed Civilian Population 16 Years And Over: Management, professional, and related occupations  \\\n",
       "0                                              42.66                                                     \n",
       "1                                              29.57                                                     \n",
       "2                                              36.20                                                     \n",
       "3                                              30.06                                                     \n",
       "4                                              16.80                                                     \n",
       "\n",
       "   % Employed Civilian Population 16 Years And Over: Service occupations  \\\n",
       "0                                              28.95                       \n",
       "1                                              33.98                       \n",
       "2                                              22.85                       \n",
       "3                                              27.86                       \n",
       "4                                              41.00                       \n",
       "\n",
       "   % Employed Civilian Population 16 Years And Over: Sales and office occupations  \\\n",
       "0                                              20.89                                \n",
       "1                                              20.40                                \n",
       "2                                              25.09                                \n",
       "3                                              22.24                                \n",
       "4                                              22.29                                \n",
       "\n",
       "   % Employed Civilian Population 16 Years And Over: Farming, fishing, and forestry occupations  \\\n",
       "0                                               0.24                                              \n",
       "1                                               0.00                                              \n",
       "2                                               0.00                                              \n",
       "3                                               0.00                                              \n",
       "4                                               0.03                                              \n",
       "\n",
       "   % Employed Civilian Population 16 Years And Over: Construction, extraction, and maintenance  occupations  \\\n",
       "0                                               2.65                                                          \n",
       "1                                               7.08                                                          \n",
       "2                                               7.68                                                          \n",
       "3                                               7.03                                                          \n",
       "4                                               8.45                                                          \n",
       "\n",
       "   % Employed Civilian Population 16 Years And Over: Production, transportation, and material moving  occupations  \\\n",
       "0                                               4.60                                                                \n",
       "1                                               8.97                                                                \n",
       "2                                               8.18                                                                \n",
       "3                                              12.81                                                                \n",
       "4                                              11.43                                                                \n",
       "\n",
       "   % Employed Civilian Population 16 Years And Over: Production, transportation, and material moving  occupations: Production occupations  \\\n",
       "0                                               1.40                                                                                        \n",
       "1                                               1.95                                                                                        \n",
       "2                                               1.76                                                                                        \n",
       "3                                               3.60                                                                                        \n",
       "4                                               2.39                                                                                        \n",
       "\n",
       "   % Employed Civilian Population 16 Years And Over: Production, transportation, and material moving  occupations: Transportation and material moving occupations  \n",
       "0                                               3.20                                                                                                               \n",
       "1                                               7.02                                                                                                               \n",
       "2                                               6.42                                                                                                               \n",
       "3                                               9.20                                                                                                               \n",
       "4                                               9.04                                                                                                               \n",
       "\n",
       "[5 rows x 158 columns]"
      ]
     },
     "execution_count": 21,
     "metadata": {},
     "output_type": "execute_result"
    }
   ],
   "source": [
    "# Population by Community District\n",
    "#df_pop = pd.read_csv(PUIdata + \"/Final_Demographics.csv\")\n",
    "df_pop = pd.read_csv('http://cosmo.nyu.edu/~fb55/PUI2016/data/Final_Demographics.csv')\n",
    "print df_pop.shape\n",
    "df_pop.head()"
   ]
  },
  {
   "cell_type": "code",
   "execution_count": 22,
   "metadata": {
    "collapsed": false
   },
   "outputs": [
    {
     "data": {
      "text/plain": [
       "['FIPS',\n",
       " 'cd_id',\n",
       " 'Total Population',\n",
       " 'Population Density (per sq. mile)',\n",
       " '% Total Population: Male',\n",
       " '% Total Population: 18 to 24 Years',\n",
       " '% Total Population: 25 to 34 Years',\n",
       " '% Total Population: 35 to 44 Years',\n",
       " '% Population 5 Years And Over: Speak Only English',\n",
       " '% Population 5 Years And Over: Spanish or Spanish Creole',\n",
       " '% Population 5 Years And Over: Spanish or Spanish Creole: Speak English \"very Well\"',\n",
       " '% Population 5 Years And Over: Spanish or Spanish Creole: Speak English Less Than \"very Well\"',\n",
       " 'Population 25 Years and over:',\n",
       " 'Population 25 Years and over: Less Than High School',\n",
       " 'Population 25 Years and over: High School Graduate (includes equivalency)',\n",
       " 'Population 25 Years and over: Some college',\n",
       " \"Population 25 Years and over: Bachelor's degree\",\n",
       " \"Population 25 Years and over: Master's degree\",\n",
       " 'Population 25 Years and over: Professional school degree',\n",
       " 'Population 25 Years and over: Doctorate degree',\n",
       " '% Population 25 Years and over: Less Than High School',\n",
       " '% Population 25 Years and over: High School Graduate (includes equivalency)',\n",
       " '% Population 25 Years and over: Some college',\n",
       " \"% Population 25 Years and over: Bachelor's degree\",\n",
       " \"% Population 25 Years and over: Master's degree\",\n",
       " '% Population 25 Years and over: Professional school degree',\n",
       " '% Population 25 Years and over: Doctorate degree',\n",
       " 'Population 25 Years and over:.1',\n",
       " 'Population 25 Years and over: Less Than High School.1',\n",
       " 'Population 25 Years and over: High School Graduate or more (includes equivalency)',\n",
       " 'Population 25 Years and over: Some college or more',\n",
       " \"Population 25 Years and over: Bachelor's degree or more\",\n",
       " \"Population 25 Years and over: Master's degree or more\",\n",
       " 'Population 25 Years and over: Professional school degree or more',\n",
       " 'Population 25 Years and over: Doctorate degree.1',\n",
       " '% Population 25 Years and over: Less Than High School.1',\n",
       " '% Population 25 Years and over: High School Graduate or more (includes equivalency)',\n",
       " '% Population 25 Years and over: Some college or more',\n",
       " \"% Population 25 Years and over: Bachelor's degree or more\",\n",
       " \"% Population 25 Years and over: Master's degree or more\",\n",
       " '% Population 25 Years and over: Professional school degree or more',\n",
       " '% Population 25 Years and over: Doctorate degree.1',\n",
       " 'Population 3 Years and over:',\n",
       " 'Population 3 Years and over: Enrolled in School',\n",
       " 'Population 3 Years and over: Not Enrolled in School',\n",
       " '% Population 3 Years and over: Enrolled in School',\n",
       " '% Population 3 Years and over: Not Enrolled in School',\n",
       " 'Population 3 Years and over Enrolled In School',\n",
       " 'Population 3 Years and over Enrolled In School: Public School',\n",
       " 'Population 3 Years and over Enrolled In School: Public School: Pre-school',\n",
       " 'Population 3 Years and over Enrolled In School: Public School: K-8',\n",
       " 'Population 3 Years and over Enrolled In School: Public School: 9-12',\n",
       " 'Population 3 Years and over Enrolled In School: Public School: College',\n",
       " 'Population 3 Years and over Enrolled In School: Private School',\n",
       " 'Population 3 Years and over Enrolled In School: Private School: Pre-school',\n",
       " 'Population 3 Years and over Enrolled In School: Private School: K-8',\n",
       " 'Population 3 Years and over Enrolled In School: Private School: 9-12',\n",
       " 'Population 3 Years and over Enrolled In School: Private School: College',\n",
       " '% Population 3 Years and over Enrolled In School: Public School',\n",
       " '% Population 3 Years and over Enrolled In School: Public School: Pre-school',\n",
       " '% Population 3 Years and over Enrolled In School: Public School: K-8',\n",
       " '% Population 3 Years and over Enrolled In School: Public School: 9-12',\n",
       " '% Population 3 Years and over Enrolled In School: Public School: College',\n",
       " '% Population 3 Years and over Enrolled In School: Private School',\n",
       " '% Population 3 Years and over Enrolled In School: Private School: Pre-school',\n",
       " '% Population 3 Years and over Enrolled In School: Private School: K-8',\n",
       " '% Population 3 Years and over Enrolled In School: Private School: 9-12',\n",
       " '% Population 3 Years and over Enrolled In School: Private School: College',\n",
       " 'Employed civilian Population 16 Years and over:',\n",
       " 'Employed civilian Population 16 Years and over: Management, business, and financial operations  occupations',\n",
       " 'Employed civilian Population 16 Years and over: Professional and related occupations',\n",
       " 'Employed civilian Population 16 Years and over: Healthcare support occupations',\n",
       " 'Employed civilian Population 16 Years and over: Protective service occupations',\n",
       " 'Employed civilian Population 16 Years and over: Food preparation and serving related occupations',\n",
       " 'Employed civilian Population 16 Years and over: Building and grounds cleaning and maintenance  occupations',\n",
       " 'Employed civilian Population 16 Years and over: Personal care and service occupations',\n",
       " 'Employed civilian Population 16 Years and over: Sales and related occupations',\n",
       " 'Employed civilian Population 16 Years and over: Office and administrative support occupations',\n",
       " 'Employed civilian Population 16 Years and over: Farming, fishing, and forestry occupations',\n",
       " 'Employed civilian Population 16 Years and over: Construction, extraction, and maintenance  occupations',\n",
       " 'Employed civilian Population 16 Years and over: Production occupations',\n",
       " 'Employed civilian Population 16 Years and over: Transportation and material moving occupations',\n",
       " '% Employed civilian Population 16 Years and over: Management, business, and financial operations  occupations',\n",
       " '% Employed civilian Population 16 Years and over: Professional and related occupations',\n",
       " '% Employed civilian Population 16 Years and over: Healthcare support occupations',\n",
       " '% Employed civilian Population 16 Years and over: Protective service occupations',\n",
       " '% Employed civilian Population 16 Years and over: Food preparation and serving related occupations',\n",
       " '% Employed civilian Population 16 Years and over: Building and grounds cleaning and maintenance  occupations',\n",
       " '% Employed civilian Population 16 Years and over: Personal care and service occupations',\n",
       " '% Employed civilian Population 16 Years and over: Sales and related occupations',\n",
       " '% Employed civilian Population 16 Years and over: Office and administrative support occupations',\n",
       " '% Employed civilian Population 16 Years and over: Farming, fishing, and forestry occupations',\n",
       " '% Employed civilian Population 16 Years and over: Construction, extraction, and maintenance  occupations',\n",
       " '% Employed civilian Population 16 Years and over: Production occupations',\n",
       " '% Employed civilian Population 16 Years and over: Transportation and material moving occupations',\n",
       " 'Employed Civilian Population 16 Years And Over:',\n",
       " 'Employed Civilian Population 16 Years And Over: Private Sector',\n",
       " 'Employed Civilian Population 16 Years And Over: Public Sector',\n",
       " 'Employed Civilian Population 16 Years And Over: Self-Employed (incorporated and not incorporated)',\n",
       " 'Employed Civilian Population 16 Years And Over: Private Non-Profit',\n",
       " 'Employed Civilian Population 16 Years And Over: Unpaid Family Workers',\n",
       " '% Employed Civilian Population 16 Years And Over: Private Sector',\n",
       " '% Employed Civilian Population 16 Years And Over: Public Sector',\n",
       " '% Employed Civilian Population 16 Years And Over: Self-Employed (incorporated and not incorporated)',\n",
       " '% Employed Civilian Population 16 Years And Over: Private Non-Profit',\n",
       " '% Employed Civilian Population 16 Years And Over: Unpaid Family Workers',\n",
       " 'Households:',\n",
       " 'Households: Less than $10,000',\n",
       " 'Households: $10,000 to $14,999',\n",
       " 'Households: $15,000 to $19,999',\n",
       " 'Households: $20,000 to $24,999',\n",
       " 'Households: $25,000 to $29,999',\n",
       " 'Households: $30,000 to $34,999',\n",
       " 'Households: $35,000 to $39,999',\n",
       " 'Households: $40,000 to $44,999',\n",
       " 'Households: $45,000 to $49,999',\n",
       " 'Households: $50,000 to $59,999',\n",
       " 'Households: $60,000 to $74,999',\n",
       " 'Households: $75,000 to $99,999',\n",
       " 'Households: $100,000 to $124,999',\n",
       " 'Households: $125,000 to $149,999',\n",
       " 'Households: $150,000 to $199,999',\n",
       " 'Households: $200,000 or More',\n",
       " '% Households: Less than $10,000',\n",
       " '% Households: $10,000 to $14,999',\n",
       " '% Households: $15,000 to $19,999',\n",
       " '% Households: $20,000 to $24,999',\n",
       " '% Households: $25,000 to $29,999',\n",
       " '% Households: $30,000 to $34,999',\n",
       " '% Households: $35,000 to $39,999',\n",
       " '% Households: $40,000 to $44,999',\n",
       " '% Households: $45,000 to $49,999',\n",
       " '% Households: $50,000 to $59,999',\n",
       " '% Households: $60,000 to $74,999',\n",
       " '% Households: $75,000 to $99,999',\n",
       " '% Households: $100,000 to $124,999',\n",
       " '% Households: $125,000 to $149,999',\n",
       " '% Households: $150,000 to $199,999',\n",
       " '% Households: $200,000 or More',\n",
       " 'Median household income (In 2014 Inflation Adjusted Dollars)',\n",
       " 'Per capita income (In 2014 Inflation Adjusted Dollars)',\n",
       " 'Employed Civilian Population 16 Years And Over:.1',\n",
       " 'Employed Civilian Population 16 Years And Over: Management, professional, and related occupations',\n",
       " 'Employed Civilian Population 16 Years And Over: Service occupations',\n",
       " 'Employed Civilian Population 16 Years And Over: Sales and office occupations',\n",
       " 'Employed Civilian Population 16 Years And Over: Farming, fishing, and forestry occupations',\n",
       " 'Employed Civilian Population 16 Years And Over: Construction, extraction, and maintenance  occupations',\n",
       " 'Employed Civilian Population 16 Years And Over: Production, transportation, and material moving  occupations',\n",
       " 'Employed Civilian Population 16 Years And Over: Production, transportation, and material moving  occupations: Production occupations',\n",
       " 'Employed Civilian Population 16 Years And Over: Production, transportation, and material moving  occupations: Transportation and material moving occupations',\n",
       " '% Employed Civilian Population 16 Years And Over: Management, professional, and related occupations',\n",
       " '% Employed Civilian Population 16 Years And Over: Service occupations',\n",
       " '% Employed Civilian Population 16 Years And Over: Sales and office occupations',\n",
       " '% Employed Civilian Population 16 Years And Over: Farming, fishing, and forestry occupations',\n",
       " '% Employed Civilian Population 16 Years And Over: Construction, extraction, and maintenance  occupations',\n",
       " '% Employed Civilian Population 16 Years And Over: Production, transportation, and material moving  occupations',\n",
       " '% Employed Civilian Population 16 Years And Over: Production, transportation, and material moving  occupations: Production occupations',\n",
       " '% Employed Civilian Population 16 Years And Over: Production, transportation, and material moving  occupations: Transportation and material moving occupations']"
      ]
     },
     "execution_count": 22,
     "metadata": {},
     "output_type": "execute_result"
    }
   ],
   "source": [
    "# Check variables in file\n",
    "list(df_pop.columns)"
   ]
  },
  {
   "cell_type": "code",
   "execution_count": 23,
   "metadata": {
    "collapsed": false
   },
   "outputs": [
    {
     "data": {
      "text/plain": [
       "59"
      ]
     },
     "execution_count": 23,
     "metadata": {},
     "output_type": "execute_result"
    }
   ],
   "source": [
    "# How many community districts are in file? \n",
    "len(df_pop.cd_id.value_counts())"
   ]
  },
  {
   "cell_type": "code",
   "execution_count": 24,
   "metadata": {
    "collapsed": true
   },
   "outputs": [],
   "source": [
    "# Manipulate data to get some information on demographics by Community District. \n",
    "# Think about who might be more likely to call 311\n"
   ]
  },
  {
   "cell_type": "code",
   "execution_count": 25,
   "metadata": {
    "collapsed": false
   },
   "outputs": [],
   "source": [
    "def changeCD(string):\n",
    "    '''\n",
    "    This function takes a string of 4 characters for each community district\n",
    "    and returns the community distric in a format compatible with 311 dataset\n",
    "    And exception is made with Manhattan 11 district\n",
    "    '''\n",
    "    borosDic = {'BK':'BROOKLYN', 'BX':'BRONX','MN':'MANHATTAN','QN':'QUEENS','SI':'STATEN ISLAND'}\n",
    "    boro = string[:2]\n",
    "    suffix =  string[2:]\n",
    "    if len(suffix) > 2:\n",
    "        suffix = suffix[:2]\n",
    "    newID = '%s %s' %(suffix,borosDic[boro]) \n",
    "    return newID"
   ]
  },
  {
   "cell_type": "code",
   "execution_count": 26,
   "metadata": {
    "collapsed": false
   },
   "outputs": [],
   "source": [
    "df_pop['Community Board'] = map(changeCD,df_pop.cd_id)\n"
   ]
  },
  {
   "cell_type": "code",
   "execution_count": 27,
   "metadata": {
    "collapsed": false
   },
   "outputs": [
    {
     "data": {
      "text/html": [
       "<div>\n",
       "<table border=\"1\" class=\"dataframe\">\n",
       "  <thead>\n",
       "    <tr style=\"text-align: right;\">\n",
       "      <th></th>\n",
       "      <th>commBoard</th>\n",
       "      <th>FIPS</th>\n",
       "      <th>educColMore</th>\n",
       "    </tr>\n",
       "  </thead>\n",
       "  <tbody>\n",
       "    <tr>\n",
       "      <th>0</th>\n",
       "      <td>08 BRONX</td>\n",
       "      <td>3603701</td>\n",
       "      <td>63.82</td>\n",
       "    </tr>\n",
       "    <tr>\n",
       "      <th>1</th>\n",
       "      <td>12 BRONX</td>\n",
       "      <td>3603702</td>\n",
       "      <td>48.97</td>\n",
       "    </tr>\n",
       "    <tr>\n",
       "      <th>2</th>\n",
       "      <td>10 BRONX</td>\n",
       "      <td>3603703</td>\n",
       "      <td>52.74</td>\n",
       "    </tr>\n",
       "    <tr>\n",
       "      <th>3</th>\n",
       "      <td>11 BRONX</td>\n",
       "      <td>3603704</td>\n",
       "      <td>49.08</td>\n",
       "    </tr>\n",
       "    <tr>\n",
       "      <th>4</th>\n",
       "      <td>03 BRONX</td>\n",
       "      <td>3603705</td>\n",
       "      <td>35.49</td>\n",
       "    </tr>\n",
       "  </tbody>\n",
       "</table>\n",
       "</div>"
      ],
      "text/plain": [
       "  commBoard     FIPS  educColMore\n",
       "0  08 BRONX  3603701        63.82\n",
       "1  12 BRONX  3603702        48.97\n",
       "2  10 BRONX  3603703        52.74\n",
       "3  11 BRONX  3603704        49.08\n",
       "4  03 BRONX  3603705        35.49"
      ]
     },
     "execution_count": 27,
     "metadata": {},
     "output_type": "execute_result"
    }
   ],
   "source": [
    "# Save data frame\n",
    "cdPop = df_pop.loc[:,['Community Board','FIPS','% Population 25 Years and over: Some college or more']].copy()\n",
    "cdPop.columns = ['commBoard','FIPS','educColMore']\n",
    "cdPop.head()\n"
   ]
  },
  {
   "cell_type": "code",
   "execution_count": 28,
   "metadata": {
    "collapsed": false
   },
   "outputs": [
    {
     "name": "stdout",
     "output_type": "stream",
     "text": [
      "(59, 31)\n"
     ]
    },
    {
     "data": {
      "text/html": [
       "<div>\n",
       "<table border=\"1\" class=\"dataframe\">\n",
       "  <thead>\n",
       "    <tr style=\"text-align: right;\">\n",
       "      <th></th>\n",
       "      <th>FIPS</th>\n",
       "      <th>Geographic Identifier</th>\n",
       "      <th>Qualifying Name</th>\n",
       "      <th>Households</th>\n",
       "      <th>Households: With An Internet Subscription</th>\n",
       "      <th>Households: Dial-Up Alone</th>\n",
       "      <th>Households: Dsl</th>\n",
       "      <th>Households: With Mobile Broadband</th>\n",
       "      <th>Households: Without Mobile Broadband</th>\n",
       "      <th>Households: Cable Modem</th>\n",
       "      <th>...</th>\n",
       "      <th>Households: Mobile Broadband Alone or With Dialup</th>\n",
       "      <th>Households: Internet Access Without A Subscription</th>\n",
       "      <th>Households: No Internet Access</th>\n",
       "      <th>% Households: With An Internet Subscription</th>\n",
       "      <th>Households.1</th>\n",
       "      <th>Households: Has A Computer</th>\n",
       "      <th>Households: With Dial-Up Internet Subscription Alone</th>\n",
       "      <th>Households: With A Broadband Internet Subscription</th>\n",
       "      <th>Households: Without An Internet Subscription</th>\n",
       "      <th>Households: No Computer</th>\n",
       "    </tr>\n",
       "  </thead>\n",
       "  <tbody>\n",
       "    <tr>\n",
       "      <th>0</th>\n",
       "      <td>3603701</td>\n",
       "      <td>79500US3603701</td>\n",
       "      <td>NYC-Bronx Community District 8--Riverdale, New...</td>\n",
       "      <td>42035</td>\n",
       "      <td>31795</td>\n",
       "      <td>444</td>\n",
       "      <td>2813</td>\n",
       "      <td>946</td>\n",
       "      <td>1867</td>\n",
       "      <td>19178</td>\n",
       "      <td>...</td>\n",
       "      <td>2168</td>\n",
       "      <td>2119</td>\n",
       "      <td>8121</td>\n",
       "      <td>75.64</td>\n",
       "      <td>42035</td>\n",
       "      <td>35048</td>\n",
       "      <td>404</td>\n",
       "      <td>30943</td>\n",
       "      <td>3701</td>\n",
       "      <td>6987</td>\n",
       "    </tr>\n",
       "    <tr>\n",
       "      <th>1</th>\n",
       "      <td>3603702</td>\n",
       "      <td>79500US3603702</td>\n",
       "      <td>NYC-Bronx Community District 12--Wakefield, Ne...</td>\n",
       "      <td>44830</td>\n",
       "      <td>32243</td>\n",
       "      <td>178</td>\n",
       "      <td>849</td>\n",
       "      <td>405</td>\n",
       "      <td>444</td>\n",
       "      <td>18653</td>\n",
       "      <td>...</td>\n",
       "      <td>928</td>\n",
       "      <td>1891</td>\n",
       "      <td>10696</td>\n",
       "      <td>71.92</td>\n",
       "      <td>44830</td>\n",
       "      <td>36700</td>\n",
       "      <td>178</td>\n",
       "      <td>31435</td>\n",
       "      <td>5087</td>\n",
       "      <td>8130</td>\n",
       "    </tr>\n",
       "    <tr>\n",
       "      <th>2</th>\n",
       "      <td>3603703</td>\n",
       "      <td>79500US3603703</td>\n",
       "      <td>NYC-Bronx Community District 10--Co-op City, N...</td>\n",
       "      <td>47050</td>\n",
       "      <td>32729</td>\n",
       "      <td>158</td>\n",
       "      <td>1863</td>\n",
       "      <td>398</td>\n",
       "      <td>1465</td>\n",
       "      <td>20044</td>\n",
       "      <td>...</td>\n",
       "      <td>639</td>\n",
       "      <td>2882</td>\n",
       "      <td>11439</td>\n",
       "      <td>69.56</td>\n",
       "      <td>47050</td>\n",
       "      <td>38700</td>\n",
       "      <td>158</td>\n",
       "      <td>32333</td>\n",
       "      <td>6209</td>\n",
       "      <td>8350</td>\n",
       "    </tr>\n",
       "    <tr>\n",
       "      <th>3</th>\n",
       "      <td>3603704</td>\n",
       "      <td>79500US3603704</td>\n",
       "      <td>NYC-Bronx Community District 11--Pelham Parkwa...</td>\n",
       "      <td>44922</td>\n",
       "      <td>32003</td>\n",
       "      <td>141</td>\n",
       "      <td>1478</td>\n",
       "      <td>474</td>\n",
       "      <td>1004</td>\n",
       "      <td>17917</td>\n",
       "      <td>...</td>\n",
       "      <td>1001</td>\n",
       "      <td>2722</td>\n",
       "      <td>10197</td>\n",
       "      <td>71.24</td>\n",
       "      <td>44922</td>\n",
       "      <td>37237</td>\n",
       "      <td>122</td>\n",
       "      <td>31278</td>\n",
       "      <td>5837</td>\n",
       "      <td>7685</td>\n",
       "    </tr>\n",
       "    <tr>\n",
       "      <th>4</th>\n",
       "      <td>3603705</td>\n",
       "      <td>79500US3603705</td>\n",
       "      <td>NYC-Bronx Community District 3 &amp; 6--Belmont, N...</td>\n",
       "      <td>57556</td>\n",
       "      <td>35503</td>\n",
       "      <td>88</td>\n",
       "      <td>1297</td>\n",
       "      <td>651</td>\n",
       "      <td>646</td>\n",
       "      <td>15847</td>\n",
       "      <td>...</td>\n",
       "      <td>1385</td>\n",
       "      <td>3312</td>\n",
       "      <td>18741</td>\n",
       "      <td>61.68</td>\n",
       "      <td>57556</td>\n",
       "      <td>42576</td>\n",
       "      <td>88</td>\n",
       "      <td>33408</td>\n",
       "      <td>9080</td>\n",
       "      <td>14980</td>\n",
       "    </tr>\n",
       "  </tbody>\n",
       "</table>\n",
       "<p>5 rows × 31 columns</p>\n",
       "</div>"
      ],
      "text/plain": [
       "      FIPS Geographic Identifier  \\\n",
       "0  3603701        79500US3603701   \n",
       "1  3603702        79500US3603702   \n",
       "2  3603703        79500US3603703   \n",
       "3  3603704        79500US3603704   \n",
       "4  3603705        79500US3603705   \n",
       "\n",
       "                                     Qualifying Name  Households  \\\n",
       "0  NYC-Bronx Community District 8--Riverdale, New...       42035   \n",
       "1  NYC-Bronx Community District 12--Wakefield, Ne...       44830   \n",
       "2  NYC-Bronx Community District 10--Co-op City, N...       47050   \n",
       "3  NYC-Bronx Community District 11--Pelham Parkwa...       44922   \n",
       "4  NYC-Bronx Community District 3 & 6--Belmont, N...       57556   \n",
       "\n",
       "   Households: With An Internet Subscription  Households: Dial-Up Alone  \\\n",
       "0                                      31795                        444   \n",
       "1                                      32243                        178   \n",
       "2                                      32729                        158   \n",
       "3                                      32003                        141   \n",
       "4                                      35503                         88   \n",
       "\n",
       "   Households: Dsl  Households: With Mobile Broadband  \\\n",
       "0             2813                                946   \n",
       "1              849                                405   \n",
       "2             1863                                398   \n",
       "3             1478                                474   \n",
       "4             1297                                651   \n",
       "\n",
       "   Households: Without Mobile Broadband  Households: Cable Modem  \\\n",
       "0                                  1867                    19178   \n",
       "1                                   444                    18653   \n",
       "2                                  1465                    20044   \n",
       "3                                  1004                    17917   \n",
       "4                                   646                    15847   \n",
       "\n",
       "            ...             Households: Mobile Broadband Alone or With Dialup  \\\n",
       "0           ...                                                          2168   \n",
       "1           ...                                                           928   \n",
       "2           ...                                                           639   \n",
       "3           ...                                                          1001   \n",
       "4           ...                                                          1385   \n",
       "\n",
       "   Households: Internet Access Without A Subscription  \\\n",
       "0                                               2119    \n",
       "1                                               1891    \n",
       "2                                               2882    \n",
       "3                                               2722    \n",
       "4                                               3312    \n",
       "\n",
       "   Households: No Internet Access  \\\n",
       "0                            8121   \n",
       "1                           10696   \n",
       "2                           11439   \n",
       "3                           10197   \n",
       "4                           18741   \n",
       "\n",
       "   % Households: With An Internet Subscription  Households.1  \\\n",
       "0                                        75.64         42035   \n",
       "1                                        71.92         44830   \n",
       "2                                        69.56         47050   \n",
       "3                                        71.24         44922   \n",
       "4                                        61.68         57556   \n",
       "\n",
       "   Households: Has A Computer  \\\n",
       "0                       35048   \n",
       "1                       36700   \n",
       "2                       38700   \n",
       "3                       37237   \n",
       "4                       42576   \n",
       "\n",
       "   Households: With Dial-Up Internet Subscription Alone  \\\n",
       "0                                                404      \n",
       "1                                                178      \n",
       "2                                                158      \n",
       "3                                                122      \n",
       "4                                                 88      \n",
       "\n",
       "   Households: With A Broadband Internet Subscription  \\\n",
       "0                                              30943    \n",
       "1                                              31435    \n",
       "2                                              32333    \n",
       "3                                              31278    \n",
       "4                                              33408    \n",
       "\n",
       "   Households: Without An Internet Subscription  Households: No Computer  \n",
       "0                                          3701                     6987  \n",
       "1                                          5087                     8130  \n",
       "2                                          6209                     8350  \n",
       "3                                          5837                     7685  \n",
       "4                                          9080                    14980  \n",
       "\n",
       "[5 rows x 31 columns]"
      ]
     },
     "execution_count": 28,
     "metadata": {},
     "output_type": "execute_result"
    }
   ],
   "source": [
    "# Infrastructure by Community District\n",
    "df_infr = pd.read_csv(\"http://cosmo.nyu.edu/~fb55/PUI2016/data/ACS_Computer_Use_and_Internet_2014_1Year_Estimate.csv\")\n",
    "print df_infr.shape\n",
    "df_infr.head()"
   ]
  },
  {
   "cell_type": "code",
   "execution_count": 29,
   "metadata": {
    "collapsed": false
   },
   "outputs": [
    {
     "data": {
      "text/plain": [
       "['FIPS',\n",
       " 'Geographic Identifier',\n",
       " 'Qualifying Name',\n",
       " 'Households',\n",
       " 'Households: With An Internet Subscription',\n",
       " 'Households: Dial-Up Alone',\n",
       " 'Households: Dsl',\n",
       " 'Households: With Mobile Broadband',\n",
       " 'Households: Without Mobile Broadband',\n",
       " 'Households: Cable Modem',\n",
       " 'Households: With Mobile Broadband.1',\n",
       " 'Households: Without Mobile Broadband.1',\n",
       " 'Households: Fiber-Optic',\n",
       " 'Households: With Mobile Broadband.2',\n",
       " 'Households: Without Mobile Broadband.2',\n",
       " 'Households: Satellite Internet Service',\n",
       " 'Households: With Mobile Broadband.3',\n",
       " 'Households: Without Mobile Broadband.3',\n",
       " 'Households: Two or More Fixed Broadband Types, or Other',\n",
       " 'Households: With Mobile Broadband.4',\n",
       " 'Households: Without Mobile Broadband.4',\n",
       " 'Households: Mobile Broadband Alone or With Dialup',\n",
       " 'Households: Internet Access Without A Subscription',\n",
       " 'Households: No Internet Access',\n",
       " '% Households: With An Internet Subscription',\n",
       " 'Households.1',\n",
       " 'Households: Has A Computer',\n",
       " 'Households: With Dial-Up Internet Subscription Alone',\n",
       " 'Households: With A Broadband Internet Subscription',\n",
       " 'Households: Without An Internet Subscription',\n",
       " 'Households: No Computer']"
      ]
     },
     "execution_count": 29,
     "metadata": {},
     "output_type": "execute_result"
    }
   ],
   "source": [
    "# Check variables in file\n",
    "list(df_infr.columns)"
   ]
  },
  {
   "cell_type": "code",
   "execution_count": 30,
   "metadata": {
    "collapsed": false
   },
   "outputs": [
    {
     "name": "stdout",
     "output_type": "stream",
     "text": [
      "Unique CD\n",
      "55\n",
      "55\n",
      "Duplicated CD\n",
      "4\n",
      "4\n",
      "5     NYC-Bronx Community District 3 & 6--Belmont, N...\n",
      "11    NYC-Bronx Community District 1 & 2--Hunts Poin...\n",
      "19    NYC-Manhattan Community District 4 & 5--Chelse...\n",
      "23    NYC-Manhattan Community District 1 & 2--Batter...\n",
      "Name: Qualifying Name, dtype: object\n",
      "5     3603705\n",
      "11    3603710\n",
      "19    3603807\n",
      "23    3603810\n",
      "Name: FIPS, dtype: int64\n"
     ]
    }
   ],
   "source": [
    "# How many community districts are in file? \n",
    "print 'Unique CD'\n",
    "print len(df_infr['Qualifying Name'].unique())\n",
    "print len(df_infr['FIPS'].unique())\n",
    "\n",
    "print 'Duplicated CD'\n",
    "print sum(df_infr['Qualifying Name'].duplicated())\n",
    "print sum(df_infr['FIPS'].duplicated())\n",
    "\n",
    "print df_infr['Qualifying Name'][df_infr['Qualifying Name'].duplicated()]\n",
    "print df_infr['FIPS'][df_infr['FIPS'].duplicated()]"
   ]
  },
  {
   "cell_type": "code",
   "execution_count": 31,
   "metadata": {
    "collapsed": false
   },
   "outputs": [
    {
     "name": "stdout",
     "output_type": "stream",
     "text": [
      "(59, 31)\n",
      "(55, 31)\n"
     ]
    }
   ],
   "source": [
    "print df_infr.shape\n",
    "df_infr.drop_duplicates(inplace=True)\n",
    "print df_infr.shape"
   ]
  },
  {
   "cell_type": "code",
   "execution_count": 32,
   "metadata": {
    "collapsed": false
   },
   "outputs": [
    {
     "data": {
      "text/html": [
       "<div>\n",
       "<table border=\"1\" class=\"dataframe\">\n",
       "  <thead>\n",
       "    <tr style=\"text-align: right;\">\n",
       "      <th></th>\n",
       "      <th>FIPS</th>\n",
       "      <th>Households</th>\n",
       "      <th>Households: Has A Computer</th>\n",
       "      <th>Households: With Dial-Up Internet Subscription Alone</th>\n",
       "      <th>Households: With A Broadband Internet Subscription</th>\n",
       "      <th>Households: Without An Internet Subscription</th>\n",
       "      <th>Households: No Computer</th>\n",
       "    </tr>\n",
       "  </thead>\n",
       "  <tbody>\n",
       "    <tr>\n",
       "      <th>0</th>\n",
       "      <td>3603701</td>\n",
       "      <td>42035</td>\n",
       "      <td>35048</td>\n",
       "      <td>404</td>\n",
       "      <td>30943</td>\n",
       "      <td>3701</td>\n",
       "      <td>6987</td>\n",
       "    </tr>\n",
       "    <tr>\n",
       "      <th>1</th>\n",
       "      <td>3603702</td>\n",
       "      <td>44830</td>\n",
       "      <td>36700</td>\n",
       "      <td>178</td>\n",
       "      <td>31435</td>\n",
       "      <td>5087</td>\n",
       "      <td>8130</td>\n",
       "    </tr>\n",
       "    <tr>\n",
       "      <th>2</th>\n",
       "      <td>3603703</td>\n",
       "      <td>47050</td>\n",
       "      <td>38700</td>\n",
       "      <td>158</td>\n",
       "      <td>32333</td>\n",
       "      <td>6209</td>\n",
       "      <td>8350</td>\n",
       "    </tr>\n",
       "    <tr>\n",
       "      <th>3</th>\n",
       "      <td>3603704</td>\n",
       "      <td>44922</td>\n",
       "      <td>37237</td>\n",
       "      <td>122</td>\n",
       "      <td>31278</td>\n",
       "      <td>5837</td>\n",
       "      <td>7685</td>\n",
       "    </tr>\n",
       "    <tr>\n",
       "      <th>4</th>\n",
       "      <td>3603705</td>\n",
       "      <td>57556</td>\n",
       "      <td>42576</td>\n",
       "      <td>88</td>\n",
       "      <td>33408</td>\n",
       "      <td>9080</td>\n",
       "      <td>14980</td>\n",
       "    </tr>\n",
       "  </tbody>\n",
       "</table>\n",
       "</div>"
      ],
      "text/plain": [
       "      FIPS  Households  Households: Has A Computer  \\\n",
       "0  3603701       42035                       35048   \n",
       "1  3603702       44830                       36700   \n",
       "2  3603703       47050                       38700   \n",
       "3  3603704       44922                       37237   \n",
       "4  3603705       57556                       42576   \n",
       "\n",
       "   Households: With Dial-Up Internet Subscription Alone  \\\n",
       "0                                                404      \n",
       "1                                                178      \n",
       "2                                                158      \n",
       "3                                                122      \n",
       "4                                                 88      \n",
       "\n",
       "   Households: With A Broadband Internet Subscription  \\\n",
       "0                                              30943    \n",
       "1                                              31435    \n",
       "2                                              32333    \n",
       "3                                              31278    \n",
       "4                                              33408    \n",
       "\n",
       "   Households: Without An Internet Subscription  Households: No Computer  \n",
       "0                                          3701                     6987  \n",
       "1                                          5087                     8130  \n",
       "2                                          6209                     8350  \n",
       "3                                          5837                     7685  \n",
       "4                                          9080                    14980  "
      ]
     },
     "execution_count": 32,
     "metadata": {},
     "output_type": "execute_result"
    }
   ],
   "source": [
    "# Manipulate data to get some information on internet/broadband useage by Community District\n",
    "# Aggregate the mobile subscription data\n",
    "# Aggregate internet type by high and low connections\n",
    "\n",
    "infrClean = df_infr.loc[:,['FIPS',\n",
    " 'Households',\n",
    " 'Households: Has A Computer',\n",
    " 'Households: With Dial-Up Internet Subscription Alone',\n",
    " 'Households: With A Broadband Internet Subscription',\n",
    " 'Households: Without An Internet Subscription',\n",
    " 'Households: No Computer']].copy()\n",
    "infrClean.head()"
   ]
  },
  {
   "cell_type": "code",
   "execution_count": 33,
   "metadata": {
    "collapsed": true
   },
   "outputs": [],
   "source": [
    "# Aggregate internet type by high and low connections"
   ]
  },
  {
   "cell_type": "code",
   "execution_count": 34,
   "metadata": {
    "collapsed": true
   },
   "outputs": [],
   "source": [
    "# Save data frame "
   ]
  },
  {
   "cell_type": "markdown",
   "metadata": {},
   "source": [
    "# 5. Inform your results by linking datasets\n",
    "Now you want to link the three data frames to produce summary statistics for Community Districts which show a high number of complaints vs. Community Districts which show a lower number of complaints. Please keep in mind that the identifiers used for the linkage (Community Dostrict IDs) should be recored the same way. Use regular expressions to harmonize the identifiers if possible. The identifiers should look like BK01, BK02, etc.\n",
    "https://docs.python.org/2/library/re.html"
   ]
  },
  {
   "cell_type": "code",
   "execution_count": 35,
   "metadata": {
    "collapsed": false
   },
   "outputs": [
    {
     "data": {
      "text/html": [
       "<div>\n",
       "<table border=\"1\" class=\"dataframe\">\n",
       "  <thead>\n",
       "    <tr style=\"text-align: right;\">\n",
       "      <th></th>\n",
       "      <th>Complaints</th>\n",
       "      <th>commBoard</th>\n",
       "    </tr>\n",
       "    <tr>\n",
       "      <th>Community Board</th>\n",
       "      <th></th>\n",
       "      <th></th>\n",
       "    </tr>\n",
       "  </thead>\n",
       "  <tbody>\n",
       "    <tr>\n",
       "      <th>01 BRONX</th>\n",
       "      <td>74631</td>\n",
       "      <td>01 BRONX</td>\n",
       "    </tr>\n",
       "    <tr>\n",
       "      <th>01 BROOKLYN</th>\n",
       "      <td>185057</td>\n",
       "      <td>01 BROOKLYN</td>\n",
       "    </tr>\n",
       "    <tr>\n",
       "      <th>01 MANHATTAN</th>\n",
       "      <td>77974</td>\n",
       "      <td>01 MANHATTAN</td>\n",
       "    </tr>\n",
       "    <tr>\n",
       "      <th>01 QUEENS</th>\n",
       "      <td>171484</td>\n",
       "      <td>01 QUEENS</td>\n",
       "    </tr>\n",
       "    <tr>\n",
       "      <th>01 STATEN ISLAND</th>\n",
       "      <td>182713</td>\n",
       "      <td>01 STATEN ISLAND</td>\n",
       "    </tr>\n",
       "  </tbody>\n",
       "</table>\n",
       "</div>"
      ],
      "text/plain": [
       "                  Complaints         commBoard\n",
       "Community Board                               \n",
       "01 BRONX               74631          01 BRONX\n",
       "01 BROOKLYN           185057       01 BROOKLYN\n",
       "01 MANHATTAN           77974      01 MANHATTAN\n",
       "01 QUEENS             171484         01 QUEENS\n",
       "01 STATEN ISLAND      182713  01 STATEN ISLAND"
      ]
     },
     "execution_count": 35,
     "metadata": {},
     "output_type": "execute_result"
    }
   ],
   "source": [
    "# Harmonize identifier of dataframe 1\n",
    "\n",
    "#complaints\n",
    "compByCommDict['commBoard'] = compByCommDict.index\n",
    "compByCommDict.head()"
   ]
  },
  {
   "cell_type": "code",
   "execution_count": 36,
   "metadata": {
    "collapsed": false
   },
   "outputs": [
    {
     "data": {
      "text/html": [
       "<div>\n",
       "<table border=\"1\" class=\"dataframe\">\n",
       "  <thead>\n",
       "    <tr style=\"text-align: right;\">\n",
       "      <th></th>\n",
       "      <th>commBoard</th>\n",
       "      <th>FIPS</th>\n",
       "      <th>educColMore</th>\n",
       "    </tr>\n",
       "  </thead>\n",
       "  <tbody>\n",
       "    <tr>\n",
       "      <th>0</th>\n",
       "      <td>08 BRONX</td>\n",
       "      <td>3603701</td>\n",
       "      <td>63.82</td>\n",
       "    </tr>\n",
       "    <tr>\n",
       "      <th>1</th>\n",
       "      <td>12 BRONX</td>\n",
       "      <td>3603702</td>\n",
       "      <td>48.97</td>\n",
       "    </tr>\n",
       "    <tr>\n",
       "      <th>2</th>\n",
       "      <td>10 BRONX</td>\n",
       "      <td>3603703</td>\n",
       "      <td>52.74</td>\n",
       "    </tr>\n",
       "    <tr>\n",
       "      <th>3</th>\n",
       "      <td>11 BRONX</td>\n",
       "      <td>3603704</td>\n",
       "      <td>49.08</td>\n",
       "    </tr>\n",
       "    <tr>\n",
       "      <th>4</th>\n",
       "      <td>03 BRONX</td>\n",
       "      <td>3603705</td>\n",
       "      <td>35.49</td>\n",
       "    </tr>\n",
       "  </tbody>\n",
       "</table>\n",
       "</div>"
      ],
      "text/plain": [
       "  commBoard     FIPS  educColMore\n",
       "0  08 BRONX  3603701        63.82\n",
       "1  12 BRONX  3603702        48.97\n",
       "2  10 BRONX  3603703        52.74\n",
       "3  11 BRONX  3603704        49.08\n",
       "4  03 BRONX  3603705        35.49"
      ]
     },
     "execution_count": 36,
     "metadata": {},
     "output_type": "execute_result"
    }
   ],
   "source": [
    "#demographics\n",
    "cdPop.head()"
   ]
  },
  {
   "cell_type": "code",
   "execution_count": 37,
   "metadata": {
    "collapsed": false
   },
   "outputs": [
    {
     "data": {
      "text/plain": [
       "59"
      ]
     },
     "execution_count": 37,
     "metadata": {},
     "output_type": "execute_result"
    }
   ],
   "source": [
    "#check if keys are ok\n",
    "sum(compByCommDict.commBoard.isin(cdPop.commBoard))"
   ]
  },
  {
   "cell_type": "code",
   "execution_count": 38,
   "metadata": {
    "collapsed": false
   },
   "outputs": [
    {
     "name": "stdout",
     "output_type": "stream",
     "text": [
      "(59, 4)\n"
     ]
    },
    {
     "data": {
      "text/html": [
       "<div>\n",
       "<table border=\"1\" class=\"dataframe\">\n",
       "  <thead>\n",
       "    <tr style=\"text-align: right;\">\n",
       "      <th></th>\n",
       "      <th>Complaints</th>\n",
       "      <th>commBoard</th>\n",
       "      <th>FIPS</th>\n",
       "      <th>educColMore</th>\n",
       "    </tr>\n",
       "  </thead>\n",
       "  <tbody>\n",
       "    <tr>\n",
       "      <th>0</th>\n",
       "      <td>74631</td>\n",
       "      <td>01 BRONX</td>\n",
       "      <td>3603710</td>\n",
       "      <td>31.77</td>\n",
       "    </tr>\n",
       "    <tr>\n",
       "      <th>1</th>\n",
       "      <td>185057</td>\n",
       "      <td>01 BROOKLYN</td>\n",
       "      <td>3604001</td>\n",
       "      <td>66.25</td>\n",
       "    </tr>\n",
       "    <tr>\n",
       "      <th>2</th>\n",
       "      <td>77974</td>\n",
       "      <td>01 MANHATTAN</td>\n",
       "      <td>3603810</td>\n",
       "      <td>90.86</td>\n",
       "    </tr>\n",
       "    <tr>\n",
       "      <th>3</th>\n",
       "      <td>171484</td>\n",
       "      <td>01 QUEENS</td>\n",
       "      <td>3604101</td>\n",
       "      <td>64.99</td>\n",
       "    </tr>\n",
       "    <tr>\n",
       "      <th>4</th>\n",
       "      <td>182713</td>\n",
       "      <td>01 STATEN ISLAND</td>\n",
       "      <td>3603903</td>\n",
       "      <td>54.46</td>\n",
       "    </tr>\n",
       "  </tbody>\n",
       "</table>\n",
       "</div>"
      ],
      "text/plain": [
       "   Complaints         commBoard     FIPS  educColMore\n",
       "0       74631          01 BRONX  3603710        31.77\n",
       "1      185057       01 BROOKLYN  3604001        66.25\n",
       "2       77974      01 MANHATTAN  3603810        90.86\n",
       "3      171484         01 QUEENS  3604101        64.99\n",
       "4      182713  01 STATEN ISLAND  3603903        54.46"
      ]
     },
     "execution_count": 38,
     "metadata": {},
     "output_type": "execute_result"
    }
   ],
   "source": [
    "#merge data\n",
    "mergeData = pd.merge(left = compByCommDict, right=cdPop, how = 'left', on = 'commBoard')\n",
    "print mergeData.shape\n",
    "mergeData.head()"
   ]
  },
  {
   "cell_type": "code",
   "execution_count": 39,
   "metadata": {
    "collapsed": false
   },
   "outputs": [
    {
     "data": {
      "text/html": [
       "<div>\n",
       "<table border=\"1\" class=\"dataframe\">\n",
       "  <thead>\n",
       "    <tr style=\"text-align: right;\">\n",
       "      <th></th>\n",
       "      <th>FIPS</th>\n",
       "      <th>Households</th>\n",
       "      <th>Households: Has A Computer</th>\n",
       "      <th>Households: With Dial-Up Internet Subscription Alone</th>\n",
       "      <th>Households: With A Broadband Internet Subscription</th>\n",
       "      <th>Households: Without An Internet Subscription</th>\n",
       "      <th>Households: No Computer</th>\n",
       "    </tr>\n",
       "  </thead>\n",
       "  <tbody>\n",
       "    <tr>\n",
       "      <th>0</th>\n",
       "      <td>3603701</td>\n",
       "      <td>42035</td>\n",
       "      <td>35048</td>\n",
       "      <td>404</td>\n",
       "      <td>30943</td>\n",
       "      <td>3701</td>\n",
       "      <td>6987</td>\n",
       "    </tr>\n",
       "    <tr>\n",
       "      <th>1</th>\n",
       "      <td>3603702</td>\n",
       "      <td>44830</td>\n",
       "      <td>36700</td>\n",
       "      <td>178</td>\n",
       "      <td>31435</td>\n",
       "      <td>5087</td>\n",
       "      <td>8130</td>\n",
       "    </tr>\n",
       "    <tr>\n",
       "      <th>2</th>\n",
       "      <td>3603703</td>\n",
       "      <td>47050</td>\n",
       "      <td>38700</td>\n",
       "      <td>158</td>\n",
       "      <td>32333</td>\n",
       "      <td>6209</td>\n",
       "      <td>8350</td>\n",
       "    </tr>\n",
       "    <tr>\n",
       "      <th>3</th>\n",
       "      <td>3603704</td>\n",
       "      <td>44922</td>\n",
       "      <td>37237</td>\n",
       "      <td>122</td>\n",
       "      <td>31278</td>\n",
       "      <td>5837</td>\n",
       "      <td>7685</td>\n",
       "    </tr>\n",
       "    <tr>\n",
       "      <th>4</th>\n",
       "      <td>3603705</td>\n",
       "      <td>57556</td>\n",
       "      <td>42576</td>\n",
       "      <td>88</td>\n",
       "      <td>33408</td>\n",
       "      <td>9080</td>\n",
       "      <td>14980</td>\n",
       "    </tr>\n",
       "  </tbody>\n",
       "</table>\n",
       "</div>"
      ],
      "text/plain": [
       "      FIPS  Households  Households: Has A Computer  \\\n",
       "0  3603701       42035                       35048   \n",
       "1  3603702       44830                       36700   \n",
       "2  3603703       47050                       38700   \n",
       "3  3603704       44922                       37237   \n",
       "4  3603705       57556                       42576   \n",
       "\n",
       "   Households: With Dial-Up Internet Subscription Alone  \\\n",
       "0                                                404      \n",
       "1                                                178      \n",
       "2                                                158      \n",
       "3                                                122      \n",
       "4                                                 88      \n",
       "\n",
       "   Households: With A Broadband Internet Subscription  \\\n",
       "0                                              30943    \n",
       "1                                              31435    \n",
       "2                                              32333    \n",
       "3                                              31278    \n",
       "4                                              33408    \n",
       "\n",
       "   Households: Without An Internet Subscription  Households: No Computer  \n",
       "0                                          3701                     6987  \n",
       "1                                          5087                     8130  \n",
       "2                                          6209                     8350  \n",
       "3                                          5837                     7685  \n",
       "4                                          9080                    14980  "
      ]
     },
     "execution_count": 39,
     "metadata": {},
     "output_type": "execute_result"
    }
   ],
   "source": [
    "# Harmonize identifier of dataframe 2\n",
    "#Merge data\n",
    "#infraestructure\n",
    "infrClean.head()\n"
   ]
  },
  {
   "cell_type": "code",
   "execution_count": 40,
   "metadata": {
    "collapsed": false
   },
   "outputs": [
    {
     "data": {
      "text/plain": [
       "59"
      ]
     },
     "execution_count": 40,
     "metadata": {},
     "output_type": "execute_result"
    }
   ],
   "source": [
    "sum(mergeData.FIPS.isin(infrClean.FIPS))"
   ]
  },
  {
   "cell_type": "code",
   "execution_count": 41,
   "metadata": {
    "collapsed": false
   },
   "outputs": [
    {
     "name": "stdout",
     "output_type": "stream",
     "text": [
      "(59, 10)\n"
     ]
    },
    {
     "data": {
      "text/html": [
       "<div>\n",
       "<table border=\"1\" class=\"dataframe\">\n",
       "  <thead>\n",
       "    <tr style=\"text-align: right;\">\n",
       "      <th></th>\n",
       "      <th>Complaints</th>\n",
       "      <th>commBoard</th>\n",
       "      <th>FIPS</th>\n",
       "      <th>educColMore</th>\n",
       "      <th>Households</th>\n",
       "      <th>Households: Has A Computer</th>\n",
       "      <th>Households: With Dial-Up Internet Subscription Alone</th>\n",
       "      <th>Households: With A Broadband Internet Subscription</th>\n",
       "      <th>Households: Without An Internet Subscription</th>\n",
       "      <th>Households: No Computer</th>\n",
       "    </tr>\n",
       "  </thead>\n",
       "  <tbody>\n",
       "    <tr>\n",
       "      <th>0</th>\n",
       "      <td>74631</td>\n",
       "      <td>01 BRONX</td>\n",
       "      <td>3603710</td>\n",
       "      <td>31.77</td>\n",
       "      <td>52191</td>\n",
       "      <td>39141</td>\n",
       "      <td>0</td>\n",
       "      <td>30958</td>\n",
       "      <td>8183</td>\n",
       "      <td>13050</td>\n",
       "    </tr>\n",
       "    <tr>\n",
       "      <th>1</th>\n",
       "      <td>185057</td>\n",
       "      <td>01 BROOKLYN</td>\n",
       "      <td>3604001</td>\n",
       "      <td>66.25</td>\n",
       "      <td>62990</td>\n",
       "      <td>52660</td>\n",
       "      <td>449</td>\n",
       "      <td>46148</td>\n",
       "      <td>6063</td>\n",
       "      <td>10330</td>\n",
       "    </tr>\n",
       "    <tr>\n",
       "      <th>2</th>\n",
       "      <td>77974</td>\n",
       "      <td>01 MANHATTAN</td>\n",
       "      <td>3603810</td>\n",
       "      <td>90.86</td>\n",
       "      <td>83976</td>\n",
       "      <td>79890</td>\n",
       "      <td>132</td>\n",
       "      <td>74339</td>\n",
       "      <td>5419</td>\n",
       "      <td>4086</td>\n",
       "    </tr>\n",
       "    <tr>\n",
       "      <th>3</th>\n",
       "      <td>171484</td>\n",
       "      <td>01 QUEENS</td>\n",
       "      <td>3604101</td>\n",
       "      <td>64.99</td>\n",
       "      <td>75758</td>\n",
       "      <td>66023</td>\n",
       "      <td>277</td>\n",
       "      <td>60733</td>\n",
       "      <td>5013</td>\n",
       "      <td>9735</td>\n",
       "    </tr>\n",
       "    <tr>\n",
       "      <th>4</th>\n",
       "      <td>182713</td>\n",
       "      <td>01 STATEN ISLAND</td>\n",
       "      <td>3603903</td>\n",
       "      <td>54.46</td>\n",
       "      <td>62047</td>\n",
       "      <td>50159</td>\n",
       "      <td>134</td>\n",
       "      <td>46362</td>\n",
       "      <td>3663</td>\n",
       "      <td>11888</td>\n",
       "    </tr>\n",
       "  </tbody>\n",
       "</table>\n",
       "</div>"
      ],
      "text/plain": [
       "   Complaints         commBoard     FIPS  educColMore  Households  \\\n",
       "0       74631          01 BRONX  3603710        31.77       52191   \n",
       "1      185057       01 BROOKLYN  3604001        66.25       62990   \n",
       "2       77974      01 MANHATTAN  3603810        90.86       83976   \n",
       "3      171484         01 QUEENS  3604101        64.99       75758   \n",
       "4      182713  01 STATEN ISLAND  3603903        54.46       62047   \n",
       "\n",
       "   Households: Has A Computer  \\\n",
       "0                       39141   \n",
       "1                       52660   \n",
       "2                       79890   \n",
       "3                       66023   \n",
       "4                       50159   \n",
       "\n",
       "   Households: With Dial-Up Internet Subscription Alone  \\\n",
       "0                                                  0      \n",
       "1                                                449      \n",
       "2                                                132      \n",
       "3                                                277      \n",
       "4                                                134      \n",
       "\n",
       "   Households: With A Broadband Internet Subscription  \\\n",
       "0                                              30958    \n",
       "1                                              46148    \n",
       "2                                              74339    \n",
       "3                                              60733    \n",
       "4                                              46362    \n",
       "\n",
       "   Households: Without An Internet Subscription  Households: No Computer  \n",
       "0                                          8183                    13050  \n",
       "1                                          6063                    10330  \n",
       "2                                          5419                     4086  \n",
       "3                                          5013                     9735  \n",
       "4                                          3663                    11888  "
      ]
     },
     "execution_count": 41,
     "metadata": {},
     "output_type": "execute_result"
    }
   ],
   "source": [
    "mergeData = pd.merge(left = mergeData, right=infrClean, how = 'left', on = 'FIPS')\n",
    "print mergeData.shape\n",
    "mergeData.head()"
   ]
  },
  {
   "cell_type": "code",
   "execution_count": 42,
   "metadata": {
    "collapsed": false
   },
   "outputs": [
    {
     "data": {
      "text/html": [
       "<div>\n",
       "<table border=\"1\" class=\"dataframe\">\n",
       "  <thead>\n",
       "    <tr style=\"text-align: right;\">\n",
       "      <th></th>\n",
       "      <th>Complaints</th>\n",
       "      <th>commBoard</th>\n",
       "      <th>FIPS</th>\n",
       "      <th>educColMore</th>\n",
       "      <th>Households</th>\n",
       "      <th>Households: Has A Computer</th>\n",
       "      <th>Households: With Dial-Up Internet Subscription Alone</th>\n",
       "      <th>Households: With A Broadband Internet Subscription</th>\n",
       "      <th>Households: Without An Internet Subscription</th>\n",
       "      <th>Households: No Computer</th>\n",
       "    </tr>\n",
       "  </thead>\n",
       "  <tbody>\n",
       "    <tr>\n",
       "      <th>0</th>\n",
       "      <td>74631</td>\n",
       "      <td>01 BRONX</td>\n",
       "      <td>3603710</td>\n",
       "      <td>31.77</td>\n",
       "      <td>52191</td>\n",
       "      <td>39141</td>\n",
       "      <td>0</td>\n",
       "      <td>30958</td>\n",
       "      <td>8183</td>\n",
       "      <td>13050</td>\n",
       "    </tr>\n",
       "    <tr>\n",
       "      <th>1</th>\n",
       "      <td>185057</td>\n",
       "      <td>01 BROOKLYN</td>\n",
       "      <td>3604001</td>\n",
       "      <td>66.25</td>\n",
       "      <td>62990</td>\n",
       "      <td>52660</td>\n",
       "      <td>449</td>\n",
       "      <td>46148</td>\n",
       "      <td>6063</td>\n",
       "      <td>10330</td>\n",
       "    </tr>\n",
       "    <tr>\n",
       "      <th>2</th>\n",
       "      <td>77974</td>\n",
       "      <td>01 MANHATTAN</td>\n",
       "      <td>3603810</td>\n",
       "      <td>90.86</td>\n",
       "      <td>83976</td>\n",
       "      <td>79890</td>\n",
       "      <td>132</td>\n",
       "      <td>74339</td>\n",
       "      <td>5419</td>\n",
       "      <td>4086</td>\n",
       "    </tr>\n",
       "    <tr>\n",
       "      <th>3</th>\n",
       "      <td>171484</td>\n",
       "      <td>01 QUEENS</td>\n",
       "      <td>3604101</td>\n",
       "      <td>64.99</td>\n",
       "      <td>75758</td>\n",
       "      <td>66023</td>\n",
       "      <td>277</td>\n",
       "      <td>60733</td>\n",
       "      <td>5013</td>\n",
       "      <td>9735</td>\n",
       "    </tr>\n",
       "    <tr>\n",
       "      <th>4</th>\n",
       "      <td>182713</td>\n",
       "      <td>01 STATEN ISLAND</td>\n",
       "      <td>3603903</td>\n",
       "      <td>54.46</td>\n",
       "      <td>62047</td>\n",
       "      <td>50159</td>\n",
       "      <td>134</td>\n",
       "      <td>46362</td>\n",
       "      <td>3663</td>\n",
       "      <td>11888</td>\n",
       "    </tr>\n",
       "  </tbody>\n",
       "</table>\n",
       "</div>"
      ],
      "text/plain": [
       "   Complaints         commBoard     FIPS  educColMore  Households  \\\n",
       "0       74631          01 BRONX  3603710        31.77       52191   \n",
       "1      185057       01 BROOKLYN  3604001        66.25       62990   \n",
       "2       77974      01 MANHATTAN  3603810        90.86       83976   \n",
       "3      171484         01 QUEENS  3604101        64.99       75758   \n",
       "4      182713  01 STATEN ISLAND  3603903        54.46       62047   \n",
       "\n",
       "   Households: Has A Computer  \\\n",
       "0                       39141   \n",
       "1                       52660   \n",
       "2                       79890   \n",
       "3                       66023   \n",
       "4                       50159   \n",
       "\n",
       "   Households: With Dial-Up Internet Subscription Alone  \\\n",
       "0                                                  0      \n",
       "1                                                449      \n",
       "2                                                132      \n",
       "3                                                277      \n",
       "4                                                134      \n",
       "\n",
       "   Households: With A Broadband Internet Subscription  \\\n",
       "0                                              30958    \n",
       "1                                              46148    \n",
       "2                                              74339    \n",
       "3                                              60733    \n",
       "4                                              46362    \n",
       "\n",
       "   Households: Without An Internet Subscription  Households: No Computer  \n",
       "0                                          8183                    13050  \n",
       "1                                          6063                    10330  \n",
       "2                                          5419                     4086  \n",
       "3                                          5013                     9735  \n",
       "4                                          3663                    11888  "
      ]
     },
     "execution_count": 42,
     "metadata": {},
     "output_type": "execute_result"
    }
   ],
   "source": [
    "mergeData.head()"
   ]
  },
  {
   "cell_type": "code",
   "execution_count": 43,
   "metadata": {
    "collapsed": true
   },
   "outputs": [],
   "source": [
    "mergeData['broadbandP'] =  mergeData['Households: With A Broadband Internet Subscription'] / mergeData.Households * 100\n",
    "mergeData['complaintsP'] = mergeData['Complaints'] / mergeData.Households * 100"
   ]
  },
  {
   "cell_type": "code",
   "execution_count": 44,
   "metadata": {
    "collapsed": false
   },
   "outputs": [
    {
     "data": {
      "text/plain": [
       "<matplotlib.text.Text at 0x7f072cdfa390>"
      ]
     },
     "execution_count": 44,
     "metadata": {},
     "output_type": "execute_result"
    },
    {
     "data": {
      "image/png": "[encoded data removed]",
      "text/plain": [
       "<matplotlib.figure.Figure at 0x7f072cecf250>"
      ]
     },
     "metadata": {},
     "output_type": "display_data"
    }
   ],
   "source": [
    "# Are the demographics and infrastructure different in Community Districts that show more complaints than others?\n",
    "fig = plt.figure(figsize=(16,6))\n",
    "ax1 = fig.add_subplot(1,2,1)\n",
    "ax1.plot(mergeData.educColMore,mergeData.complaintsP,'ro')\n",
    "ax1.set_title('Complaints as % of households vs % of population with college degree or above')\n",
    "ax1.set_xlabel('Population with college degree or above')\n",
    "ax1.set_ylabel('Complaints as % of households')\n",
    "\n",
    "\n",
    "ax2 = fig.add_subplot(1,2,2)\n",
    "ax2.plot(mergeData.broadbandP,mergeData.complaintsP,'bo')\n",
    "ax2.set_title('Complaints as % of households vs % of households with broadband connection')\n",
    "ax2.set_xlabel('% of households with broadband connection')\n",
    "ax2.set_ylabel('Complaints as % of households')"
   ]
  },
  {
   "cell_type": "markdown",
   "metadata": {},
   "source": [
    "## Figure 1\n",
    "Plots show the scatter plot of Complaints as % of households vs % of population with college degree or above (in red) and vs % of households with broadband connection (in blue). There is a pattern showing a curve, wich suggest a polynomial fit would be the best."
   ]
  },
  {
   "cell_type": "code",
   "execution_count": 45,
   "metadata": {
    "collapsed": true
   },
   "outputs": [],
   "source": [
    "mergeData['broadbandP2'] = mergeData['broadbandP'] ** 2\n",
    "mergeData['educColMore2'] = mergeData['educColMore'] ** 2\n"
   ]
  },
  {
   "cell_type": "code",
   "execution_count": 46,
   "metadata": {
    "collapsed": false
   },
   "outputs": [
    {
     "name": "stdout",
     "output_type": "stream",
     "text": [
      "                            OLS Regression Results                            \n",
      "==============================================================================\n",
      "Dep. Variable:            complaintsP   R-squared:                       0.305\n",
      "Model:                            OLS   Adj. R-squared:                  0.280\n",
      "Method:                 Least Squares   F-statistic:                     12.27\n",
      "Date:                Mon, 07 Nov 2016   Prob (F-statistic):           3.81e-05\n",
      "Time:                        13:57:55   Log-Likelihood:                -327.85\n",
      "No. Observations:                  59   AIC:                             661.7\n",
      "Df Residuals:                      56   BIC:                             667.9\n",
      "Df Model:                           2                                         \n",
      "Covariance Type:            nonrobust                                         \n",
      "===============================================================================\n",
      "                  coef    std err          t      P>|t|      [95.0% Conf. Int.]\n",
      "-------------------------------------------------------------------------------\n",
      "Intercept   -1674.0337    480.255     -3.486      0.001     -2636.100  -711.967\n",
      "broadbandP     55.8441     13.323      4.191      0.000        29.154    82.534\n",
      "broadbandP2    -0.3982      0.091     -4.360      0.000        -0.581    -0.215\n",
      "==============================================================================\n",
      "Omnibus:                        2.985   Durbin-Watson:                   2.123\n",
      "Prob(Omnibus):                  0.225   Jarque-Bera (JB):                2.869\n",
      "Skew:                           0.488   Prob(JB):                        0.238\n",
      "Kurtosis:                       2.537   Cond. No.                     3.21e+05\n",
      "==============================================================================\n",
      "\n",
      "Warnings:\n",
      "[1] Standard Errors assume that the covariance matrix of the errors is correctly specified.\n",
      "[2] The condition number is large, 3.21e+05. This might indicate that there are\n",
      "strong multicollinearity or other numerical problems.\n"
     ]
    }
   ],
   "source": [
    "lm1 = smf.ols(formula='complaintsP ~ broadbandP + broadbandP2', data=mergeData).fit()\n",
    "print lm1.summary()"
   ]
  },
  {
   "cell_type": "code",
   "execution_count": 47,
   "metadata": {
    "collapsed": false
   },
   "outputs": [
    {
     "name": "stdout",
     "output_type": "stream",
     "text": [
      "                            OLS Regression Results                            \n",
      "==============================================================================\n",
      "Dep. Variable:            complaintsP   R-squared:                       0.335\n",
      "Model:                            OLS   Adj. R-squared:                  0.311\n",
      "Method:                 Least Squares   F-statistic:                     14.09\n",
      "Date:                Mon, 07 Nov 2016   Prob (F-statistic):           1.10e-05\n",
      "Time:                        13:57:55   Log-Likelihood:                -326.54\n",
      "No. Observations:                  59   AIC:                             659.1\n",
      "Df Residuals:                      56   BIC:                             665.3\n",
      "Df Model:                           2                                         \n",
      "Covariance Type:            nonrobust                                         \n",
      "================================================================================\n",
      "                   coef    std err          t      P>|t|      [95.0% Conf. Int.]\n",
      "--------------------------------------------------------------------------------\n",
      "Intercept      -24.7350    105.704     -0.234      0.816      -236.486   187.016\n",
      "educColMore     11.2434      3.575      3.145      0.003         4.082    18.405\n",
      "educColMore2    -0.1058      0.028     -3.721      0.000        -0.163    -0.049\n",
      "==============================================================================\n",
      "Omnibus:                        2.237   Durbin-Watson:                   2.226\n",
      "Prob(Omnibus):                  0.327   Jarque-Bera (JB):                2.186\n",
      "Skew:                           0.427   Prob(JB):                        0.335\n",
      "Kurtosis:                       2.601   Cond. No.                     5.06e+04\n",
      "==============================================================================\n",
      "\n",
      "Warnings:\n",
      "[1] Standard Errors assume that the covariance matrix of the errors is correctly specified.\n",
      "[2] The condition number is large, 5.06e+04. This might indicate that there are\n",
      "strong multicollinearity or other numerical problems.\n"
     ]
    }
   ],
   "source": [
    "lm2 = smf.ols(formula='complaintsP ~ educColMore + educColMore2', data=mergeData).fit()\n",
    "print lm2.summary()"
   ]
  },
  {
   "cell_type": "code",
   "execution_count": 48,
   "metadata": {
    "collapsed": false
   },
   "outputs": [
    {
     "data": {
      "text/plain": [
       "0.7856754292815975"
      ]
     },
     "execution_count": 48,
     "metadata": {},
     "output_type": "execute_result"
    }
   ],
   "source": [
    "np.corrcoef(mergeData.broadbandP,mergeData.educColMore)[0, 1]\n"
   ]
  },
  {
   "cell_type": "markdown",
   "metadata": {},
   "source": [
    "According to the plots and the models summary, the ammount of complaints by community board (in relation to the amount of households) has its peak in the middle values of the variables taken into accounts. This variables are % of population with college degree or above and vs % of households with broadband connection for each community board. This variables  paint, in a way, the same picture of those community boards (they are highly correlated with each other). One possible conclusion could be that middle classes' neighborhoods are more prone to complain to the 311 than upper classes. "
   ]
  }
 ],
 "metadata": {
  "celltoolbar": "Raw Cell Format",
  "kernelspec": {
   "display_name": "PUI2016_Python2",
   "language": "python",
   "name": "pui2016_python2"
  },
  "language_info": {
   "codemirror_mode": {
    "name": "ipython",
    "version": 2
   },
   "file_extension": ".py",
   "mimetype": "text/x-python",
   "name": "python",
   "nbconvert_exporter": "python",
   "pygments_lexer": "ipython2",
   "version": "2.7.12"
  }
 },
 "nbformat": 4,
 "nbformat_minor": 0
}
