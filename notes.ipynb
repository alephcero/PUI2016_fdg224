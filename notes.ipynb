{
 "cells": [
  {
   "cell_type": "code",
   "execution_count": 1,
   "metadata": {
    "collapsed": true
   },
   "outputs": [],
   "source": [
    "import matplotlib.pyplot as plt\n",
    "import pandas as pd\n",
    "import os\n",
    "import geopandas as gpd\n",
    "from scipy.stats import norm\n",
    "from __future__ import print_function, division"
   ]
  },
  {
   "cell_type": "code",
   "execution_count": null,
   "metadata": {
    "collapsed": true
   },
   "outputs": [],
   "source": [
    "#https://github.com/fedhere/PUI2016_fb55/blob/master/PreMidtermReview.md"
   ]
  },
  {
   "cell_type": "markdown",
   "metadata": {},
   "source": [
    "# Downloads"
   ]
  },
  {
   "cell_type": "code",
   "execution_count": 2,
   "metadata": {
    "collapsed": false
   },
   "outputs": [
    {
     "name": "stderr",
     "output_type": "stream",
     "text": [
      "/home/pipe/anaconda2/lib/python2.7/site-packages/matplotlib/__init__.py:872: UserWarning: axes.color_cycle is deprecated and replaced with axes.prop_cycle; please use the latter.\n",
      "  warnings.warn(self.msg_depr % (key, alt_key))\n",
      "/home/pipe/anaconda2/lib/python2.7/site-packages/matplotlib/__init__.py:872: UserWarning: svg.embed_char_paths is deprecated and replaced with svg.fonttype; please use the latter.\n",
      "  warnings.warn(self.msg_depr % (key, alt_key))\n"
     ]
    }
   ],
   "source": [
    "#download json y abrir. Ejemplo con plot\n",
    "import requests\n",
    "import json\n",
    "\n",
    "url = 'https://s3.amazonaws.com/sb-public/sbg389_matplotlibrc.json' \n",
    "resp = requests.get(url = url)\n",
    "data = json.loads(resp.text)\n",
    "\n",
    "plt.rcParams.update(data)\n"
   ]
  },
  {
   "cell_type": "markdown",
   "metadata": {},
   "source": [
    "# OS operations on files"
   ]
  },
  {
   "cell_type": "code",
   "execution_count": 27,
   "metadata": {
    "collapsed": false
   },
   "outputs": [
    {
     "data": {
      "text/plain": [
       "0"
      ]
     },
     "execution_count": 27,
     "metadata": {},
     "output_type": "execute_result"
    }
   ],
   "source": [
    "#Download data with wget\n",
    "os.system(\"wget https://www1.nyc.gov/assets/planning/download/zip/data-maps/open-data/mn_mappluto_16v1.zip\")\n",
    "\n",
    "#move to PUIDATA\n",
    "os.system(\"mv \" + 'mn_mappluto_16v1.zip ' + os.getenv(\"PUIDATA\"))\n",
    "\n",
    "#change permisions\n",
    "os.system('chmod -R 777 ' + os.getenv(\"PUIDATA\"))\n",
    "\n",
    "#Unzip explicit destination folder\n",
    "os.system('unzip ' + os.getenv(\"PUIDATA\") + \"/\" + \"mn_mappluto_16v1.zip \" +\\\n",
    "'-d ' +  os.getenv(\"PUIDATA\"))\n"
   ]
  },
  {
   "cell_type": "code",
   "execution_count": 30,
   "metadata": {
    "collapsed": false
   },
   "outputs": [
    {
     "data": {
      "text/html": [
       "<div>\n",
       "<table border=\"1\" class=\"dataframe\">\n",
       "  <thead>\n",
       "    <tr style=\"text-align: right;\">\n",
       "      <th></th>\n",
       "      <th>APPBBL</th>\n",
       "      <th>APPDate</th>\n",
       "      <th>Address</th>\n",
       "      <th>AllZoning1</th>\n",
       "      <th>AllZoning2</th>\n",
       "      <th>AreaSource</th>\n",
       "      <th>AssessLand</th>\n",
       "      <th>AssessTot</th>\n",
       "      <th>BBL</th>\n",
       "      <th>BldgArea</th>\n",
       "      <th>...</th>\n",
       "      <th>YearAlter2</th>\n",
       "      <th>YearBuilt</th>\n",
       "      <th>ZMCode</th>\n",
       "      <th>ZipCode</th>\n",
       "      <th>ZoneDist1</th>\n",
       "      <th>ZoneDist2</th>\n",
       "      <th>ZoneDist3</th>\n",
       "      <th>ZoneDist4</th>\n",
       "      <th>ZoneMap</th>\n",
       "      <th>geometry</th>\n",
       "    </tr>\n",
       "  </thead>\n",
       "  <tbody>\n",
       "    <tr>\n",
       "      <th>0</th>\n",
       "      <td>0.000000e+00</td>\n",
       "      <td>None</td>\n",
       "      <td>1592 2 AVENUE</td>\n",
       "      <td>C1-9/TA</td>\n",
       "      <td>None</td>\n",
       "      <td>2</td>\n",
       "      <td>468000.0</td>\n",
       "      <td>1435950.0</td>\n",
       "      <td>1.015450e+09</td>\n",
       "      <td>10885</td>\n",
       "      <td>...</td>\n",
       "      <td>0</td>\n",
       "      <td>1920</td>\n",
       "      <td>None</td>\n",
       "      <td>10028</td>\n",
       "      <td>C1-9</td>\n",
       "      <td>None</td>\n",
       "      <td>None</td>\n",
       "      <td>None</td>\n",
       "      <td>9a</td>\n",
       "      <td>POLYGON ((997277.2344000041 221816.0936000049,...</td>\n",
       "    </tr>\n",
       "    <tr>\n",
       "      <th>1</th>\n",
       "      <td>1.007230e+09</td>\n",
       "      <td>11/30/2006</td>\n",
       "      <td>263 9 AVENUE</td>\n",
       "      <td>C1-5/R8</td>\n",
       "      <td>None</td>\n",
       "      <td>2</td>\n",
       "      <td>539984.0</td>\n",
       "      <td>11879993.0</td>\n",
       "      <td>1.007238e+09</td>\n",
       "      <td>89203</td>\n",
       "      <td>...</td>\n",
       "      <td>0</td>\n",
       "      <td>1914</td>\n",
       "      <td>None</td>\n",
       "      <td>10001</td>\n",
       "      <td>R8</td>\n",
       "      <td>None</td>\n",
       "      <td>None</td>\n",
       "      <td>None</td>\n",
       "      <td>8d</td>\n",
       "      <td>POLYGON ((984164.5626000017 211846.0703999996,...</td>\n",
       "    </tr>\n",
       "  </tbody>\n",
       "</table>\n",
       "<p>2 rows × 90 columns</p>\n",
       "</div>"
      ],
      "text/plain": [
       "         APPBBL     APPDate        Address AllZoning1 AllZoning2 AreaSource  \\\n",
       "0  0.000000e+00        None  1592 2 AVENUE    C1-9/TA       None          2   \n",
       "1  1.007230e+09  11/30/2006   263 9 AVENUE    C1-5/R8       None          2   \n",
       "\n",
       "   AssessLand   AssessTot           BBL  BldgArea  \\\n",
       "0    468000.0   1435950.0  1.015450e+09     10885   \n",
       "1    539984.0  11879993.0  1.007238e+09     89203   \n",
       "\n",
       "                         ...                         YearAlter2  YearBuilt  \\\n",
       "0                        ...                                  0       1920   \n",
       "1                        ...                                  0       1914   \n",
       "\n",
       "   ZMCode  ZipCode  ZoneDist1 ZoneDist2 ZoneDist3 ZoneDist4  ZoneMap  \\\n",
       "0    None    10028       C1-9      None      None      None       9a   \n",
       "1    None    10001         R8      None      None      None       8d   \n",
       "\n",
       "                                            geometry  \n",
       "0  POLYGON ((997277.2344000041 221816.0936000049,...  \n",
       "1  POLYGON ((984164.5626000017 211846.0703999996,...  \n",
       "\n",
       "[2 rows x 90 columns]"
      ]
     },
     "execution_count": 30,
     "metadata": {},
     "output_type": "execute_result"
    }
   ],
   "source": [
    "bsize = gpd.read_file(os.getenv('PUIDATA') + \"/MNMapPLUTO.shp\")\n",
    "nrg = pd.read_csv(\"https://data.cityofnewyork.us/api/views/rgfe-8y2z/rows.csv\")\n",
    "bsize.head(2)"
   ]
  },
  {
   "cell_type": "markdown",
   "metadata": {},
   "source": [
    "# BASIC DATA WRANGLING"
   ]
  },
  {
   "cell_type": "code",
   "execution_count": 43,
   "metadata": {
    "collapsed": false
   },
   "outputs": [],
   "source": [
    "#RENOMBRAR\n",
    "nrg.rename(columns={'NYC Borough, Block, and Lot (BBL)':'BBL'}, inplace= True)\n",
    "\n",
    "#TO NUMERIC, remplaza con NaNS el coerce\n",
    "nrg['siteEUI'] = pd.to_numeric(nrg['Site EUI(kBtu/ft2)'], errors = 'coerce')\n",
    "nrg['floorArea']= pd.to_numeric(nrg['Reported Property Floor Area (Building(s)) (ft²)'], errors = 'coerce')\n",
    "\n",
    "#SELECT\n",
    "nrg = nrg.copy().loc[:,['BBL','siteEUI','floorArea']]\n",
    "\n"
   ]
  },
  {
   "cell_type": "code",
   "execution_count": 45,
   "metadata": {
    "collapsed": false
   },
   "outputs": [
    {
     "name": "stdout",
     "output_type": "stream",
     "text": [
      "(16170, 3)\n",
      "(11457, 3)\n"
     ]
    }
   ],
   "source": [
    "#DROP NA, axis  0 borra filas, 1 columnas\n",
    "#how, any con al menos 1, all tiene que ser todas\n",
    "nrg.dropna(axis=0, how='any', thresh=None, inplace=True)"
   ]
  },
  {
   "cell_type": "code",
   "execution_count": 46,
   "metadata": {
    "collapsed": true
   },
   "outputs": [],
   "source": [
    "#SELECT BROADCASTING\n",
    "#create a boolean array to use as mask\n",
    "nrgMaskQ = (bblnrgdata.totalEnergy > 1000) & (bblnrgdata.totalEnergy < bblnrgdata.totalEnergy.quantile(.98))\n",
    "unitsMaskQ = (bblnrgdata.Units > 1) & (bblnrgdata.Units < bblnrgdata.Units.quantile(.99))\n",
    "#join both criteria into one\n",
    "joinMasks = unitsMaskQ & nrgMaskQ\n",
    "\n",
    "#select\n",
    "bblnrgdata = bblnrgdata.loc[joinMasks,:].copy()\n"
   ]
  },
  {
   "cell_type": "markdown",
   "metadata": {},
   "source": [
    "# MERGE"
   ]
  },
  {
   "cell_type": "code",
   "execution_count": null,
   "metadata": {
    "collapsed": true
   },
   "outputs": [],
   "source": [
    "#merge data sets by BBL keeping all rows from the energy data set\n",
    "bblnrgdata = pd.merge(left = nrg, right=bsize, how = 'left', on = 'BBL')\n",
    "\n",
    "#\"how\" PARAMETERS:\n",
    "#how : {‘left’, ‘right’, ‘outer’, ‘inner’}, default ‘inner’\n",
    "#left: use only keys from left frame (SQL: left outer join)\n",
    "#right: use only keys from right frame (SQL: right outer join)\n",
    "#outer: use union of keys from both frames (SQL: full outer join)\n",
    "#inner: use intersection of keys from both frames (SQL: inner join)\n",
    "#https://github.com/fedhere/UInotebooks/blob/master/dataWrangling/PandasDataWrangling-Chap7.ipynb"
   ]
  },
  {
   "cell_type": "markdown",
   "metadata": {},
   "source": [
    "# DISTRIBUTION TABLES"
   ]
  },
  {
   "cell_type": "code",
   "execution_count": 50,
   "metadata": {
    "collapsed": false
   },
   "outputs": [
    {
     "data": {
      "text/plain": [
       "0.30853753872598688"
      ]
     },
     "execution_count": 50,
     "metadata": {},
     "output_type": "execute_result"
    }
   ],
   "source": [
    "#AREAS BAJO LA CURVA DE LA NOMAL\n",
    "\n",
    "#Survival function 1 - cdf, but sf is sometimes more accurate). Area de la curva a la derecha del valor \n",
    "#sf(x, loc=0, scale=1), 1.65 es el z para 95%, esto me devuelve 5%\n",
    "norm.sf(1.65, loc = 0, scale = 1,)"
   ]
  },
  {
   "cell_type": "code",
   "execution_count": 55,
   "metadata": {
    "collapsed": false
   },
   "outputs": [
    {
     "data": {
      "text/plain": [
       "1.6448536269514722"
      ]
     },
     "execution_count": 55,
     "metadata": {},
     "output_type": "execute_result"
    }
   ],
   "source": [
    "#Percent point function (inverse of cdf — percentiles). Me va el valor de Z dada un area bajo la curva. \n",
    "#Area total, si quiero a dos colas, divido alpha por 2: 5% / 2 es 0.975 o 1 -  (alpha/2)\n",
    "#http://images.slideplayer.es/17/5511464/slides/slide_10.jpg\n",
    "norm.ppf(.95, loc = 0, scale = 1) \n"
   ]
  },
  {
   "cell_type": "markdown",
   "metadata": {
    "collapsed": true
   },
   "source": [
    "# Changing columns"
   ]
  },
  {
   "cell_type": "code",
   "execution_count": 32,
   "metadata": {
    "collapsed": false
   },
   "outputs": [],
   "source": [
    "#combining with pd.to_numeric, pd.rename\n",
    "\n",
    "#Map + lambda\n",
    "delayData['departLagDay'] = delayData.departLag.map(lambda x: x.day)\n"
   ]
  },
  {
   "cell_type": "markdown",
   "metadata": {},
   "source": [
    "# REGRESSION"
   ]
  },
  {
   "cell_type": "code",
   "execution_count": null,
   "metadata": {
    "collapsed": true
   },
   "outputs": [],
   "source": [
    "import statsmodels.formula.api as smf\n",
    "mod = smf.ols(formula='Lottery ~ Literacy + Wealth + Region', data=df)\n",
    "res = mod.fit()\n",
    "print res.summary()\n",
    "print res.params\n",
    "\n",
    "#With out intercept\n",
    "res = smf.ols(formula='Lottery ~ Literacy + Wealth + C(Region) -1 ', data=df).fit()\n"
   ]
  },
  {
   "cell_type": "markdown",
   "metadata": {},
   "source": [
    "# PLOTS"
   ]
  },
  {
   "cell_type": "code",
   "execution_count": null,
   "metadata": {
    "collapsed": true
   },
   "outputs": [],
   "source": [
    "#create a figure with size\n",
    "fig = plt.figure(figsize=(8,6))\n",
    "\n",
    "#give axis to that figure and position on the grid\n",
    "ax = fig.add_subplot(1,1,1)\n",
    "\n",
    "#generate de plot to the axis\n",
    "ax.plot(x_variable,y_variable,'bo')\n",
    "\n",
    "#set labels and title\n",
    "ax.set_title('Total energy distribution')\n",
    "ax.set_xlabel('VAR NAME X')\n",
    "ax.set_Ylabel('VAR NAME y')\n",
    "\n",
    "#GIVE A CAPTION"
   ]
  },
  {
   "cell_type": "code",
   "execution_count": null,
   "metadata": {
    "collapsed": true
   },
   "outputs": [],
   "source": [
    "#plotting lines\n",
    "\n",
    "#BY generating new X and the equations\n",
    "incomes = np.linspace(0,60000,100)\n",
    "incomesFitedModel = lm.params[0] + incomes * lm.params[1]\n",
    "\n",
    "#or\n",
    "\n",
    "def lmPolFited (x):\n",
    "    return lmPol.params[0] + x * lmPol.params[1] + (x**2) * lmPol.params[2]\n",
    "\n",
    "xNew = np.linspace(0,3.5, 100)\n",
    "y_fit = map(lmPolFited,xNew)\n",
    "ax.plot(xNew,y_fit,'r-')\n",
    "\n",
    "\n",
    "\n",
    "#BY passing two points\n",
    "ax.plot([x0,y0], [x1,y1], 'k--', label = 'equality line')\n",
    "\n",
    "#range of x from 0 to 3.5\n",
    "ax.plot([0,3.5],[lmEvU.params[0],lmEvU.params[0] + 3.5 * lmEvU.params[1]],'r')\n",
    "\n",
    "\n",
    "\n",
    "\n",
    "#HISTOGRAMS for continues variables with probability on the Y axis, give the amount of bins\n",
    "plt.hist(vector, bins=30, color='red')\n",
    "\n",
    "#BARPLOT\n",
    "    ##with pandas y groupby counts (puede ser count_nonzero), y genera un plot con pd.plot\n",
    "ax = ((df['date'][df['gender'] == 1].groupby([df['date'].dt.weekday]).count()))\\\n",
    ".plot(kind=\"bar\",\n",
    "      color='SteelBlue',\n",
    "      label='male')\n",
    "\n",
    "\n",
    "    ##with bins based on values of the variable \n",
    "#create values for cuting the variable in categories\n",
    "bins = np.arange(15, 99, 5)\n",
    "\n",
    "#The group by along with the cumsim will get the cumulative count for each of the bins\n",
    "cs=df.age.groupby(pd.cut(df.age, bins)).agg([count_nonzero]).cumsum()"
   ]
  },
  {
   "cell_type": "markdown",
   "metadata": {},
   "source": [
    "# TEST"
   ]
  },
  {
   "cell_type": "markdown",
   "metadata": {},
   "source": [
    "## ChiSquare "
   ]
  },
  {
   "cell_type": "code",
   "execution_count": 36,
   "metadata": {
    "collapsed": true
   },
   "outputs": [],
   "source": [
    "#http://www.psychstat.missouristate.edu/introbook/sbk28m.htm\n",
    "import numpy as np\n",
    "\n",
    "def evalChisq(values):\n",
    "    '''\n",
    "    Takes the observed table in absoluts, \n",
    "    as a array of arrays (one for each row, and the elements are the cols)\n",
    "    returns a value of the CHI2 statistic\n",
    "    '''\n",
    "    values = np.array(values)\n",
    "    E = np.empty_like(values)\n",
    "    for j in range(len(values[0])):\n",
    "        for i in range(2):\n",
    "            \n",
    "            E[i][j] = ((values[i,:].sum() * values[:,j].sum()) / \n",
    "                        (values).sum())\n",
    "    return ((values - E)**2 / E).sum()\n",
    "\n",
    "\n",
    "sample_values_ceojob  = np.array([[0.701 * 564, 0.299 * 564], [0.0305 * 409, 0.965 * 409]])\n",
    "\n",
    "chisq_ceojob = evalChisq(sample_values_ceojob)\n"
   ]
  },
  {
   "cell_type": "markdown",
   "metadata": {},
   "source": [
    "## Goodness of fit"
   ]
  },
  {
   "cell_type": "code",
   "execution_count": null,
   "metadata": {
    "collapsed": true
   },
   "outputs": [],
   "source": [
    "#https://github.com/fedhere/UInotebooks/blob/master/slides/UI5_PUI2016.pdf\n",
    "\n",
    "#two sample ks test: two samples come from the same distirbution\n",
    "\n",
    "#This is a two-sided test for the null hypothesis that 2 independent samples are drawn from the same continuous distribution.\n",
    "#Parameters: a, b : sequence of 1-D ndarrays\n",
    "scipy.stats.ks_2samp(data1, data2)\n",
    "        \n",
    "#ks test: the sample comes from a model. POWER IN THE CORE\n",
    "\n",
    "#rvs : str, array or callable MY DATA\n",
    "#cdf : str or callable DISTRIBUTION TO COMPARE\n",
    "#If a string, it should be the name of a distribution in scipy.stats. \n",
    "\n",
    "scipy.stats.kstest(rvs, cdf, args=(), N=20, alternative='two-sided', mode='approx')[source]\n",
    "#example\n",
    "x = np.linspace(-15, 15, 9)\n",
    "stats.kstest(x, 'norm')\n",
    "\n",
    "\n",
    "\n",
    "\n",
    "#Anderson-Darling test for data coming from a particular distribution. POWER IN THE TAILS\n",
    "\n",
    "#the null hypothesis that a sample is drawn from a population that follows a particular distribution.\n",
    "#x : array_like MY DATA\n",
    "#dist : {‘norm’,’expon’,’logistic’,’gumbel’,’extreme1’}, optional\n",
    "\n",
    "\n",
    "scipy.stats.anderson(x, dist='norm')"
   ]
  }
 ],
 "metadata": {
  "kernelspec": {
   "display_name": "Python [Root]",
   "language": "python",
   "name": "Python [Root]"
  },
  "language_info": {
   "codemirror_mode": {
    "name": "ipython",
    "version": 2
   },
   "file_extension": ".py",
   "mimetype": "text/x-python",
   "name": "python",
   "nbconvert_exporter": "python",
   "pygments_lexer": "ipython2",
   "version": "2.7.12"
  }
 },
 "nbformat": 4,
 "nbformat_minor": 0
}
